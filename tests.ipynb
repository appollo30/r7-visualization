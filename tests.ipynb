{
 "cells": [
  {
   "cell_type": "code",
   "execution_count": 1,
   "metadata": {},
   "outputs": [],
   "source": [
    "import pandas as pd\n",
    "from src.plots import MovementData"
   ]
  },
  {
   "cell_type": "code",
   "execution_count": 2,
   "metadata": {},
   "outputs": [],
   "source": [
    "leo = pd.read_csv(\"data/output/Leo/accelerometer5_data.csv\")\n",
    "matthieu = pd.read_csv(\"data/output/Matthieu/accelerometer4_data.csv\")\n",
    "serge = pd.read_csv(\"data/output/Serge/accelerometer4_data.csv\")\n",
    "\n",
    "movement_data = MovementData([leo],[\"Leo\"])"
   ]
  },
  {
   "cell_type": "code",
   "execution_count": 3,
   "metadata": {},
   "outputs": [
    {
     "data": {
      "text/plain": [
       "['Line', 'Violin', 'Stacked', 'XYZ']"
      ]
     },
     "execution_count": 3,
     "metadata": {},
     "output_type": "execute_result"
    }
   ],
   "source": [
    "plots = movement_data.make_all_plots()\n",
    "list(plots.keys())"
   ]
  },
  {
   "cell_type": "code",
   "execution_count": 4,
   "metadata": {},
   "outputs": [
    {
     "data": {
      "application/vnd.plotly.v1+json": {
       "config": {
        "plotlyServerURL": "https://plot.ly"
       },
       "data": [
        {
         "box": {
          "visible": true
         },
         "line": {
          "color": "#636EFA"
         },
         "meanline": {
          "visible": true
         },
         "name": "Leo",
         "type": "violin",
         "y": {
          "bdata": "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",
          "dtype": "f8"
         }
        }
       ],
       "layout": {
        "template": {
         "data": {
          "bar": [
           {
            "error_x": {
             "color": "#2a3f5f"
            },
            "error_y": {
             "color": "#2a3f5f"
            },
            "marker": {
             "line": {
              "color": "#E5ECF6",
              "width": 0.5
             },
             "pattern": {
              "fillmode": "overlay",
              "size": 10,
              "solidity": 0.2
             }
            },
            "type": "bar"
           }
          ],
          "barpolar": [
           {
            "marker": {
             "line": {
              "color": "#E5ECF6",
              "width": 0.5
             },
             "pattern": {
              "fillmode": "overlay",
              "size": 10,
              "solidity": 0.2
             }
            },
            "type": "barpolar"
           }
          ],
          "carpet": [
           {
            "aaxis": {
             "endlinecolor": "#2a3f5f",
             "gridcolor": "white",
             "linecolor": "white",
             "minorgridcolor": "white",
             "startlinecolor": "#2a3f5f"
            },
            "baxis": {
             "endlinecolor": "#2a3f5f",
             "gridcolor": "white",
             "linecolor": "white",
             "minorgridcolor": "white",
             "startlinecolor": "#2a3f5f"
            },
            "type": "carpet"
           }
          ],
          "choropleth": [
           {
            "colorbar": {
             "outlinewidth": 0,
             "ticks": ""
            },
            "type": "choropleth"
           }
          ],
          "contour": [
           {
            "colorbar": {
             "outlinewidth": 0,
             "ticks": ""
            },
            "colorscale": [
             [
              0,
              "#0d0887"
             ],
             [
              0.1111111111111111,
              "#46039f"
             ],
             [
              0.2222222222222222,
              "#7201a8"
             ],
             [
              0.3333333333333333,
              "#9c179e"
             ],
             [
              0.4444444444444444,
              "#bd3786"
             ],
             [
              0.5555555555555556,
              "#d8576b"
             ],
             [
              0.6666666666666666,
              "#ed7953"
             ],
             [
              0.7777777777777778,
              "#fb9f3a"
             ],
             [
              0.8888888888888888,
              "#fdca26"
             ],
             [
              1,
              "#f0f921"
             ]
            ],
            "type": "contour"
           }
          ],
          "contourcarpet": [
           {
            "colorbar": {
             "outlinewidth": 0,
             "ticks": ""
            },
            "type": "contourcarpet"
           }
          ],
          "heatmap": [
           {
            "colorbar": {
             "outlinewidth": 0,
             "ticks": ""
            },
            "colorscale": [
             [
              0,
              "#0d0887"
             ],
             [
              0.1111111111111111,
              "#46039f"
             ],
             [
              0.2222222222222222,
              "#7201a8"
             ],
             [
              0.3333333333333333,
              "#9c179e"
             ],
             [
              0.4444444444444444,
              "#bd3786"
             ],
             [
              0.5555555555555556,
              "#d8576b"
             ],
             [
              0.6666666666666666,
              "#ed7953"
             ],
             [
              0.7777777777777778,
              "#fb9f3a"
             ],
             [
              0.8888888888888888,
              "#fdca26"
             ],
             [
              1,
              "#f0f921"
             ]
            ],
            "type": "heatmap"
           }
          ],
          "histogram": [
           {
            "marker": {
             "pattern": {
              "fillmode": "overlay",
              "size": 10,
              "solidity": 0.2
             }
            },
            "type": "histogram"
           }
          ],
          "histogram2d": [
           {
            "colorbar": {
             "outlinewidth": 0,
             "ticks": ""
            },
            "colorscale": [
             [
              0,
              "#0d0887"
             ],
             [
              0.1111111111111111,
              "#46039f"
             ],
             [
              0.2222222222222222,
              "#7201a8"
             ],
             [
              0.3333333333333333,
              "#9c179e"
             ],
             [
              0.4444444444444444,
              "#bd3786"
             ],
             [
              0.5555555555555556,
              "#d8576b"
             ],
             [
              0.6666666666666666,
              "#ed7953"
             ],
             [
              0.7777777777777778,
              "#fb9f3a"
             ],
             [
              0.8888888888888888,
              "#fdca26"
             ],
             [
              1,
              "#f0f921"
             ]
            ],
            "type": "histogram2d"
           }
          ],
          "histogram2dcontour": [
           {
            "colorbar": {
             "outlinewidth": 0,
             "ticks": ""
            },
            "colorscale": [
             [
              0,
              "#0d0887"
             ],
             [
              0.1111111111111111,
              "#46039f"
             ],
             [
              0.2222222222222222,
              "#7201a8"
             ],
             [
              0.3333333333333333,
              "#9c179e"
             ],
             [
              0.4444444444444444,
              "#bd3786"
             ],
             [
              0.5555555555555556,
              "#d8576b"
             ],
             [
              0.6666666666666666,
              "#ed7953"
             ],
             [
              0.7777777777777778,
              "#fb9f3a"
             ],
             [
              0.8888888888888888,
              "#fdca26"
             ],
             [
              1,
              "#f0f921"
             ]
            ],
            "type": "histogram2dcontour"
           }
          ],
          "mesh3d": [
           {
            "colorbar": {
             "outlinewidth": 0,
             "ticks": ""
            },
            "type": "mesh3d"
           }
          ],
          "parcoords": [
           {
            "line": {
             "colorbar": {
              "outlinewidth": 0,
              "ticks": ""
             }
            },
            "type": "parcoords"
           }
          ],
          "pie": [
           {
            "automargin": true,
            "type": "pie"
           }
          ],
          "scatter": [
           {
            "fillpattern": {
             "fillmode": "overlay",
             "size": 10,
             "solidity": 0.2
            },
            "type": "scatter"
           }
          ],
          "scatter3d": [
           {
            "line": {
             "colorbar": {
              "outlinewidth": 0,
              "ticks": ""
             }
            },
            "marker": {
             "colorbar": {
              "outlinewidth": 0,
              "ticks": ""
             }
            },
            "type": "scatter3d"
           }
          ],
          "scattercarpet": [
           {
            "marker": {
             "colorbar": {
              "outlinewidth": 0,
              "ticks": ""
             }
            },
            "type": "scattercarpet"
           }
          ],
          "scattergeo": [
           {
            "marker": {
             "colorbar": {
              "outlinewidth": 0,
              "ticks": ""
             }
            },
            "type": "scattergeo"
           }
          ],
          "scattergl": [
           {
            "marker": {
             "colorbar": {
              "outlinewidth": 0,
              "ticks": ""
             }
            },
            "type": "scattergl"
           }
          ],
          "scattermap": [
           {
            "marker": {
             "colorbar": {
              "outlinewidth": 0,
              "ticks": ""
             }
            },
            "type": "scattermap"
           }
          ],
          "scattermapbox": [
           {
            "marker": {
             "colorbar": {
              "outlinewidth": 0,
              "ticks": ""
             }
            },
            "type": "scattermapbox"
           }
          ],
          "scatterpolar": [
           {
            "marker": {
             "colorbar": {
              "outlinewidth": 0,
              "ticks": ""
             }
            },
            "type": "scatterpolar"
           }
          ],
          "scatterpolargl": [
           {
            "marker": {
             "colorbar": {
              "outlinewidth": 0,
              "ticks": ""
             }
            },
            "type": "scatterpolargl"
           }
          ],
          "scatterternary": [
           {
            "marker": {
             "colorbar": {
              "outlinewidth": 0,
              "ticks": ""
             }
            },
            "type": "scatterternary"
           }
          ],
          "surface": [
           {
            "colorbar": {
             "outlinewidth": 0,
             "ticks": ""
            },
            "colorscale": [
             [
              0,
              "#0d0887"
             ],
             [
              0.1111111111111111,
              "#46039f"
             ],
             [
              0.2222222222222222,
              "#7201a8"
             ],
             [
              0.3333333333333333,
              "#9c179e"
             ],
             [
              0.4444444444444444,
              "#bd3786"
             ],
             [
              0.5555555555555556,
              "#d8576b"
             ],
             [
              0.6666666666666666,
              "#ed7953"
             ],
             [
              0.7777777777777778,
              "#fb9f3a"
             ],
             [
              0.8888888888888888,
              "#fdca26"
             ],
             [
              1,
              "#f0f921"
             ]
            ],
            "type": "surface"
           }
          ],
          "table": [
           {
            "cells": {
             "fill": {
              "color": "#EBF0F8"
             },
             "line": {
              "color": "white"
             }
            },
            "header": {
             "fill": {
              "color": "#C8D4E3"
             },
             "line": {
              "color": "white"
             }
            },
            "type": "table"
           }
          ]
         },
         "layout": {
          "annotationdefaults": {
           "arrowcolor": "#2a3f5f",
           "arrowhead": 0,
           "arrowwidth": 1
          },
          "autotypenumbers": "strict",
          "coloraxis": {
           "colorbar": {
            "outlinewidth": 0,
            "ticks": ""
           }
          },
          "colorscale": {
           "diverging": [
            [
             0,
             "#8e0152"
            ],
            [
             0.1,
             "#c51b7d"
            ],
            [
             0.2,
             "#de77ae"
            ],
            [
             0.3,
             "#f1b6da"
            ],
            [
             0.4,
             "#fde0ef"
            ],
            [
             0.5,
             "#f7f7f7"
            ],
            [
             0.6,
             "#e6f5d0"
            ],
            [
             0.7,
             "#b8e186"
            ],
            [
             0.8,
             "#7fbc41"
            ],
            [
             0.9,
             "#4d9221"
            ],
            [
             1,
             "#276419"
            ]
           ],
           "sequential": [
            [
             0,
             "#0d0887"
            ],
            [
             0.1111111111111111,
             "#46039f"
            ],
            [
             0.2222222222222222,
             "#7201a8"
            ],
            [
             0.3333333333333333,
             "#9c179e"
            ],
            [
             0.4444444444444444,
             "#bd3786"
            ],
            [
             0.5555555555555556,
             "#d8576b"
            ],
            [
             0.6666666666666666,
             "#ed7953"
            ],
            [
             0.7777777777777778,
             "#fb9f3a"
            ],
            [
             0.8888888888888888,
             "#fdca26"
            ],
            [
             1,
             "#f0f921"
            ]
           ],
           "sequentialminus": [
            [
             0,
             "#0d0887"
            ],
            [
             0.1111111111111111,
             "#46039f"
            ],
            [
             0.2222222222222222,
             "#7201a8"
            ],
            [
             0.3333333333333333,
             "#9c179e"
            ],
            [
             0.4444444444444444,
             "#bd3786"
            ],
            [
             0.5555555555555556,
             "#d8576b"
            ],
            [
             0.6666666666666666,
             "#ed7953"
            ],
            [
             0.7777777777777778,
             "#fb9f3a"
            ],
            [
             0.8888888888888888,
             "#fdca26"
            ],
            [
             1,
             "#f0f921"
            ]
           ]
          },
          "colorway": [
           "#636efa",
           "#EF553B",
           "#00cc96",
           "#ab63fa",
           "#FFA15A",
           "#19d3f3",
           "#FF6692",
           "#B6E880",
           "#FF97FF",
           "#FECB52"
          ],
          "font": {
           "color": "#2a3f5f"
          },
          "geo": {
           "bgcolor": "white",
           "lakecolor": "white",
           "landcolor": "#E5ECF6",
           "showlakes": true,
           "showland": true,
           "subunitcolor": "white"
          },
          "hoverlabel": {
           "align": "left"
          },
          "hovermode": "closest",
          "mapbox": {
           "style": "light"
          },
          "paper_bgcolor": "white",
          "plot_bgcolor": "#E5ECF6",
          "polar": {
           "angularaxis": {
            "gridcolor": "white",
            "linecolor": "white",
            "ticks": ""
           },
           "bgcolor": "#E5ECF6",
           "radialaxis": {
            "gridcolor": "white",
            "linecolor": "white",
            "ticks": ""
           }
          },
          "scene": {
           "xaxis": {
            "backgroundcolor": "#E5ECF6",
            "gridcolor": "white",
            "gridwidth": 2,
            "linecolor": "white",
            "showbackground": true,
            "ticks": "",
            "zerolinecolor": "white"
           },
           "yaxis": {
            "backgroundcolor": "#E5ECF6",
            "gridcolor": "white",
            "gridwidth": 2,
            "linecolor": "white",
            "showbackground": true,
            "ticks": "",
            "zerolinecolor": "white"
           },
           "zaxis": {
            "backgroundcolor": "#E5ECF6",
            "gridcolor": "white",
            "gridwidth": 2,
            "linecolor": "white",
            "showbackground": true,
            "ticks": "",
            "zerolinecolor": "white"
           }
          },
          "shapedefaults": {
           "line": {
            "color": "#2a3f5f"
           }
          },
          "ternary": {
           "aaxis": {
            "gridcolor": "white",
            "linecolor": "white",
            "ticks": ""
           },
           "baxis": {
            "gridcolor": "white",
            "linecolor": "white",
            "ticks": ""
           },
           "bgcolor": "#E5ECF6",
           "caxis": {
            "gridcolor": "white",
            "linecolor": "white",
            "ticks": ""
           }
          },
          "title": {
           "x": 0.05
          },
          "xaxis": {
           "automargin": true,
           "gridcolor": "white",
           "linecolor": "white",
           "ticks": "",
           "title": {
            "standoff": 15
           },
           "zerolinecolor": "white",
           "zerolinewidth": 2
          },
          "yaxis": {
           "automargin": true,
           "gridcolor": "white",
           "linecolor": "white",
           "ticks": "",
           "title": {
            "standoff": 15
           },
           "zerolinecolor": "white",
           "zerolinewidth": 2
          }
         }
        },
        "title": {
         "text": "Distribution de l'accélération"
        },
        "yaxis": {
         "title": {
          "text": "Acceleration (g)"
         }
        }
       }
      }
     },
     "metadata": {},
     "output_type": "display_data"
    }
   ],
   "source": [
    "plots[\"Violin\"]"
   ]
  }
 ],
 "metadata": {
  "kernelspec": {
   "display_name": "arduino-streamlit",
   "language": "python",
   "name": "python3"
  },
  "language_info": {
   "codemirror_mode": {
    "name": "ipython",
    "version": 3
   },
   "file_extension": ".py",
   "mimetype": "text/x-python",
   "name": "python",
   "nbconvert_exporter": "python",
   "pygments_lexer": "ipython3",
   "version": "3.10.16"
  }
 },
 "nbformat": 4,
 "nbformat_minor": 2
}
