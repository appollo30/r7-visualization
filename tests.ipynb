{
 "cells": [
  {
   "cell_type": "code",
   "execution_count": 1,
   "metadata": {},
   "outputs": [],
   "source": [
    "import pandas as pd\n",
    "from sklearn.model_selection import train_test_split\n",
    "from sklearn.linear_model import LogisticRegression\n",
    "from sklearn.svm import SVC\n",
    "from sklearn.ensemble import RandomForestClassifier\n",
    "from sklearn.tree import DecisionTreeClassifier\n",
    "from sklearn.neighbors import KNeighborsClassifier\n",
    "from sklearn.model_selection import cross_val_score\n",
    "from sklearn.metrics import accuracy_score, confusion_matrix\n",
    "from sklearn.preprocessing import StandardScaler\n",
    "import numpy as np\n",
    "import plotly.express as px\n",
    "import plotly.graph_objects as go"
   ]
  },
  {
   "cell_type": "code",
   "execution_count": 2,
   "metadata": {},
   "outputs": [
    {
     "data": {
      "application/vnd.microsoft.datawrangler.viewer.v0+json": {
       "columns": [
        {
         "name": "index",
         "rawType": "int64",
         "type": "integer"
        },
        {
         "name": "Nom",
         "rawType": "object",
         "type": "string"
        },
        {
         "name": "Fichier source",
         "rawType": "object",
         "type": "string"
        },
        {
         "name": "Longueur de l'enregistrement (s)",
         "rawType": "float64",
         "type": "float"
        },
        {
         "name": "Nombre de pas",
         "rawType": "int64",
         "type": "integer"
        },
        {
         "name": "Fréquence des pas par fft (Hz)",
         "rawType": "float64",
         "type": "float"
        },
        {
         "name": "Fréquence des pas par comptage (Hz)",
         "rawType": "float64",
         "type": "float"
        },
        {
         "name": "Ecart-type de la durée des pas (s)",
         "rawType": "float64",
         "type": "float"
        },
        {
         "name": "Amplitude de l'accélération (g)",
         "rawType": "float64",
         "type": "float"
        }
       ],
       "conversionMethod": "pd.DataFrame",
       "ref": "ba4009f6-18c9-4f46-9ef7-0a776ea759fb",
       "rows": [
        [
         "0",
         "Corentin",
         "accelerometer4_data.csv",
         "8.98",
         "13",
         "1.6703786191536747",
         "1.687763713080169",
         "0.0865631666367502",
         "1.0351851047558218"
        ],
        [
         "1",
         "Leo",
         "accelerometer1_data.csv",
         "8.99",
         "14",
         "1.7797552836484982",
         "1.7639077340569875",
         "0.0322450552758649",
         "1.259968349901273"
        ],
        [
         "2",
         "Serge",
         "accelerometer4_data.csv",
         "8.99",
         "14",
         "1.668520578420467",
         "1.6518424396442184",
         "0.1192766661041592",
         "0.8520111505173423"
        ],
        [
         "3",
         "Antoine",
         "accelerometer6_data.csv",
         "8.99",
         "14",
         "1.668520578420467",
         "1.6905071521456436",
         "0.0516149451622545",
         "1.2680720001911754"
        ],
        [
         "4",
         "Antoine",
         "accelerometer9_data.csv",
         "9.98",
         "13",
         "1.6032064128256511",
         "1.6064257028112452",
         "0.0561046100844421",
         "1.0096501937021916"
        ]
       ],
       "shape": {
        "columns": 8,
        "rows": 5
       }
      },
      "text/html": [
       "<div>\n",
       "<style scoped>\n",
       "    .dataframe tbody tr th:only-of-type {\n",
       "        vertical-align: middle;\n",
       "    }\n",
       "\n",
       "    .dataframe tbody tr th {\n",
       "        vertical-align: top;\n",
       "    }\n",
       "\n",
       "    .dataframe thead th {\n",
       "        text-align: right;\n",
       "    }\n",
       "</style>\n",
       "<table border=\"1\" class=\"dataframe\">\n",
       "  <thead>\n",
       "    <tr style=\"text-align: right;\">\n",
       "      <th></th>\n",
       "      <th>Nom</th>\n",
       "      <th>Fichier source</th>\n",
       "      <th>Longueur de l'enregistrement (s)</th>\n",
       "      <th>Nombre de pas</th>\n",
       "      <th>Fréquence des pas par fft (Hz)</th>\n",
       "      <th>Fréquence des pas par comptage (Hz)</th>\n",
       "      <th>Ecart-type de la durée des pas (s)</th>\n",
       "      <th>Amplitude de l'accélération (g)</th>\n",
       "    </tr>\n",
       "  </thead>\n",
       "  <tbody>\n",
       "    <tr>\n",
       "      <th>0</th>\n",
       "      <td>Corentin</td>\n",
       "      <td>accelerometer4_data.csv</td>\n",
       "      <td>8.98</td>\n",
       "      <td>13</td>\n",
       "      <td>1.670379</td>\n",
       "      <td>1.687764</td>\n",
       "      <td>0.086563</td>\n",
       "      <td>1.035185</td>\n",
       "    </tr>\n",
       "    <tr>\n",
       "      <th>1</th>\n",
       "      <td>Leo</td>\n",
       "      <td>accelerometer1_data.csv</td>\n",
       "      <td>8.99</td>\n",
       "      <td>14</td>\n",
       "      <td>1.779755</td>\n",
       "      <td>1.763908</td>\n",
       "      <td>0.032245</td>\n",
       "      <td>1.259968</td>\n",
       "    </tr>\n",
       "    <tr>\n",
       "      <th>2</th>\n",
       "      <td>Serge</td>\n",
       "      <td>accelerometer4_data.csv</td>\n",
       "      <td>8.99</td>\n",
       "      <td>14</td>\n",
       "      <td>1.668521</td>\n",
       "      <td>1.651842</td>\n",
       "      <td>0.119277</td>\n",
       "      <td>0.852011</td>\n",
       "    </tr>\n",
       "    <tr>\n",
       "      <th>3</th>\n",
       "      <td>Antoine</td>\n",
       "      <td>accelerometer6_data.csv</td>\n",
       "      <td>8.99</td>\n",
       "      <td>14</td>\n",
       "      <td>1.668521</td>\n",
       "      <td>1.690507</td>\n",
       "      <td>0.051615</td>\n",
       "      <td>1.268072</td>\n",
       "    </tr>\n",
       "    <tr>\n",
       "      <th>4</th>\n",
       "      <td>Antoine</td>\n",
       "      <td>accelerometer9_data.csv</td>\n",
       "      <td>9.98</td>\n",
       "      <td>13</td>\n",
       "      <td>1.603206</td>\n",
       "      <td>1.606426</td>\n",
       "      <td>0.056105</td>\n",
       "      <td>1.009650</td>\n",
       "    </tr>\n",
       "  </tbody>\n",
       "</table>\n",
       "</div>"
      ],
      "text/plain": [
       "        Nom           Fichier source  Longueur de l'enregistrement (s)  \\\n",
       "0  Corentin  accelerometer4_data.csv                              8.98   \n",
       "1       Leo  accelerometer1_data.csv                              8.99   \n",
       "2     Serge  accelerometer4_data.csv                              8.99   \n",
       "3   Antoine  accelerometer6_data.csv                              8.99   \n",
       "4   Antoine  accelerometer9_data.csv                              9.98   \n",
       "\n",
       "   Nombre de pas  Fréquence des pas par fft (Hz)  \\\n",
       "0             13                        1.670379   \n",
       "1             14                        1.779755   \n",
       "2             14                        1.668521   \n",
       "3             14                        1.668521   \n",
       "4             13                        1.603206   \n",
       "\n",
       "   Fréquence des pas par comptage (Hz)  Ecart-type de la durée des pas (s)  \\\n",
       "0                             1.687764                            0.086563   \n",
       "1                             1.763908                            0.032245   \n",
       "2                             1.651842                            0.119277   \n",
       "3                             1.690507                            0.051615   \n",
       "4                             1.606426                            0.056105   \n",
       "\n",
       "   Amplitude de l'accélération (g)  \n",
       "0                         1.035185  \n",
       "1                         1.259968  \n",
       "2                         0.852011  \n",
       "3                         1.268072  \n",
       "4                         1.009650  "
      ]
     },
     "execution_count": 2,
     "metadata": {},
     "output_type": "execute_result"
    }
   ],
   "source": [
    "metrics_df = pd.read_csv(\"data/metrics.csv\")\n",
    "metrics_df.head()"
   ]
  },
  {
   "cell_type": "code",
   "execution_count": 3,
   "metadata": {},
   "outputs": [],
   "source": [
    "members = list(metrics_df[\"Nom\"].values)"
   ]
  },
  {
   "cell_type": "code",
   "execution_count": 4,
   "metadata": {},
   "outputs": [
    {
     "data": {
      "application/vnd.plotly.v1+json": {
       "config": {
        "plotlyServerURL": "https://plot.ly"
       },
       "data": [
        {
         "customdata": [
          [
           "accelerometer1_data.csv"
          ],
          [
           "accelerometer7_data.csv"
          ],
          [
           "accelerometer6_data.csv"
          ],
          [
           "accelerometer2_data.csv"
          ],
          [
           "accelerometer10_data.csv"
          ],
          [
           "accelerometer4_data.csv"
          ],
          [
           "accelerometer5_data.csv"
          ],
          [
           "accelerometer3_data.csv"
          ],
          [
           "accelerometer9_data.csv"
          ],
          [
           "accelerometer8_data.csv"
          ]
         ],
         "hovertemplate": "Nom=Leo<br>Fréquence des pas par comptage (Hz)=%{x}<br>Amplitude de l'accélération (g)=%{y}<br>Fichier source=%{customdata[0]}<extra></extra>",
         "legendgroup": "Leo",
         "marker": {
          "color": "#636EFA",
          "size": 15,
          "symbol": "circle"
         },
         "mode": "markers",
         "name": "Leo",
         "orientation": "v",
         "showlegend": true,
         "type": "scatter",
         "x": {
          "bdata": "yfruUPc4/D++6U1vetP7P08N7B1TA/s/i8iAddlq+z+qdGTPQFT6P45Zxe2cPvs/yaqL9xR6+z9is6DaczL9P/wUlwzBOvo/vLu7u7u7+z8=",
          "dtype": "f8"
         },
         "xaxis": "x",
         "y": {
          "bdata": "CCONktQo9D+xDdKMpqL0P5hfJc6uFfM/UjvMKgvk9z+k10W5UUzxP72WS6z0rvQ/Vre7bs228D+yY8r1mZDzP/y3GsCsHO0/usLktvKN8T8=",
          "dtype": "f8"
         },
         "yaxis": "y"
        },
        {
         "customdata": [
          [
           "accelerometer1_data.csv"
          ],
          [
           "accelerometer6_data.csv"
          ],
          [
           "accelerometer9_data.csv"
          ],
          [
           "accelerometer7_data.csv"
          ],
          [
           "accelerometer2_data.csv"
          ],
          [
           "accelerometer3_data.csv"
          ],
          [
           "accelerometer5_data.csv"
          ],
          [
           "accelerometer10_data.csv"
          ],
          [
           "accelerometer8_data.csv"
          ],
          [
           "accelerometer4_data.csv"
          ]
         ],
         "hovertemplate": "Nom=Matthieu<br>Fréquence des pas par comptage (Hz)=%{x}<br>Amplitude de l'accélération (g)=%{y}<br>Fichier source=%{customdata[0]}<extra></extra>",
         "legendgroup": "Matthieu",
         "marker": {
          "color": "#EF553B",
          "size": 15,
          "symbol": "circle"
         },
         "mode": "markers",
         "name": "Matthieu",
         "orientation": "v",
         "showlegend": true,
         "type": "scatter",
         "x": {
          "bdata": "pz2uAoIh+T+gVJh4P3L6PwOPq8tvKPg/reRJl/BD+j9a+lr6Wvr6P4nG+tBYH/o/ZPwAF26z+j9Brkqy3jr5PwqFoQ8zDfo/qnRkz0BU+j8=",
          "dtype": "f8"
         },
         "xaxis": "x",
         "y": {
          "bdata": "tqN5eIa75D+VE43NpXzqP/k1Gmt56ec/bBVuP95m7D9+VOexXELnP0/VuQW/4uY/3TkRWX0k8D+3Tp6Z3RbsP4yoo+ElJ+c/lU0qbqL96D8=",
          "dtype": "f8"
         },
         "yaxis": "y"
        }
       ],
       "layout": {
        "hovermode": "closest",
        "legend": {
         "title": {
          "text": "Nom"
         },
         "tracegroupgap": 0
        },
        "margin": {
         "t": 60
        },
        "template": {
         "data": {
          "bar": [
           {
            "error_x": {
             "color": "#2a3f5f"
            },
            "error_y": {
             "color": "#2a3f5f"
            },
            "marker": {
             "line": {
              "color": "#E5ECF6",
              "width": 0.5
             },
             "pattern": {
              "fillmode": "overlay",
              "size": 10,
              "solidity": 0.2
             }
            },
            "type": "bar"
           }
          ],
          "barpolar": [
           {
            "marker": {
             "line": {
              "color": "#E5ECF6",
              "width": 0.5
             },
             "pattern": {
              "fillmode": "overlay",
              "size": 10,
              "solidity": 0.2
             }
            },
            "type": "barpolar"
           }
          ],
          "carpet": [
           {
            "aaxis": {
             "endlinecolor": "#2a3f5f",
             "gridcolor": "white",
             "linecolor": "white",
             "minorgridcolor": "white",
             "startlinecolor": "#2a3f5f"
            },
            "baxis": {
             "endlinecolor": "#2a3f5f",
             "gridcolor": "white",
             "linecolor": "white",
             "minorgridcolor": "white",
             "startlinecolor": "#2a3f5f"
            },
            "type": "carpet"
           }
          ],
          "choropleth": [
           {
            "colorbar": {
             "outlinewidth": 0,
             "ticks": ""
            },
            "type": "choropleth"
           }
          ],
          "contour": [
           {
            "colorbar": {
             "outlinewidth": 0,
             "ticks": ""
            },
            "colorscale": [
             [
              0,
              "#0d0887"
             ],
             [
              0.1111111111111111,
              "#46039f"
             ],
             [
              0.2222222222222222,
              "#7201a8"
             ],
             [
              0.3333333333333333,
              "#9c179e"
             ],
             [
              0.4444444444444444,
              "#bd3786"
             ],
             [
              0.5555555555555556,
              "#d8576b"
             ],
             [
              0.6666666666666666,
              "#ed7953"
             ],
             [
              0.7777777777777778,
              "#fb9f3a"
             ],
             [
              0.8888888888888888,
              "#fdca26"
             ],
             [
              1,
              "#f0f921"
             ]
            ],
            "type": "contour"
           }
          ],
          "contourcarpet": [
           {
            "colorbar": {
             "outlinewidth": 0,
             "ticks": ""
            },
            "type": "contourcarpet"
           }
          ],
          "heatmap": [
           {
            "colorbar": {
             "outlinewidth": 0,
             "ticks": ""
            },
            "colorscale": [
             [
              0,
              "#0d0887"
             ],
             [
              0.1111111111111111,
              "#46039f"
             ],
             [
              0.2222222222222222,
              "#7201a8"
             ],
             [
              0.3333333333333333,
              "#9c179e"
             ],
             [
              0.4444444444444444,
              "#bd3786"
             ],
             [
              0.5555555555555556,
              "#d8576b"
             ],
             [
              0.6666666666666666,
              "#ed7953"
             ],
             [
              0.7777777777777778,
              "#fb9f3a"
             ],
             [
              0.8888888888888888,
              "#fdca26"
             ],
             [
              1,
              "#f0f921"
             ]
            ],
            "type": "heatmap"
           }
          ],
          "histogram": [
           {
            "marker": {
             "pattern": {
              "fillmode": "overlay",
              "size": 10,
              "solidity": 0.2
             }
            },
            "type": "histogram"
           }
          ],
          "histogram2d": [
           {
            "colorbar": {
             "outlinewidth": 0,
             "ticks": ""
            },
            "colorscale": [
             [
              0,
              "#0d0887"
             ],
             [
              0.1111111111111111,
              "#46039f"
             ],
             [
              0.2222222222222222,
              "#7201a8"
             ],
             [
              0.3333333333333333,
              "#9c179e"
             ],
             [
              0.4444444444444444,
              "#bd3786"
             ],
             [
              0.5555555555555556,
              "#d8576b"
             ],
             [
              0.6666666666666666,
              "#ed7953"
             ],
             [
              0.7777777777777778,
              "#fb9f3a"
             ],
             [
              0.8888888888888888,
              "#fdca26"
             ],
             [
              1,
              "#f0f921"
             ]
            ],
            "type": "histogram2d"
           }
          ],
          "histogram2dcontour": [
           {
            "colorbar": {
             "outlinewidth": 0,
             "ticks": ""
            },
            "colorscale": [
             [
              0,
              "#0d0887"
             ],
             [
              0.1111111111111111,
              "#46039f"
             ],
             [
              0.2222222222222222,
              "#7201a8"
             ],
             [
              0.3333333333333333,
              "#9c179e"
             ],
             [
              0.4444444444444444,
              "#bd3786"
             ],
             [
              0.5555555555555556,
              "#d8576b"
             ],
             [
              0.6666666666666666,
              "#ed7953"
             ],
             [
              0.7777777777777778,
              "#fb9f3a"
             ],
             [
              0.8888888888888888,
              "#fdca26"
             ],
             [
              1,
              "#f0f921"
             ]
            ],
            "type": "histogram2dcontour"
           }
          ],
          "mesh3d": [
           {
            "colorbar": {
             "outlinewidth": 0,
             "ticks": ""
            },
            "type": "mesh3d"
           }
          ],
          "parcoords": [
           {
            "line": {
             "colorbar": {
              "outlinewidth": 0,
              "ticks": ""
             }
            },
            "type": "parcoords"
           }
          ],
          "pie": [
           {
            "automargin": true,
            "type": "pie"
           }
          ],
          "scatter": [
           {
            "fillpattern": {
             "fillmode": "overlay",
             "size": 10,
             "solidity": 0.2
            },
            "type": "scatter"
           }
          ],
          "scatter3d": [
           {
            "line": {
             "colorbar": {
              "outlinewidth": 0,
              "ticks": ""
             }
            },
            "marker": {
             "colorbar": {
              "outlinewidth": 0,
              "ticks": ""
             }
            },
            "type": "scatter3d"
           }
          ],
          "scattercarpet": [
           {
            "marker": {
             "colorbar": {
              "outlinewidth": 0,
              "ticks": ""
             }
            },
            "type": "scattercarpet"
           }
          ],
          "scattergeo": [
           {
            "marker": {
             "colorbar": {
              "outlinewidth": 0,
              "ticks": ""
             }
            },
            "type": "scattergeo"
           }
          ],
          "scattergl": [
           {
            "marker": {
             "colorbar": {
              "outlinewidth": 0,
              "ticks": ""
             }
            },
            "type": "scattergl"
           }
          ],
          "scattermap": [
           {
            "marker": {
             "colorbar": {
              "outlinewidth": 0,
              "ticks": ""
             }
            },
            "type": "scattermap"
           }
          ],
          "scattermapbox": [
           {
            "marker": {
             "colorbar": {
              "outlinewidth": 0,
              "ticks": ""
             }
            },
            "type": "scattermapbox"
           }
          ],
          "scatterpolar": [
           {
            "marker": {
             "colorbar": {
              "outlinewidth": 0,
              "ticks": ""
             }
            },
            "type": "scatterpolar"
           }
          ],
          "scatterpolargl": [
           {
            "marker": {
             "colorbar": {
              "outlinewidth": 0,
              "ticks": ""
             }
            },
            "type": "scatterpolargl"
           }
          ],
          "scatterternary": [
           {
            "marker": {
             "colorbar": {
              "outlinewidth": 0,
              "ticks": ""
             }
            },
            "type": "scatterternary"
           }
          ],
          "surface": [
           {
            "colorbar": {
             "outlinewidth": 0,
             "ticks": ""
            },
            "colorscale": [
             [
              0,
              "#0d0887"
             ],
             [
              0.1111111111111111,
              "#46039f"
             ],
             [
              0.2222222222222222,
              "#7201a8"
             ],
             [
              0.3333333333333333,
              "#9c179e"
             ],
             [
              0.4444444444444444,
              "#bd3786"
             ],
             [
              0.5555555555555556,
              "#d8576b"
             ],
             [
              0.6666666666666666,
              "#ed7953"
             ],
             [
              0.7777777777777778,
              "#fb9f3a"
             ],
             [
              0.8888888888888888,
              "#fdca26"
             ],
             [
              1,
              "#f0f921"
             ]
            ],
            "type": "surface"
           }
          ],
          "table": [
           {
            "cells": {
             "fill": {
              "color": "#EBF0F8"
             },
             "line": {
              "color": "white"
             }
            },
            "header": {
             "fill": {
              "color": "#C8D4E3"
             },
             "line": {
              "color": "white"
             }
            },
            "type": "table"
           }
          ]
         },
         "layout": {
          "annotationdefaults": {
           "arrowcolor": "#2a3f5f",
           "arrowhead": 0,
           "arrowwidth": 1
          },
          "autotypenumbers": "strict",
          "coloraxis": {
           "colorbar": {
            "outlinewidth": 0,
            "ticks": ""
           }
          },
          "colorscale": {
           "diverging": [
            [
             0,
             "#8e0152"
            ],
            [
             0.1,
             "#c51b7d"
            ],
            [
             0.2,
             "#de77ae"
            ],
            [
             0.3,
             "#f1b6da"
            ],
            [
             0.4,
             "#fde0ef"
            ],
            [
             0.5,
             "#f7f7f7"
            ],
            [
             0.6,
             "#e6f5d0"
            ],
            [
             0.7,
             "#b8e186"
            ],
            [
             0.8,
             "#7fbc41"
            ],
            [
             0.9,
             "#4d9221"
            ],
            [
             1,
             "#276419"
            ]
           ],
           "sequential": [
            [
             0,
             "#0d0887"
            ],
            [
             0.1111111111111111,
             "#46039f"
            ],
            [
             0.2222222222222222,
             "#7201a8"
            ],
            [
             0.3333333333333333,
             "#9c179e"
            ],
            [
             0.4444444444444444,
             "#bd3786"
            ],
            [
             0.5555555555555556,
             "#d8576b"
            ],
            [
             0.6666666666666666,
             "#ed7953"
            ],
            [
             0.7777777777777778,
             "#fb9f3a"
            ],
            [
             0.8888888888888888,
             "#fdca26"
            ],
            [
             1,
             "#f0f921"
            ]
           ],
           "sequentialminus": [
            [
             0,
             "#0d0887"
            ],
            [
             0.1111111111111111,
             "#46039f"
            ],
            [
             0.2222222222222222,
             "#7201a8"
            ],
            [
             0.3333333333333333,
             "#9c179e"
            ],
            [
             0.4444444444444444,
             "#bd3786"
            ],
            [
             0.5555555555555556,
             "#d8576b"
            ],
            [
             0.6666666666666666,
             "#ed7953"
            ],
            [
             0.7777777777777778,
             "#fb9f3a"
            ],
            [
             0.8888888888888888,
             "#fdca26"
            ],
            [
             1,
             "#f0f921"
            ]
           ]
          },
          "colorway": [
           "#636efa",
           "#EF553B",
           "#00cc96",
           "#ab63fa",
           "#FFA15A",
           "#19d3f3",
           "#FF6692",
           "#B6E880",
           "#FF97FF",
           "#FECB52"
          ],
          "font": {
           "color": "#2a3f5f"
          },
          "geo": {
           "bgcolor": "white",
           "lakecolor": "white",
           "landcolor": "#E5ECF6",
           "showlakes": true,
           "showland": true,
           "subunitcolor": "white"
          },
          "hoverlabel": {
           "align": "left"
          },
          "hovermode": "closest",
          "mapbox": {
           "style": "light"
          },
          "paper_bgcolor": "white",
          "plot_bgcolor": "#E5ECF6",
          "polar": {
           "angularaxis": {
            "gridcolor": "white",
            "linecolor": "white",
            "ticks": ""
           },
           "bgcolor": "#E5ECF6",
           "radialaxis": {
            "gridcolor": "white",
            "linecolor": "white",
            "ticks": ""
           }
          },
          "scene": {
           "xaxis": {
            "backgroundcolor": "#E5ECF6",
            "gridcolor": "white",
            "gridwidth": 2,
            "linecolor": "white",
            "showbackground": true,
            "ticks": "",
            "zerolinecolor": "white"
           },
           "yaxis": {
            "backgroundcolor": "#E5ECF6",
            "gridcolor": "white",
            "gridwidth": 2,
            "linecolor": "white",
            "showbackground": true,
            "ticks": "",
            "zerolinecolor": "white"
           },
           "zaxis": {
            "backgroundcolor": "#E5ECF6",
            "gridcolor": "white",
            "gridwidth": 2,
            "linecolor": "white",
            "showbackground": true,
            "ticks": "",
            "zerolinecolor": "white"
           }
          },
          "shapedefaults": {
           "line": {
            "color": "#2a3f5f"
           }
          },
          "ternary": {
           "aaxis": {
            "gridcolor": "white",
            "linecolor": "white",
            "ticks": ""
           },
           "baxis": {
            "gridcolor": "white",
            "linecolor": "white",
            "ticks": ""
           },
           "bgcolor": "#E5ECF6",
           "caxis": {
            "gridcolor": "white",
            "linecolor": "white",
            "ticks": ""
           }
          },
          "title": {
           "x": 0.05
          },
          "xaxis": {
           "automargin": true,
           "gridcolor": "white",
           "linecolor": "white",
           "ticks": "",
           "title": {
            "standoff": 15
           },
           "zerolinecolor": "white",
           "zerolinewidth": 2
          },
          "yaxis": {
           "automargin": true,
           "gridcolor": "white",
           "linecolor": "white",
           "ticks": "",
           "title": {
            "standoff": 15
           },
           "zerolinecolor": "white",
           "zerolinewidth": 2
          }
         }
        },
        "title": {
         "text": "Fréquence des pas par comptage en fonction de l'amplitude de l'accélération"
        },
        "xaxis": {
         "anchor": "y",
         "domain": [
          0,
          1
         ],
         "title": {
          "text": "Fréquence des pas par comptage (Hz)"
         }
        },
        "yaxis": {
         "anchor": "x",
         "domain": [
          0,
          1
         ],
         "title": {
          "text": "Amplitude de l'accélération (g)"
         }
        }
       }
      }
     },
     "metadata": {},
     "output_type": "display_data"
    }
   ],
   "source": [
    "def filter_members(df, member1, member2):\n",
    "    if member1 not in members:\n",
    "        raise ValueError(f\"Member \\\"{member1}\\\" not found\")\n",
    "    if member2 not in members:\n",
    "        raise ValueError(\"Member \\\"{member2}\\\" not found\")\n",
    "    result = df.query(f\"Nom == '{member1}' or Nom == '{member2}'\")\n",
    "    return result\n",
    "\n",
    "def make_scatter(df):\n",
    "    colors = px.colors.qualitative.Plotly\n",
    "    fig = px.scatter(df, x=\"Fréquence des pas par comptage (Hz)\", y=\"Amplitude de l'accélération (g)\", color=\"Nom\", hover_data={\"Fichier source\": True}, color_discrete_sequence=colors)\n",
    "    fig.update_traces(marker=dict(size=15))\n",
    "    fig.update_layout(\n",
    "        title=\"Fréquence des pas par comptage en fonction de l'amplitude de l'accélération\",\n",
    "        xaxis_title=\"Fréquence des pas par comptage (Hz)\",\n",
    "        yaxis_title=\"Amplitude de l'accélération (g)\",\n",
    "        hovermode=\"closest\",\n",
    "    )\n",
    "    return fig\n",
    "  \n",
    "filtered_df = filter_members(metrics_df, \"Matthieu\", \"Leo\")\n",
    "fig = make_scatter(filtered_df)\n",
    "fig"
   ]
  },
  {
   "cell_type": "code",
   "execution_count": 5,
   "metadata": {},
   "outputs": [],
   "source": [
    "def prepare_df(df):\n",
    "    df = df.copy()\n",
    "    df = df[[\n",
    "        \"Nom\",\n",
    "        \"Fréquence des pas par fft (Hz)\",\n",
    "        \"Fréquence des pas par comptage (Hz)\",\n",
    "        \"Ecart-type de la durée des pas (s)\",\n",
    "        \"Amplitude de l'accélération (g)\"\n",
    "        ]]\n",
    "    X = df.drop(columns=[\"Nom\"])\n",
    "    X = StandardScaler().fit_transform(X)\n",
    "    y = df[\"Nom\"]\n",
    "    X_train, X_test, y_train, y_test = train_test_split(X, y, test_size=0.2)\n",
    "    return X_train, X_test, y_train, y_test\n",
    "\n"
   ]
  },
  {
   "cell_type": "code",
   "execution_count": 10,
   "metadata": {},
   "outputs": [],
   "source": [
    "\n",
    "filtered_df = filter_members(metrics_df, \"Matthieu\", \"Leo\")\n",
    "X_train, X_test, y_train, y_test = prepare_df(metrics_df)\n",
    "model = RandomForestClassifier()"
   ]
  },
  {
   "cell_type": "code",
   "execution_count": 11,
   "metadata": {},
   "outputs": [
    {
     "name": "stdout",
     "output_type": "stream",
     "text": [
      "Train accuracy: 1.0\n",
      "Test accuracy: 0.75\n",
      "Confusion matrix:\n",
      "[[3 0 0 1 0]\n",
      " [0 1 0 0 0]\n",
      " [0 0 1 1 0]\n",
      " [0 0 0 2 0]\n",
      " [0 1 0 0 2]]\n"
     ]
    }
   ],
   "source": [
    "\n",
    "model.fit(X_train, y_train)\n",
    "y_train_pred = model.predict(X_train)\n",
    "y_test_pred = model.predict(X_test)\n",
    "print(\"Train accuracy:\", accuracy_score(y_train, y_train_pred))\n",
    "print(\"Test accuracy:\", accuracy_score(y_test, y_test_pred))\n",
    "print(\"Confusion matrix:\")\n",
    "print(confusion_matrix(y_test, y_test_pred))\n"
   ]
  }
 ],
 "metadata": {
  "kernelspec": {
   "display_name": "arduino-streamlit",
   "language": "python",
   "name": "python3"
  },
  "language_info": {
   "codemirror_mode": {
    "name": "ipython",
    "version": 3
   },
   "file_extension": ".py",
   "mimetype": "text/x-python",
   "name": "python",
   "nbconvert_exporter": "python",
   "pygments_lexer": "ipython3",
   "version": "3.10.16"
  }
 },
 "nbformat": 4,
 "nbformat_minor": 2
}
