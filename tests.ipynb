{
 "cells": [
  {
   "cell_type": "code",
   "execution_count": 11,
   "metadata": {},
   "outputs": [],
   "source": [
    "import pandas as pd\n",
    "import numpy as np\n",
    "import plotly.express as px\n",
    "import plotly.graph_objects as go\n",
    "import os\n",
    "import glob\n",
    "from src.walking_recording import WalkingRecording\n",
    "from typing import Dict\n",
    "import matplotlib.pyplot as plt"
   ]
  },
  {
   "cell_type": "code",
   "execution_count": 12,
   "metadata": {},
   "outputs": [],
   "source": [
    "def setup() ->  Dict:\n",
    "    \"\"\"\n",
    "    Fonction de setup de l'application\n",
    "    Permet de récupérer les données des membres du groupe\n",
    "\n",
    "    Returns:\n",
    "        Dict: Dictionnaire contenant les données des membres\n",
    "    \"\"\"\n",
    "    file_path = 'data/processed'\n",
    "    members_list = glob.glob(f\"{file_path}/*\")\n",
    "    members_dict = {}\n",
    "\n",
    "    for member in members_list:\n",
    "        member_name = os.path.basename(member)\n",
    "        members_dict[member_name] = {}\n",
    "        file_list = glob.glob(f\"{member}/*\")\n",
    "        for csv_file in file_list:\n",
    "            basename = os.path.basename(csv_file)\n",
    "            members_dict[member_name][basename] = WalkingRecording.from_csv(csv_file)\n",
    "\n",
    "    return members_dict\n"
   ]
  },
  {
   "cell_type": "code",
   "execution_count": 13,
   "metadata": {},
   "outputs": [
    {
     "data": {
      "text/plain": [
       "['Felix', 'Antoine', 'Leo', 'Matthieu', 'Corentin', 'Serge']"
      ]
     },
     "execution_count": 13,
     "metadata": {},
     "output_type": "execute_result"
    }
   ],
   "source": [
    "members = setup()\n",
    "list(members.keys())"
   ]
  },
  {
   "cell_type": "code",
   "execution_count": 14,
   "metadata": {},
   "outputs": [],
   "source": [
    "def members_metrics_df(members):\n",
    "    metrics = []\n",
    "    for name, member in members.items():\n",
    "        for file_name, recording in member.items():\n",
    "            metrics.append({\n",
    "                \"name\" : name,\n",
    "                \"recording\" : file_name,\n",
    "                \"steps\" : len(recording.get_steps()),\n",
    "                \"frequency_fft\" : recording.get_frequency_from_fft(),\n",
    "                \"frequency_steps\" : recording.get_frequency_from_counting_steps(),\n",
    "                \"acceleration_std\" : recording.get_std(\"acceleration (g)\")\n",
    "            })\n",
    "    return pd.DataFrame(metrics)\n",
    "        "
   ]
  },
  {
   "cell_type": "code",
   "execution_count": 15,
   "metadata": {},
   "outputs": [
    {
     "data": {
      "text/plain": [
       "np.float64(0.09910802775024777)"
      ]
     },
     "execution_count": 15,
     "metadata": {},
     "output_type": "execute_result"
    }
   ],
   "source": [
    "leo = members[\"Leo\"][\"accelerometer1_data.csv\"]\n",
    "autocorr = leo.get_autocorrelation()\n",
    "sp = leo.get_sampling_period()\n",
    "f0 = 1/(sp*np.argmax(np.abs(autocorr)))\n",
    "f0"
   ]
  }
 ],
 "metadata": {
  "kernelspec": {
   "display_name": "arduino-streamlit",
   "language": "python",
   "name": "python3"
  },
  "language_info": {
   "codemirror_mode": {
    "name": "ipython",
    "version": 3
   },
   "file_extension": ".py",
   "mimetype": "text/x-python",
   "name": "python",
   "nbconvert_exporter": "python",
   "pygments_lexer": "ipython3",
   "version": "3.10.16"
  }
 },
 "nbformat": 4,
 "nbformat_minor": 2
}
