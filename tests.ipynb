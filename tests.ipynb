{
 "cells": [
  {
   "cell_type": "code",
   "execution_count": 5,
   "metadata": {},
   "outputs": [],
   "source": [
    "import pandas as pd\n",
    "from sklearn.model_selection import train_test_split\n",
    "from sklearn.linear_model import LogisticRegression\n",
    "from sklearn.svm import SVC\n",
    "from sklearn.ensemble import RandomForestClassifier\n",
    "from sklearn.tree import DecisionTreeClassifier\n",
    "from sklearn.neighbors import KNeighborsClassifier\n",
    "from sklearn.model_selection import cross_val_score\n",
    "from sklearn.metrics import accuracy_score, confusion_matrix\n",
    "from sklearn.preprocessing import StandardScaler\n",
    "import numpy as np\n",
    "import plotly.express as px"
   ]
  },
  {
   "cell_type": "code",
   "execution_count": 6,
   "metadata": {},
   "outputs": [
    {
     "data": {
      "application/vnd.microsoft.datawrangler.viewer.v0+json": {
       "columns": [
        {
         "name": "index",
         "rawType": "int64",
         "type": "integer"
        },
        {
         "name": "Nom",
         "rawType": "object",
         "type": "string"
        },
        {
         "name": "Fichier source",
         "rawType": "object",
         "type": "string"
        },
        {
         "name": "Longueur de l'enregistrement (s)",
         "rawType": "float64",
         "type": "float"
        },
        {
         "name": "Nombre de pas",
         "rawType": "int64",
         "type": "integer"
        },
        {
         "name": "Fréquence des pas par fft (Hz)",
         "rawType": "float64",
         "type": "float"
        },
        {
         "name": "Fréquence des pas par comptage (Hz)",
         "rawType": "float64",
         "type": "float"
        },
        {
         "name": "Ecart-type de la durée des pas (s)",
         "rawType": "float64",
         "type": "float"
        },
        {
         "name": "Amplitude de l'accélération (g)",
         "rawType": "float64",
         "type": "float"
        }
       ],
       "conversionMethod": "pd.DataFrame",
       "ref": "b824efeb-e3f7-4c37-a37e-1cad38fd0c3e",
       "rows": [
        [
         "0",
         "Corentin",
         "accelerometer4_data.csv",
         "8.98",
         "13",
         "1.6703786191536747",
         "1.687763713080169",
         "0.0865631666367502",
         "1.0351851047558218"
        ],
        [
         "1",
         "Leo",
         "accelerometer1_data.csv",
         "8.99",
         "14",
         "1.7797552836484982",
         "1.7639077340569875",
         "0.0322450552758649",
         "1.259968349901273"
        ],
        [
         "2",
         "Serge",
         "accelerometer4_data.csv",
         "8.99",
         "14",
         "1.668520578420467",
         "1.6518424396442184",
         "0.1192766661041592",
         "0.8520111505173423"
        ],
        [
         "3",
         "Antoine",
         "accelerometer6_data.csv",
         "8.99",
         "14",
         "1.668520578420467",
         "1.6905071521456436",
         "0.0516149451622545",
         "1.2680720001911754"
        ],
        [
         "4",
         "Antoine",
         "accelerometer9_data.csv",
         "9.98",
         "13",
         "1.6032064128256511",
         "1.6064257028112452",
         "0.0561046100844421",
         "1.0096501937021916"
        ]
       ],
       "shape": {
        "columns": 8,
        "rows": 5
       }
      },
      "text/html": [
       "<div>\n",
       "<style scoped>\n",
       "    .dataframe tbody tr th:only-of-type {\n",
       "        vertical-align: middle;\n",
       "    }\n",
       "\n",
       "    .dataframe tbody tr th {\n",
       "        vertical-align: top;\n",
       "    }\n",
       "\n",
       "    .dataframe thead th {\n",
       "        text-align: right;\n",
       "    }\n",
       "</style>\n",
       "<table border=\"1\" class=\"dataframe\">\n",
       "  <thead>\n",
       "    <tr style=\"text-align: right;\">\n",
       "      <th></th>\n",
       "      <th>Nom</th>\n",
       "      <th>Fichier source</th>\n",
       "      <th>Longueur de l'enregistrement (s)</th>\n",
       "      <th>Nombre de pas</th>\n",
       "      <th>Fréquence des pas par fft (Hz)</th>\n",
       "      <th>Fréquence des pas par comptage (Hz)</th>\n",
       "      <th>Ecart-type de la durée des pas (s)</th>\n",
       "      <th>Amplitude de l'accélération (g)</th>\n",
       "    </tr>\n",
       "  </thead>\n",
       "  <tbody>\n",
       "    <tr>\n",
       "      <th>0</th>\n",
       "      <td>Corentin</td>\n",
       "      <td>accelerometer4_data.csv</td>\n",
       "      <td>8.98</td>\n",
       "      <td>13</td>\n",
       "      <td>1.670379</td>\n",
       "      <td>1.687764</td>\n",
       "      <td>0.086563</td>\n",
       "      <td>1.035185</td>\n",
       "    </tr>\n",
       "    <tr>\n",
       "      <th>1</th>\n",
       "      <td>Leo</td>\n",
       "      <td>accelerometer1_data.csv</td>\n",
       "      <td>8.99</td>\n",
       "      <td>14</td>\n",
       "      <td>1.779755</td>\n",
       "      <td>1.763908</td>\n",
       "      <td>0.032245</td>\n",
       "      <td>1.259968</td>\n",
       "    </tr>\n",
       "    <tr>\n",
       "      <th>2</th>\n",
       "      <td>Serge</td>\n",
       "      <td>accelerometer4_data.csv</td>\n",
       "      <td>8.99</td>\n",
       "      <td>14</td>\n",
       "      <td>1.668521</td>\n",
       "      <td>1.651842</td>\n",
       "      <td>0.119277</td>\n",
       "      <td>0.852011</td>\n",
       "    </tr>\n",
       "    <tr>\n",
       "      <th>3</th>\n",
       "      <td>Antoine</td>\n",
       "      <td>accelerometer6_data.csv</td>\n",
       "      <td>8.99</td>\n",
       "      <td>14</td>\n",
       "      <td>1.668521</td>\n",
       "      <td>1.690507</td>\n",
       "      <td>0.051615</td>\n",
       "      <td>1.268072</td>\n",
       "    </tr>\n",
       "    <tr>\n",
       "      <th>4</th>\n",
       "      <td>Antoine</td>\n",
       "      <td>accelerometer9_data.csv</td>\n",
       "      <td>9.98</td>\n",
       "      <td>13</td>\n",
       "      <td>1.603206</td>\n",
       "      <td>1.606426</td>\n",
       "      <td>0.056105</td>\n",
       "      <td>1.009650</td>\n",
       "    </tr>\n",
       "  </tbody>\n",
       "</table>\n",
       "</div>"
      ],
      "text/plain": [
       "        Nom           Fichier source  Longueur de l'enregistrement (s)  \\\n",
       "0  Corentin  accelerometer4_data.csv                              8.98   \n",
       "1       Leo  accelerometer1_data.csv                              8.99   \n",
       "2     Serge  accelerometer4_data.csv                              8.99   \n",
       "3   Antoine  accelerometer6_data.csv                              8.99   \n",
       "4   Antoine  accelerometer9_data.csv                              9.98   \n",
       "\n",
       "   Nombre de pas  Fréquence des pas par fft (Hz)  \\\n",
       "0             13                        1.670379   \n",
       "1             14                        1.779755   \n",
       "2             14                        1.668521   \n",
       "3             14                        1.668521   \n",
       "4             13                        1.603206   \n",
       "\n",
       "   Fréquence des pas par comptage (Hz)  Ecart-type de la durée des pas (s)  \\\n",
       "0                             1.687764                            0.086563   \n",
       "1                             1.763908                            0.032245   \n",
       "2                             1.651842                            0.119277   \n",
       "3                             1.690507                            0.051615   \n",
       "4                             1.606426                            0.056105   \n",
       "\n",
       "   Amplitude de l'accélération (g)  \n",
       "0                         1.035185  \n",
       "1                         1.259968  \n",
       "2                         0.852011  \n",
       "3                         1.268072  \n",
       "4                         1.009650  "
      ]
     },
     "execution_count": 6,
     "metadata": {},
     "output_type": "execute_result"
    }
   ],
   "source": [
    "metrics_df = pd.read_csv(\"data/metrics.csv\")\n",
    "metrics_df.head()"
   ]
  },
  {
   "cell_type": "code",
   "execution_count": 7,
   "metadata": {},
   "outputs": [],
   "source": [
    "members = list(metrics_df[\"Nom\"].values)"
   ]
  },
  {
   "cell_type": "code",
   "execution_count": null,
   "metadata": {},
   "outputs": [
    {
     "ename": "ValueError",
     "evalue": "\n    Invalid value of type 'builtins.str' received for the 'textposition' property of scatter\n        Received value: 'to  p center'\n\n    The 'textposition' property is an enumeration that may be specified as:\n      - One of the following enumeration values:\n            ['top left', 'top center', 'top right', 'middle left',\n            'middle center', 'middle right', 'bottom left', 'bottom\n            center', 'bottom right']\n      - A tuple, list, or one-dimensional numpy array of the above",
     "output_type": "error",
     "traceback": [
      "\u001b[0;31m---------------------------------------------------------------------------\u001b[0m",
      "\u001b[0;31mValueError\u001b[0m                                Traceback (most recent call last)",
      "Cell \u001b[0;32mIn[8], line 22\u001b[0m\n\u001b[1;32m     19\u001b[0m     \u001b[38;5;28;01mreturn\u001b[39;00m fig\n\u001b[1;32m     21\u001b[0m filtered_df \u001b[38;5;241m=\u001b[39m filter_members(metrics_df, \u001b[38;5;124m\"\u001b[39m\u001b[38;5;124mMatthieu\u001b[39m\u001b[38;5;124m\"\u001b[39m, \u001b[38;5;124m\"\u001b[39m\u001b[38;5;124mLeo\u001b[39m\u001b[38;5;124m\"\u001b[39m)\n\u001b[0;32m---> 22\u001b[0m fig \u001b[38;5;241m=\u001b[39m \u001b[43mmake_scatter\u001b[49m\u001b[43m(\u001b[49m\u001b[43mfiltered_df\u001b[49m\u001b[43m)\u001b[49m\n\u001b[1;32m     23\u001b[0m fig      \n",
      "Cell \u001b[0;32mIn[8], line 12\u001b[0m, in \u001b[0;36mmake_scatter\u001b[0;34m(df)\u001b[0m\n\u001b[1;32m     10\u001b[0m colors \u001b[38;5;241m=\u001b[39m px\u001b[38;5;241m.\u001b[39mcolors\u001b[38;5;241m.\u001b[39mqualitative\u001b[38;5;241m.\u001b[39mPlotly\n\u001b[1;32m     11\u001b[0m fig \u001b[38;5;241m=\u001b[39m px\u001b[38;5;241m.\u001b[39mscatter(df, x\u001b[38;5;241m=\u001b[39m\u001b[38;5;124m\"\u001b[39m\u001b[38;5;124mFréquence des pas par comptage (Hz)\u001b[39m\u001b[38;5;124m\"\u001b[39m, y\u001b[38;5;241m=\u001b[39m\u001b[38;5;124m\"\u001b[39m\u001b[38;5;124mAmplitude de l\u001b[39m\u001b[38;5;124m'\u001b[39m\u001b[38;5;124maccélération (g)\u001b[39m\u001b[38;5;124m\"\u001b[39m, color\u001b[38;5;241m=\u001b[39m\u001b[38;5;124m\"\u001b[39m\u001b[38;5;124mNom\u001b[39m\u001b[38;5;124m\"\u001b[39m, hover_data\u001b[38;5;241m=\u001b[39m{\u001b[38;5;124m\"\u001b[39m\u001b[38;5;124mFichier source\u001b[39m\u001b[38;5;124m\"\u001b[39m: \u001b[38;5;28;01mTrue\u001b[39;00m}, color_discrete_sequence\u001b[38;5;241m=\u001b[39mcolors)\n\u001b[0;32m---> 12\u001b[0m \u001b[43mfig\u001b[49m\u001b[38;5;241;43m.\u001b[39;49m\u001b[43mupdate_traces\u001b[49m\u001b[43m(\u001b[49m\u001b[43mtextposition\u001b[49m\u001b[38;5;241;43m=\u001b[39;49m\u001b[38;5;124;43m'\u001b[39;49m\u001b[38;5;124;43mto  p center\u001b[39;49m\u001b[38;5;124;43m'\u001b[39;49m\u001b[43m,\u001b[49m\u001b[43m \u001b[49m\u001b[43mmarker\u001b[49m\u001b[38;5;241;43m=\u001b[39;49m\u001b[38;5;28;43mdict\u001b[39;49m\u001b[43m(\u001b[49m\u001b[43msize\u001b[49m\u001b[38;5;241;43m=\u001b[39;49m\u001b[38;5;241;43m15\u001b[39;49m\u001b[43m)\u001b[49m\u001b[43m)\u001b[49m\n\u001b[1;32m     13\u001b[0m fig\u001b[38;5;241m.\u001b[39mupdate_layout(\n\u001b[1;32m     14\u001b[0m     title\u001b[38;5;241m=\u001b[39m\u001b[38;5;124m\"\u001b[39m\u001b[38;5;124mFréquence des pas par comptage en fonction de l\u001b[39m\u001b[38;5;124m'\u001b[39m\u001b[38;5;124mamplitude de l\u001b[39m\u001b[38;5;124m'\u001b[39m\u001b[38;5;124maccélération\u001b[39m\u001b[38;5;124m\"\u001b[39m,\n\u001b[1;32m     15\u001b[0m     xaxis_title\u001b[38;5;241m=\u001b[39m\u001b[38;5;124m\"\u001b[39m\u001b[38;5;124mFréquence des pas par comptage (Hz)\u001b[39m\u001b[38;5;124m\"\u001b[39m,\n\u001b[1;32m     16\u001b[0m     yaxis_title\u001b[38;5;241m=\u001b[39m\u001b[38;5;124m\"\u001b[39m\u001b[38;5;124mAmplitude de l\u001b[39m\u001b[38;5;124m'\u001b[39m\u001b[38;5;124maccélération (g)\u001b[39m\u001b[38;5;124m\"\u001b[39m,\n\u001b[1;32m     17\u001b[0m     hovermode\u001b[38;5;241m=\u001b[39m\u001b[38;5;124m\"\u001b[39m\u001b[38;5;124mclosest\u001b[39m\u001b[38;5;124m\"\u001b[39m,\n\u001b[1;32m     18\u001b[0m )\n\u001b[1;32m     19\u001b[0m \u001b[38;5;28;01mreturn\u001b[39;00m fig\n",
      "File \u001b[0;32m/usr/local/Caskroom/miniconda/base/envs/arduino-streamlit/lib/python3.10/site-packages/plotly/graph_objs/_figure.py:757\u001b[0m, in \u001b[0;36mFigure.update_traces\u001b[0;34m(self, patch, selector, row, col, secondary_y, overwrite, **kwargs)\u001b[0m\n\u001b[1;32m    694\u001b[0m \u001b[38;5;28;01mdef\u001b[39;00m\u001b[38;5;250m \u001b[39m\u001b[38;5;21mupdate_traces\u001b[39m(\n\u001b[1;32m    695\u001b[0m     \u001b[38;5;28mself\u001b[39m,\n\u001b[1;32m    696\u001b[0m     patch\u001b[38;5;241m=\u001b[39m\u001b[38;5;28;01mNone\u001b[39;00m,\n\u001b[0;32m   (...)\u001b[0m\n\u001b[1;32m    702\u001b[0m     \u001b[38;5;241m*\u001b[39m\u001b[38;5;241m*\u001b[39mkwargs,\n\u001b[1;32m    703\u001b[0m ) \u001b[38;5;241m-\u001b[39m\u001b[38;5;241m>\u001b[39m \u001b[38;5;124m\"\u001b[39m\u001b[38;5;124mFigure\u001b[39m\u001b[38;5;124m\"\u001b[39m:\n\u001b[1;32m    704\u001b[0m \u001b[38;5;250m    \u001b[39m\u001b[38;5;124;03m\"\"\"\u001b[39;00m\n\u001b[1;32m    705\u001b[0m \n\u001b[1;32m    706\u001b[0m \u001b[38;5;124;03m    Perform a property update operation on all traces that satisfy the\u001b[39;00m\n\u001b[0;32m   (...)\u001b[0m\n\u001b[1;32m    755\u001b[0m \n\u001b[1;32m    756\u001b[0m \u001b[38;5;124;03m    \"\"\"\u001b[39;00m\n\u001b[0;32m--> 757\u001b[0m     \u001b[38;5;28;01mreturn\u001b[39;00m \u001b[38;5;28;43msuper\u001b[39;49m\u001b[43m(\u001b[49m\u001b[43mFigure\u001b[49m\u001b[43m,\u001b[49m\u001b[43m \u001b[49m\u001b[38;5;28;43mself\u001b[39;49m\u001b[43m)\u001b[49m\u001b[38;5;241;43m.\u001b[39;49m\u001b[43mupdate_traces\u001b[49m\u001b[43m(\u001b[49m\n\u001b[1;32m    758\u001b[0m \u001b[43m        \u001b[49m\u001b[43mpatch\u001b[49m\u001b[43m,\u001b[49m\u001b[43m \u001b[49m\u001b[43mselector\u001b[49m\u001b[43m,\u001b[49m\u001b[43m \u001b[49m\u001b[43mrow\u001b[49m\u001b[43m,\u001b[49m\u001b[43m \u001b[49m\u001b[43mcol\u001b[49m\u001b[43m,\u001b[49m\u001b[43m \u001b[49m\u001b[43msecondary_y\u001b[49m\u001b[43m,\u001b[49m\u001b[43m \u001b[49m\u001b[43moverwrite\u001b[49m\u001b[43m,\u001b[49m\u001b[43m \u001b[49m\u001b[38;5;241;43m*\u001b[39;49m\u001b[38;5;241;43m*\u001b[39;49m\u001b[43mkwargs\u001b[49m\n\u001b[1;32m    759\u001b[0m \u001b[43m    \u001b[49m\u001b[43m)\u001b[49m\n",
      "File \u001b[0;32m/usr/local/Caskroom/miniconda/base/envs/arduino-streamlit/lib/python3.10/site-packages/plotly/basedatatypes.py:1365\u001b[0m, in \u001b[0;36mBaseFigure.update_traces\u001b[0;34m(self, patch, selector, row, col, secondary_y, overwrite, **kwargs)\u001b[0m\n\u001b[1;32m   1311\u001b[0m \u001b[38;5;250m\u001b[39m\u001b[38;5;124;03m\"\"\"\u001b[39;00m\n\u001b[1;32m   1312\u001b[0m \u001b[38;5;124;03mPerform a property update operation on all traces that satisfy the\u001b[39;00m\n\u001b[1;32m   1313\u001b[0m \u001b[38;5;124;03mspecified selection criteria\u001b[39;00m\n\u001b[0;32m   (...)\u001b[0m\n\u001b[1;32m   1360\u001b[0m \u001b[38;5;124;03m    Returns the Figure object that the method was called on\u001b[39;00m\n\u001b[1;32m   1361\u001b[0m \u001b[38;5;124;03m\"\"\"\u001b[39;00m\n\u001b[1;32m   1362\u001b[0m \u001b[38;5;28;01mfor\u001b[39;00m trace \u001b[38;5;129;01min\u001b[39;00m \u001b[38;5;28mself\u001b[39m\u001b[38;5;241m.\u001b[39mselect_traces(\n\u001b[1;32m   1363\u001b[0m     selector\u001b[38;5;241m=\u001b[39mselector, row\u001b[38;5;241m=\u001b[39mrow, col\u001b[38;5;241m=\u001b[39mcol, secondary_y\u001b[38;5;241m=\u001b[39msecondary_y\n\u001b[1;32m   1364\u001b[0m ):\n\u001b[0;32m-> 1365\u001b[0m     \u001b[43mtrace\u001b[49m\u001b[38;5;241;43m.\u001b[39;49m\u001b[43mupdate\u001b[49m\u001b[43m(\u001b[49m\u001b[43mpatch\u001b[49m\u001b[43m,\u001b[49m\u001b[43m \u001b[49m\u001b[43moverwrite\u001b[49m\u001b[38;5;241;43m=\u001b[39;49m\u001b[43moverwrite\u001b[49m\u001b[43m,\u001b[49m\u001b[43m \u001b[49m\u001b[38;5;241;43m*\u001b[39;49m\u001b[38;5;241;43m*\u001b[39;49m\u001b[43mkwargs\u001b[49m\u001b[43m)\u001b[49m\n\u001b[1;32m   1366\u001b[0m \u001b[38;5;28;01mreturn\u001b[39;00m \u001b[38;5;28mself\u001b[39m\n",
      "File \u001b[0;32m/usr/local/Caskroom/miniconda/base/envs/arduino-streamlit/lib/python3.10/site-packages/plotly/basedatatypes.py:5123\u001b[0m, in \u001b[0;36mBasePlotlyType.update\u001b[0;34m(self, dict1, overwrite, **kwargs)\u001b[0m\n\u001b[1;32m   5121\u001b[0m     \u001b[38;5;28;01mwith\u001b[39;00m \u001b[38;5;28mself\u001b[39m\u001b[38;5;241m.\u001b[39mfigure\u001b[38;5;241m.\u001b[39mbatch_update():\n\u001b[1;32m   5122\u001b[0m         BaseFigure\u001b[38;5;241m.\u001b[39m_perform_update(\u001b[38;5;28mself\u001b[39m, dict1, overwrite\u001b[38;5;241m=\u001b[39moverwrite)\n\u001b[0;32m-> 5123\u001b[0m         \u001b[43mBaseFigure\u001b[49m\u001b[38;5;241;43m.\u001b[39;49m\u001b[43m_perform_update\u001b[49m\u001b[43m(\u001b[49m\u001b[38;5;28;43mself\u001b[39;49m\u001b[43m,\u001b[49m\u001b[43m \u001b[49m\u001b[43mkwargs\u001b[49m\u001b[43m,\u001b[49m\u001b[43m \u001b[49m\u001b[43moverwrite\u001b[49m\u001b[38;5;241;43m=\u001b[39;49m\u001b[43moverwrite\u001b[49m\u001b[43m)\u001b[49m\n\u001b[1;32m   5124\u001b[0m \u001b[38;5;28;01melse\u001b[39;00m:\n\u001b[1;32m   5125\u001b[0m     BaseFigure\u001b[38;5;241m.\u001b[39m_perform_update(\u001b[38;5;28mself\u001b[39m, dict1, overwrite\u001b[38;5;241m=\u001b[39moverwrite)\n",
      "File \u001b[0;32m/usr/local/Caskroom/miniconda/base/envs/arduino-streamlit/lib/python3.10/site-packages/plotly/basedatatypes.py:3926\u001b[0m, in \u001b[0;36mBaseFigure._perform_update\u001b[0;34m(plotly_obj, update_obj, overwrite)\u001b[0m\n\u001b[1;32m   3923\u001b[0m                 plotly_obj[key] \u001b[38;5;241m=\u001b[39m val\n\u001b[1;32m   3924\u001b[0m         \u001b[38;5;28;01melse\u001b[39;00m:\n\u001b[1;32m   3925\u001b[0m             \u001b[38;5;66;03m# Assign non-compound value\u001b[39;00m\n\u001b[0;32m-> 3926\u001b[0m             \u001b[43mplotly_obj\u001b[49m\u001b[43m[\u001b[49m\u001b[43mkey\u001b[49m\u001b[43m]\u001b[49m \u001b[38;5;241m=\u001b[39m val\n\u001b[1;32m   3928\u001b[0m \u001b[38;5;28;01melif\u001b[39;00m \u001b[38;5;28misinstance\u001b[39m(plotly_obj, \u001b[38;5;28mtuple\u001b[39m):\n\u001b[1;32m   3930\u001b[0m     \u001b[38;5;28;01mif\u001b[39;00m \u001b[38;5;28mlen\u001b[39m(update_obj) \u001b[38;5;241m==\u001b[39m \u001b[38;5;241m0\u001b[39m:\n\u001b[1;32m   3931\u001b[0m         \u001b[38;5;66;03m# Nothing to do\u001b[39;00m\n",
      "File \u001b[0;32m/usr/local/Caskroom/miniconda/base/envs/arduino-streamlit/lib/python3.10/site-packages/plotly/basedatatypes.py:4860\u001b[0m, in \u001b[0;36mBasePlotlyType.__setitem__\u001b[0;34m(self, prop, value)\u001b[0m\n\u001b[1;32m   4856\u001b[0m         \u001b[38;5;28mself\u001b[39m\u001b[38;5;241m.\u001b[39m_set_array_prop(prop, value)\n\u001b[1;32m   4858\u001b[0m     \u001b[38;5;66;03m# ### Handle simple property ###\u001b[39;00m\n\u001b[1;32m   4859\u001b[0m     \u001b[38;5;28;01melse\u001b[39;00m:\n\u001b[0;32m-> 4860\u001b[0m         \u001b[38;5;28;43mself\u001b[39;49m\u001b[38;5;241;43m.\u001b[39;49m\u001b[43m_set_prop\u001b[49m\u001b[43m(\u001b[49m\u001b[43mprop\u001b[49m\u001b[43m,\u001b[49m\u001b[43m \u001b[49m\u001b[43mvalue\u001b[49m\u001b[43m)\u001b[49m\n\u001b[1;32m   4861\u001b[0m \u001b[38;5;28;01melse\u001b[39;00m:\n\u001b[1;32m   4862\u001b[0m     \u001b[38;5;66;03m# Make sure properties dict is initialized\u001b[39;00m\n\u001b[1;32m   4863\u001b[0m     \u001b[38;5;28mself\u001b[39m\u001b[38;5;241m.\u001b[39m_init_props()\n",
      "File \u001b[0;32m/usr/local/Caskroom/miniconda/base/envs/arduino-streamlit/lib/python3.10/site-packages/plotly/basedatatypes.py:5204\u001b[0m, in \u001b[0;36mBasePlotlyType._set_prop\u001b[0;34m(self, prop, val)\u001b[0m\n\u001b[1;32m   5202\u001b[0m         \u001b[38;5;28;01mreturn\u001b[39;00m\n\u001b[1;32m   5203\u001b[0m     \u001b[38;5;28;01melse\u001b[39;00m:\n\u001b[0;32m-> 5204\u001b[0m         \u001b[38;5;28;01mraise\u001b[39;00m err\n\u001b[1;32m   5206\u001b[0m \u001b[38;5;66;03m# val is None\u001b[39;00m\n\u001b[1;32m   5207\u001b[0m \u001b[38;5;66;03m# -----------\u001b[39;00m\n\u001b[1;32m   5208\u001b[0m \u001b[38;5;28;01mif\u001b[39;00m val \u001b[38;5;129;01mis\u001b[39;00m \u001b[38;5;28;01mNone\u001b[39;00m:\n\u001b[1;32m   5209\u001b[0m     \u001b[38;5;66;03m# Check if we should send null update\u001b[39;00m\n",
      "File \u001b[0;32m/usr/local/Caskroom/miniconda/base/envs/arduino-streamlit/lib/python3.10/site-packages/plotly/basedatatypes.py:5199\u001b[0m, in \u001b[0;36mBasePlotlyType._set_prop\u001b[0;34m(self, prop, val)\u001b[0m\n\u001b[1;32m   5196\u001b[0m validator \u001b[38;5;241m=\u001b[39m \u001b[38;5;28mself\u001b[39m\u001b[38;5;241m.\u001b[39m_get_validator(prop)\n\u001b[1;32m   5198\u001b[0m \u001b[38;5;28;01mtry\u001b[39;00m:\n\u001b[0;32m-> 5199\u001b[0m     val \u001b[38;5;241m=\u001b[39m \u001b[43mvalidator\u001b[49m\u001b[38;5;241;43m.\u001b[39;49m\u001b[43mvalidate_coerce\u001b[49m\u001b[43m(\u001b[49m\u001b[43mval\u001b[49m\u001b[43m)\u001b[49m\n\u001b[1;32m   5200\u001b[0m \u001b[38;5;28;01mexcept\u001b[39;00m \u001b[38;5;167;01mValueError\u001b[39;00m \u001b[38;5;28;01mas\u001b[39;00m err:\n\u001b[1;32m   5201\u001b[0m     \u001b[38;5;28;01mif\u001b[39;00m \u001b[38;5;28mself\u001b[39m\u001b[38;5;241m.\u001b[39m_skip_invalid:\n",
      "File \u001b[0;32m/usr/local/Caskroom/miniconda/base/envs/arduino-streamlit/lib/python3.10/site-packages/_plotly_utils/basevalidators.py:620\u001b[0m, in \u001b[0;36mEnumeratedValidator.validate_coerce\u001b[0;34m(self, v)\u001b[0m\n\u001b[1;32m    618\u001b[0m     v \u001b[38;5;241m=\u001b[39m \u001b[38;5;28mself\u001b[39m\u001b[38;5;241m.\u001b[39mperform_replacemenet(v)\n\u001b[1;32m    619\u001b[0m     \u001b[38;5;28;01mif\u001b[39;00m \u001b[38;5;129;01mnot\u001b[39;00m \u001b[38;5;28mself\u001b[39m\u001b[38;5;241m.\u001b[39min_values(v):\n\u001b[0;32m--> 620\u001b[0m         \u001b[38;5;28;43mself\u001b[39;49m\u001b[38;5;241;43m.\u001b[39;49m\u001b[43mraise_invalid_val\u001b[49m\u001b[43m(\u001b[49m\u001b[43mv\u001b[49m\u001b[43m)\u001b[49m\n\u001b[1;32m    621\u001b[0m \u001b[38;5;28;01mreturn\u001b[39;00m v\n",
      "File \u001b[0;32m/usr/local/Caskroom/miniconda/base/envs/arduino-streamlit/lib/python3.10/site-packages/_plotly_utils/basevalidators.py:299\u001b[0m, in \u001b[0;36mBaseValidator.raise_invalid_val\u001b[0;34m(self, v, inds)\u001b[0m\n\u001b[1;32m    296\u001b[0m             \u001b[38;5;28;01mfor\u001b[39;00m i \u001b[38;5;129;01min\u001b[39;00m inds:\n\u001b[1;32m    297\u001b[0m                 name \u001b[38;5;241m+\u001b[39m\u001b[38;5;241m=\u001b[39m \u001b[38;5;124m\"\u001b[39m\u001b[38;5;124m[\u001b[39m\u001b[38;5;124m\"\u001b[39m \u001b[38;5;241m+\u001b[39m \u001b[38;5;28mstr\u001b[39m(i) \u001b[38;5;241m+\u001b[39m \u001b[38;5;124m\"\u001b[39m\u001b[38;5;124m]\u001b[39m\u001b[38;5;124m\"\u001b[39m\n\u001b[0;32m--> 299\u001b[0m         \u001b[38;5;28;01mraise\u001b[39;00m \u001b[38;5;167;01mValueError\u001b[39;00m(\n\u001b[1;32m    300\u001b[0m \u001b[38;5;250m            \u001b[39m\u001b[38;5;124;03m\"\"\"\u001b[39;00m\n\u001b[1;32m    301\u001b[0m \u001b[38;5;124;03m    Invalid value of type {typ} received for the '{name}' property of {pname}\u001b[39;00m\n\u001b[1;32m    302\u001b[0m \u001b[38;5;124;03m        Received value: {v}\u001b[39;00m\n\u001b[1;32m    303\u001b[0m \n\u001b[1;32m    304\u001b[0m \u001b[38;5;124;03m{valid_clr_desc}\"\"\"\u001b[39;00m\u001b[38;5;241m.\u001b[39mformat(\n\u001b[1;32m    305\u001b[0m                 name\u001b[38;5;241m=\u001b[39mname,\n\u001b[1;32m    306\u001b[0m                 pname\u001b[38;5;241m=\u001b[39m\u001b[38;5;28mself\u001b[39m\u001b[38;5;241m.\u001b[39mparent_name,\n\u001b[1;32m    307\u001b[0m                 typ\u001b[38;5;241m=\u001b[39mtype_str(v),\n\u001b[1;32m    308\u001b[0m                 v\u001b[38;5;241m=\u001b[39m\u001b[38;5;28mrepr\u001b[39m(v),\n\u001b[1;32m    309\u001b[0m                 valid_clr_desc\u001b[38;5;241m=\u001b[39m\u001b[38;5;28mself\u001b[39m\u001b[38;5;241m.\u001b[39mdescription(),\n\u001b[1;32m    310\u001b[0m             )\n\u001b[1;32m    311\u001b[0m         )\n",
      "\u001b[0;31mValueError\u001b[0m: \n    Invalid value of type 'builtins.str' received for the 'textposition' property of scatter\n        Received value: 'to  p center'\n\n    The 'textposition' property is an enumeration that may be specified as:\n      - One of the following enumeration values:\n            ['top left', 'top center', 'top right', 'middle left',\n            'middle center', 'middle right', 'bottom left', 'bottom\n            center', 'bottom right']\n      - A tuple, list, or one-dimensional numpy array of the above"
     ]
    }
   ],
   "source": [
    "def filter_members(df, member1, member2):\n",
    "    if member1 not in members:\n",
    "        raise ValueError(f\"Member \\\"{member1}\\\" not found\")\n",
    "    if member2 not in members:\n",
    "        raise ValueError(\"Member \\\"{member2}\\\" not found\")\n",
    "    result = df.query(f\"Nom == '{member1}' or Nom == '{member2}'\")\n",
    "    return result\n",
    "\n",
    "def make_scatter(df):\n",
    "    colors = px.colors.qualitative.Plotly\n",
    "    fig = px.scatter(df, x=\"Fréquence des pas par comptage (Hz)\", y=\"Amplitude de l'accélération (g)\", color=\"Nom\", hover_data={\"Fichier source\": True}, color_discrete_sequence=colors)\n",
    "    fig.update_traces(marker=dict(size=15))\n",
    "    fig.update_layout(\n",
    "        title=\"Fréquence des pas par comptage en fonction de l'amplitude de l'accélération\",\n",
    "        xaxis_title=\"Fréquence des pas par comptage (Hz)\",\n",
    "        yaxis_title=\"Amplitude de l'accélération (g)\",\n",
    "        hovermode=\"closest\",\n",
    "    )\n",
    "    return fig\n",
    "  \n",
    "filtered_df = filter_members(metrics_df, \"Matthieu\", \"Leo\")\n",
    "fig = make_scatter(filtered_df)\n",
    "fig      "
   ]
  },
  {
   "cell_type": "code",
   "execution_count": null,
   "metadata": {},
   "outputs": [],
   "source": [
    "def prepare_df(df):\n",
    "    df = df.copy()\n",
    "    df = df[[\n",
    "        \"Nom\",\n",
    "        \"Fréquence des pas par fft (Hz)\",\n",
    "        \"Fréquence des pas par comptage (Hz)\",\n",
    "        \"Ecart-type de la durée des pas (s)\",\n",
    "        \"Amplitude de l'accélération (g)\"\n",
    "        ]]\n",
    "    X = df.drop(columns=[\"Nom\"])\n",
    "    X = StandardScaler().fit_transform(X)\n",
    "    y = df[\"Nom\"]\n",
    "    X_train, X_test, y_train, y_test = train_test_split(X, y, test_size=0.2)\n",
    "    return X_train, X_test, y_train, y_test\n",
    "\n"
   ]
  },
  {
   "cell_type": "code",
   "execution_count": null,
   "metadata": {},
   "outputs": [],
   "source": [
    "\n",
    "filtered_df = filter_members(metrics_df, \"Matthieu\", \"Leo\")\n",
    "X_train, X_test, y_train, y_test = prepare_df(metrics_df)\n",
    "model = RandomForestClassifier()\n",
    "scores = cross_val_score(model, X_train, y_train, cv=5)\n",
    "print(\"Cross validation scores : \", scores)\n",
    "print(\"Mean cross validation score : \", np.mean(scores))"
   ]
  },
  {
   "cell_type": "code",
   "execution_count": null,
   "metadata": {},
   "outputs": [],
   "source": [
    "\n",
    "model.fit(X_train, y_train)\n",
    "y_train_pred = model.predict(X_train)\n",
    "y_test_pred = model.predict(X_test)\n",
    "print(\"Train accuracy:\", accuracy_score(y_train, y_train_pred))\n",
    "print(\"Test accuracy:\", accuracy_score(y_test, y_test_pred))\n",
    "print(\"Confusion matrix:\")\n",
    "print(confusion_matrix(y_test, y_test_pred))\n"
   ]
  }
 ],
 "metadata": {
  "kernelspec": {
   "display_name": "arduino-streamlit",
   "language": "python",
   "name": "python3"
  },
  "language_info": {
   "codemirror_mode": {
    "name": "ipython",
    "version": 3
   },
   "file_extension": ".py",
   "mimetype": "text/x-python",
   "name": "python",
   "nbconvert_exporter": "python",
   "pygments_lexer": "ipython3",
   "version": "3.10.16"
  }
 },
 "nbformat": 4,
 "nbformat_minor": 2
}
