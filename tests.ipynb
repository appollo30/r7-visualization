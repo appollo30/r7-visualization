{
 "cells": [
  {
   "cell_type": "code",
   "execution_count": 13,
   "metadata": {},
   "outputs": [],
   "source": [
    "import pandas as pd\n",
    "from sklearn.model_selection import train_test_split\n",
    "from sklearn.linear_model import LogisticRegression\n",
    "from sklearn.svm import SVC\n",
    "from sklearn.ensemble import RandomForestClassifier\n",
    "from sklearn.tree import DecisionTreeClassifier\n",
    "from sklearn.neighbors import KNeighborsClassifier\n",
    "from sklearn.model_selection import cross_val_score\n",
    "from sklearn.metrics import accuracy_score, classification_report, confusion_matrix\n",
    "from sklearn.preprocessing import StandardScaler\n",
    "import numpy as np\n",
    "import plotly.express as px"
   ]
  },
  {
   "cell_type": "code",
   "execution_count": 14,
   "metadata": {},
   "outputs": [
    {
     "data": {
      "application/vnd.microsoft.datawrangler.viewer.v0+json": {
       "columns": [
        {
         "name": "index",
         "rawType": "int64",
         "type": "integer"
        },
        {
         "name": "Nom",
         "rawType": "object",
         "type": "string"
        },
        {
         "name": "Fichier source",
         "rawType": "object",
         "type": "string"
        },
        {
         "name": "Longueur de l'enregistrement (s)",
         "rawType": "float64",
         "type": "float"
        },
        {
         "name": "Nombre de pas",
         "rawType": "int64",
         "type": "integer"
        },
        {
         "name": "Fréquence des pas par fft (Hz)",
         "rawType": "float64",
         "type": "float"
        },
        {
         "name": "Fréquence des pas par comptage (Hz)",
         "rawType": "float64",
         "type": "float"
        },
        {
         "name": "Ecart-type de la durée des pas (s)",
         "rawType": "float64",
         "type": "float"
        },
        {
         "name": "Amplitude de l'accélération (g)",
         "rawType": "float64",
         "type": "float"
        }
       ],
       "conversionMethod": "pd.DataFrame",
       "ref": "6809b7ff-e16c-40a3-aa78-b12bdb14ac03",
       "rows": [
        [
         "0",
         "Corentin",
         "accelerometer4_data.csv",
         "8.98",
         "13",
         "1.6703786191536747",
         "1.687763713080169",
         "0.0865631666367502",
         "1.0351851047558218"
        ],
        [
         "1",
         "Leo",
         "accelerometer1_data.csv",
         "8.99",
         "14",
         "1.7797552836484982",
         "1.7639077340569875",
         "0.0322450552758649",
         "1.259968349901273"
        ],
        [
         "2",
         "Serge",
         "accelerometer4_data.csv",
         "8.99",
         "14",
         "1.668520578420467",
         "1.6518424396442184",
         "0.1192766661041592",
         "0.8520111505173423"
        ],
        [
         "3",
         "Antoine",
         "accelerometer6_data.csv",
         "8.99",
         "14",
         "1.668520578420467",
         "1.6905071521456436",
         "0.0516149451622545",
         "1.2680720001911754"
        ],
        [
         "4",
         "Antoine",
         "accelerometer9_data.csv",
         "9.98",
         "13",
         "1.6032064128256511",
         "1.6064257028112452",
         "0.0561046100844421",
         "1.0096501937021916"
        ]
       ],
       "shape": {
        "columns": 8,
        "rows": 5
       }
      },
      "text/html": [
       "<div>\n",
       "<style scoped>\n",
       "    .dataframe tbody tr th:only-of-type {\n",
       "        vertical-align: middle;\n",
       "    }\n",
       "\n",
       "    .dataframe tbody tr th {\n",
       "        vertical-align: top;\n",
       "    }\n",
       "\n",
       "    .dataframe thead th {\n",
       "        text-align: right;\n",
       "    }\n",
       "</style>\n",
       "<table border=\"1\" class=\"dataframe\">\n",
       "  <thead>\n",
       "    <tr style=\"text-align: right;\">\n",
       "      <th></th>\n",
       "      <th>Nom</th>\n",
       "      <th>Fichier source</th>\n",
       "      <th>Longueur de l'enregistrement (s)</th>\n",
       "      <th>Nombre de pas</th>\n",
       "      <th>Fréquence des pas par fft (Hz)</th>\n",
       "      <th>Fréquence des pas par comptage (Hz)</th>\n",
       "      <th>Ecart-type de la durée des pas (s)</th>\n",
       "      <th>Amplitude de l'accélération (g)</th>\n",
       "    </tr>\n",
       "  </thead>\n",
       "  <tbody>\n",
       "    <tr>\n",
       "      <th>0</th>\n",
       "      <td>Corentin</td>\n",
       "      <td>accelerometer4_data.csv</td>\n",
       "      <td>8.98</td>\n",
       "      <td>13</td>\n",
       "      <td>1.670379</td>\n",
       "      <td>1.687764</td>\n",
       "      <td>0.086563</td>\n",
       "      <td>1.035185</td>\n",
       "    </tr>\n",
       "    <tr>\n",
       "      <th>1</th>\n",
       "      <td>Leo</td>\n",
       "      <td>accelerometer1_data.csv</td>\n",
       "      <td>8.99</td>\n",
       "      <td>14</td>\n",
       "      <td>1.779755</td>\n",
       "      <td>1.763908</td>\n",
       "      <td>0.032245</td>\n",
       "      <td>1.259968</td>\n",
       "    </tr>\n",
       "    <tr>\n",
       "      <th>2</th>\n",
       "      <td>Serge</td>\n",
       "      <td>accelerometer4_data.csv</td>\n",
       "      <td>8.99</td>\n",
       "      <td>14</td>\n",
       "      <td>1.668521</td>\n",
       "      <td>1.651842</td>\n",
       "      <td>0.119277</td>\n",
       "      <td>0.852011</td>\n",
       "    </tr>\n",
       "    <tr>\n",
       "      <th>3</th>\n",
       "      <td>Antoine</td>\n",
       "      <td>accelerometer6_data.csv</td>\n",
       "      <td>8.99</td>\n",
       "      <td>14</td>\n",
       "      <td>1.668521</td>\n",
       "      <td>1.690507</td>\n",
       "      <td>0.051615</td>\n",
       "      <td>1.268072</td>\n",
       "    </tr>\n",
       "    <tr>\n",
       "      <th>4</th>\n",
       "      <td>Antoine</td>\n",
       "      <td>accelerometer9_data.csv</td>\n",
       "      <td>9.98</td>\n",
       "      <td>13</td>\n",
       "      <td>1.603206</td>\n",
       "      <td>1.606426</td>\n",
       "      <td>0.056105</td>\n",
       "      <td>1.009650</td>\n",
       "    </tr>\n",
       "  </tbody>\n",
       "</table>\n",
       "</div>"
      ],
      "text/plain": [
       "        Nom           Fichier source  Longueur de l'enregistrement (s)  \\\n",
       "0  Corentin  accelerometer4_data.csv                              8.98   \n",
       "1       Leo  accelerometer1_data.csv                              8.99   \n",
       "2     Serge  accelerometer4_data.csv                              8.99   \n",
       "3   Antoine  accelerometer6_data.csv                              8.99   \n",
       "4   Antoine  accelerometer9_data.csv                              9.98   \n",
       "\n",
       "   Nombre de pas  Fréquence des pas par fft (Hz)  \\\n",
       "0             13                        1.670379   \n",
       "1             14                        1.779755   \n",
       "2             14                        1.668521   \n",
       "3             14                        1.668521   \n",
       "4             13                        1.603206   \n",
       "\n",
       "   Fréquence des pas par comptage (Hz)  Ecart-type de la durée des pas (s)  \\\n",
       "0                             1.687764                            0.086563   \n",
       "1                             1.763908                            0.032245   \n",
       "2                             1.651842                            0.119277   \n",
       "3                             1.690507                            0.051615   \n",
       "4                             1.606426                            0.056105   \n",
       "\n",
       "   Amplitude de l'accélération (g)  \n",
       "0                         1.035185  \n",
       "1                         1.259968  \n",
       "2                         0.852011  \n",
       "3                         1.268072  \n",
       "4                         1.009650  "
      ]
     },
     "execution_count": 14,
     "metadata": {},
     "output_type": "execute_result"
    }
   ],
   "source": [
    "metrics_df = pd.read_csv(\"data/metrics.csv\")\n",
    "metrics_df.head()"
   ]
  },
  {
   "cell_type": "code",
   "execution_count": 15,
   "metadata": {},
   "outputs": [],
   "source": [
    "members = list(metrics_df[\"Nom\"].values)"
   ]
  },
  {
   "cell_type": "code",
   "execution_count": 16,
   "metadata": {},
   "outputs": [],
   "source": [
    "def prepare_df(df):\n",
    "    df = df.copy()\n",
    "    df = df[[\n",
    "        \"Nom\",\n",
    "        \"Fréquence des pas par fft (Hz)\",\n",
    "        \"Fréquence des pas par comptage (Hz)\",\n",
    "        \"Ecart-type de la durée des pas (s)\",\n",
    "        \"Amplitude de l'accélération (g)\"\n",
    "        ]]\n",
    "    X = df.drop(columns=[\"Nom\"])\n",
    "    X = StandardScaler().fit_transform(X)\n",
    "    y = df[\"Nom\"]\n",
    "    X_train, X_test, y_train, y_test = train_test_split(X, y, test_size=0.2)\n",
    "    return X_train, X_test, y_train, y_test\n",
    "\n",
    "member_or_other = lambda x, member : member if x == member else \"Autre\"\n",
    "\n",
    "def specific_member(y_train, y_test, member):\n",
    "    y_train = y_train.apply(lambda x: member_or_other(x, member))\n",
    "    y_test = y_test.apply(lambda x: member_or_other(x, member))\n",
    "    return y_train, y_test"
   ]
  },
  {
   "cell_type": "code",
   "execution_count": 17,
   "metadata": {},
   "outputs": [
    {
     "name": "stdout",
     "output_type": "stream",
     "text": [
      "Cross validation scores :  [0.6        0.6        0.55555556 0.55555556 0.77777778]\n",
      "Mean cross validation score :  0.6177777777777778\n"
     ]
    }
   ],
   "source": [
    "\n",
    "X_train, X_test, y_train, y_test = prepare_df(metrics_df)\n",
    "model = RandomForestClassifier()\n",
    "scores = cross_val_score(model, X_train, y_train, cv=5)\n",
    "print(\"Cross validation scores : \", scores)\n",
    "print(\"Mean cross validation score : \", np.mean(scores))"
   ]
  },
  {
   "cell_type": "code",
   "execution_count": 18,
   "metadata": {},
   "outputs": [
    {
     "name": "stdout",
     "output_type": "stream",
     "text": [
      "Train accuracy: 1.0\n",
      "Test accuracy: 0.9166666666666666\n",
      "Confusion matrix:\n",
      "[[2 0 0 0 0 0]\n",
      " [0 1 0 0 0 0]\n",
      " [0 0 3 0 0 0]\n",
      " [0 0 0 2 0 0]\n",
      " [0 0 0 0 1 0]\n",
      " [0 1 0 0 0 2]]\n"
     ]
    }
   ],
   "source": [
    "\n",
    "model.fit(X_train, y_train)\n",
    "y_train_pred = model.predict(X_train)\n",
    "y_test_pred = model.predict(X_test)\n",
    "print(\"Train accuracy:\", accuracy_score(y_train, y_train_pred))\n",
    "print(\"Test accuracy:\", accuracy_score(y_test, y_test_pred))\n",
    "print(\"Confusion matrix:\")\n",
    "print(confusion_matrix(y_test, y_test_pred))\n"
   ]
  }
 ],
 "metadata": {
  "kernelspec": {
   "display_name": "arduino-streamlit",
   "language": "python",
   "name": "python3"
  },
  "language_info": {
   "codemirror_mode": {
    "name": "ipython",
    "version": 3
   },
   "file_extension": ".py",
   "mimetype": "text/x-python",
   "name": "python",
   "nbconvert_exporter": "python",
   "pygments_lexer": "ipython3",
   "version": "3.10.16"
  }
 },
 "nbformat": 4,
 "nbformat_minor": 2
}
