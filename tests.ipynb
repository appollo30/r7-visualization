{
 "cells": [
  {
   "cell_type": "code",
   "execution_count": 1,
   "metadata": {},
   "outputs": [],
   "source": [
    "import pandas as pd\n",
    "from src.data_processing_utils import process, raw_schema, processed_schema"
   ]
  },
  {
   "cell_type": "code",
   "execution_count": 2,
   "metadata": {},
   "outputs": [
    {
     "data": {
      "application/vnd.microsoft.datawrangler.viewer.v0+json": {
       "columns": [
        {
         "name": "index",
         "rawType": "int64",
         "type": "integer"
        },
        {
         "name": "X (g)",
         "rawType": "float64",
         "type": "float"
        },
        {
         "name": "Y (g)",
         "rawType": "float64",
         "type": "float"
        },
        {
         "name": "Z (g)",
         "rawType": "float64",
         "type": "float"
        },
        {
         "name": "Timestamp",
         "rawType": "object",
         "type": "string"
        }
       ],
       "conversionMethod": "pd.DataFrame",
       "ref": "159fb889-fc87-4500-b1e4-2285869addc5",
       "rows": [
        [
         "0",
         "0.96",
         "0.03",
         "0.22",
         "2025-02-11 11:16:21"
        ],
        [
         "1",
         "0.96",
         "0.03",
         "0.22",
         "2025-02-11 11:16:21"
        ],
        [
         "2",
         "0.96",
         "0.03",
         "0.22",
         "2025-02-11 11:16:21"
        ],
        [
         "3",
         "0.96",
         "0.02",
         "0.22",
         "2025-02-11 11:16:21"
        ],
        [
         "4",
         "0.96",
         "0.02",
         "0.22",
         "2025-02-11 11:16:21"
        ]
       ],
       "shape": {
        "columns": 4,
        "rows": 5
       }
      },
      "text/html": [
       "<div>\n",
       "<style scoped>\n",
       "    .dataframe tbody tr th:only-of-type {\n",
       "        vertical-align: middle;\n",
       "    }\n",
       "\n",
       "    .dataframe tbody tr th {\n",
       "        vertical-align: top;\n",
       "    }\n",
       "\n",
       "    .dataframe thead th {\n",
       "        text-align: right;\n",
       "    }\n",
       "</style>\n",
       "<table border=\"1\" class=\"dataframe\">\n",
       "  <thead>\n",
       "    <tr style=\"text-align: right;\">\n",
       "      <th></th>\n",
       "      <th>X (g)</th>\n",
       "      <th>Y (g)</th>\n",
       "      <th>Z (g)</th>\n",
       "      <th>Timestamp</th>\n",
       "    </tr>\n",
       "  </thead>\n",
       "  <tbody>\n",
       "    <tr>\n",
       "      <th>0</th>\n",
       "      <td>0.96</td>\n",
       "      <td>0.03</td>\n",
       "      <td>0.22</td>\n",
       "      <td>2025-02-11 11:16:21</td>\n",
       "    </tr>\n",
       "    <tr>\n",
       "      <th>1</th>\n",
       "      <td>0.96</td>\n",
       "      <td>0.03</td>\n",
       "      <td>0.22</td>\n",
       "      <td>2025-02-11 11:16:21</td>\n",
       "    </tr>\n",
       "    <tr>\n",
       "      <th>2</th>\n",
       "      <td>0.96</td>\n",
       "      <td>0.03</td>\n",
       "      <td>0.22</td>\n",
       "      <td>2025-02-11 11:16:21</td>\n",
       "    </tr>\n",
       "    <tr>\n",
       "      <th>3</th>\n",
       "      <td>0.96</td>\n",
       "      <td>0.02</td>\n",
       "      <td>0.22</td>\n",
       "      <td>2025-02-11 11:16:21</td>\n",
       "    </tr>\n",
       "    <tr>\n",
       "      <th>4</th>\n",
       "      <td>0.96</td>\n",
       "      <td>0.02</td>\n",
       "      <td>0.22</td>\n",
       "      <td>2025-02-11 11:16:21</td>\n",
       "    </tr>\n",
       "  </tbody>\n",
       "</table>\n",
       "</div>"
      ],
      "text/plain": [
       "   X (g)  Y (g)  Z (g)            Timestamp\n",
       "0   0.96   0.03   0.22  2025-02-11 11:16:21\n",
       "1   0.96   0.03   0.22  2025-02-11 11:16:21\n",
       "2   0.96   0.03   0.22  2025-02-11 11:16:21\n",
       "3   0.96   0.02   0.22  2025-02-11 11:16:21\n",
       "4   0.96   0.02   0.22  2025-02-11 11:16:21"
      ]
     },
     "execution_count": 2,
     "metadata": {},
     "output_type": "execute_result"
    }
   ],
   "source": [
    "df = pd.read_csv(\"data/raw/Matthieu/accelerometer10_data.csv\")\n",
    "df.head()\n"
   ]
  },
  {
   "cell_type": "code",
   "execution_count": 3,
   "metadata": {},
   "outputs": [
    {
     "data": {
      "application/vnd.microsoft.datawrangler.viewer.v0+json": {
       "columns": [
        {
         "name": "index",
         "rawType": "int64",
         "type": "integer"
        },
        {
         "name": "X (g)",
         "rawType": "float64",
         "type": "float"
        },
        {
         "name": "Y (g)",
         "rawType": "float64",
         "type": "float"
        },
        {
         "name": "Z (g)",
         "rawType": "float64",
         "type": "float"
        },
        {
         "name": "Timestamp",
         "rawType": "datetime64[ns]",
         "type": "datetime"
        }
       ],
       "conversionMethod": "pd.DataFrame",
       "ref": "f0a910e5-659e-413c-9f7c-403c93773c8f",
       "rows": [
        [
         "0",
         "0.96",
         "0.03",
         "0.22",
         "2025-02-11 11:16:21"
        ],
        [
         "1",
         "0.96",
         "0.03",
         "0.22",
         "2025-02-11 11:16:21"
        ],
        [
         "2",
         "0.96",
         "0.03",
         "0.22",
         "2025-02-11 11:16:21"
        ],
        [
         "3",
         "0.96",
         "0.02",
         "0.22",
         "2025-02-11 11:16:21"
        ],
        [
         "4",
         "0.96",
         "0.02",
         "0.22",
         "2025-02-11 11:16:21"
        ]
       ],
       "shape": {
        "columns": 4,
        "rows": 5
       }
      },
      "text/html": [
       "<div>\n",
       "<style scoped>\n",
       "    .dataframe tbody tr th:only-of-type {\n",
       "        vertical-align: middle;\n",
       "    }\n",
       "\n",
       "    .dataframe tbody tr th {\n",
       "        vertical-align: top;\n",
       "    }\n",
       "\n",
       "    .dataframe thead th {\n",
       "        text-align: right;\n",
       "    }\n",
       "</style>\n",
       "<table border=\"1\" class=\"dataframe\">\n",
       "  <thead>\n",
       "    <tr style=\"text-align: right;\">\n",
       "      <th></th>\n",
       "      <th>X (g)</th>\n",
       "      <th>Y (g)</th>\n",
       "      <th>Z (g)</th>\n",
       "      <th>Timestamp</th>\n",
       "    </tr>\n",
       "  </thead>\n",
       "  <tbody>\n",
       "    <tr>\n",
       "      <th>0</th>\n",
       "      <td>0.96</td>\n",
       "      <td>0.03</td>\n",
       "      <td>0.22</td>\n",
       "      <td>2025-02-11 11:16:21</td>\n",
       "    </tr>\n",
       "    <tr>\n",
       "      <th>1</th>\n",
       "      <td>0.96</td>\n",
       "      <td>0.03</td>\n",
       "      <td>0.22</td>\n",
       "      <td>2025-02-11 11:16:21</td>\n",
       "    </tr>\n",
       "    <tr>\n",
       "      <th>2</th>\n",
       "      <td>0.96</td>\n",
       "      <td>0.03</td>\n",
       "      <td>0.22</td>\n",
       "      <td>2025-02-11 11:16:21</td>\n",
       "    </tr>\n",
       "    <tr>\n",
       "      <th>3</th>\n",
       "      <td>0.96</td>\n",
       "      <td>0.02</td>\n",
       "      <td>0.22</td>\n",
       "      <td>2025-02-11 11:16:21</td>\n",
       "    </tr>\n",
       "    <tr>\n",
       "      <th>4</th>\n",
       "      <td>0.96</td>\n",
       "      <td>0.02</td>\n",
       "      <td>0.22</td>\n",
       "      <td>2025-02-11 11:16:21</td>\n",
       "    </tr>\n",
       "  </tbody>\n",
       "</table>\n",
       "</div>"
      ],
      "text/plain": [
       "   X (g)  Y (g)  Z (g)           Timestamp\n",
       "0   0.96   0.03   0.22 2025-02-11 11:16:21\n",
       "1   0.96   0.03   0.22 2025-02-11 11:16:21\n",
       "2   0.96   0.03   0.22 2025-02-11 11:16:21\n",
       "3   0.96   0.02   0.22 2025-02-11 11:16:21\n",
       "4   0.96   0.02   0.22 2025-02-11 11:16:21"
      ]
     },
     "execution_count": 3,
     "metadata": {},
     "output_type": "execute_result"
    }
   ],
   "source": [
    "df = raw_schema.validate(df)\n",
    "df.head()"
   ]
  },
  {
   "cell_type": "code",
   "execution_count": 4,
   "metadata": {},
   "outputs": [
    {
     "data": {
      "application/vnd.microsoft.datawrangler.viewer.v0+json": {
       "columns": [
        {
         "name": "time (timedelta)",
         "rawType": "timedelta64[ns]",
         "type": "unknown"
        },
        {
         "name": "time (s)",
         "rawType": "float64",
         "type": "float"
        },
        {
         "name": "X (g)",
         "rawType": "float64",
         "type": "float"
        },
        {
         "name": "Y (g)",
         "rawType": "float64",
         "type": "float"
        },
        {
         "name": "Z (g)",
         "rawType": "float64",
         "type": "float"
        },
        {
         "name": "acceleration (g)",
         "rawType": "float64",
         "type": "float"
        }
       ],
       "conversionMethod": "pd.DataFrame",
       "ref": "227cfc8e-45de-4138-9759-7bcdae56f932",
       "rows": [
        [
         "0 days 00:00:00",
         "0.0",
         "0.965",
         "0.03",
         "0.22",
         "0.9902146232004454"
        ],
        [
         "0 days 00:00:00.010000",
         "0.01",
         "0.96",
         "0.03",
         "0.22",
         "0.9853425800197615"
        ],
        [
         "0 days 00:00:00.020000",
         "0.02",
         "0.96",
         "0.03",
         "0.22",
         "0.9853425800197615"
        ],
        [
         "0 days 00:00:00.030000",
         "0.03",
         "0.96",
         "0.03",
         "0.22",
         "0.9853425800197615"
        ],
        [
         "0 days 00:00:00.040000",
         "0.04",
         "0.96",
         "0.03",
         "0.22",
         "0.9853425800197615"
        ]
       ],
       "shape": {
        "columns": 5,
        "rows": 5
       }
      },
      "text/html": [
       "<div>\n",
       "<style scoped>\n",
       "    .dataframe tbody tr th:only-of-type {\n",
       "        vertical-align: middle;\n",
       "    }\n",
       "\n",
       "    .dataframe tbody tr th {\n",
       "        vertical-align: top;\n",
       "    }\n",
       "\n",
       "    .dataframe thead th {\n",
       "        text-align: right;\n",
       "    }\n",
       "</style>\n",
       "<table border=\"1\" class=\"dataframe\">\n",
       "  <thead>\n",
       "    <tr style=\"text-align: right;\">\n",
       "      <th></th>\n",
       "      <th>time (s)</th>\n",
       "      <th>X (g)</th>\n",
       "      <th>Y (g)</th>\n",
       "      <th>Z (g)</th>\n",
       "      <th>acceleration (g)</th>\n",
       "    </tr>\n",
       "    <tr>\n",
       "      <th>time (timedelta)</th>\n",
       "      <th></th>\n",
       "      <th></th>\n",
       "      <th></th>\n",
       "      <th></th>\n",
       "      <th></th>\n",
       "    </tr>\n",
       "  </thead>\n",
       "  <tbody>\n",
       "    <tr>\n",
       "      <th>0 days 00:00:00</th>\n",
       "      <td>0.00</td>\n",
       "      <td>0.965</td>\n",
       "      <td>0.03</td>\n",
       "      <td>0.22</td>\n",
       "      <td>0.990215</td>\n",
       "    </tr>\n",
       "    <tr>\n",
       "      <th>0 days 00:00:00.010000</th>\n",
       "      <td>0.01</td>\n",
       "      <td>0.960</td>\n",
       "      <td>0.03</td>\n",
       "      <td>0.22</td>\n",
       "      <td>0.985343</td>\n",
       "    </tr>\n",
       "    <tr>\n",
       "      <th>0 days 00:00:00.020000</th>\n",
       "      <td>0.02</td>\n",
       "      <td>0.960</td>\n",
       "      <td>0.03</td>\n",
       "      <td>0.22</td>\n",
       "      <td>0.985343</td>\n",
       "    </tr>\n",
       "    <tr>\n",
       "      <th>0 days 00:00:00.030000</th>\n",
       "      <td>0.03</td>\n",
       "      <td>0.960</td>\n",
       "      <td>0.03</td>\n",
       "      <td>0.22</td>\n",
       "      <td>0.985343</td>\n",
       "    </tr>\n",
       "    <tr>\n",
       "      <th>0 days 00:00:00.040000</th>\n",
       "      <td>0.04</td>\n",
       "      <td>0.960</td>\n",
       "      <td>0.03</td>\n",
       "      <td>0.22</td>\n",
       "      <td>0.985343</td>\n",
       "    </tr>\n",
       "  </tbody>\n",
       "</table>\n",
       "</div>"
      ],
      "text/plain": [
       "                        time (s)  X (g)  Y (g)  Z (g)  acceleration (g)\n",
       "time (timedelta)                                                       \n",
       "0 days 00:00:00             0.00  0.965   0.03   0.22          0.990215\n",
       "0 days 00:00:00.010000      0.01  0.960   0.03   0.22          0.985343\n",
       "0 days 00:00:00.020000      0.02  0.960   0.03   0.22          0.985343\n",
       "0 days 00:00:00.030000      0.03  0.960   0.03   0.22          0.985343\n",
       "0 days 00:00:00.040000      0.04  0.960   0.03   0.22          0.985343"
      ]
     },
     "execution_count": 4,
     "metadata": {},
     "output_type": "execute_result"
    }
   ],
   "source": [
    "processed_df = process(df)\n",
    "processed_df.head()"
   ]
  }
 ],
 "metadata": {
  "kernelspec": {
   "display_name": "arduino-streamlit",
   "language": "python",
   "name": "python3"
  },
  "language_info": {
   "codemirror_mode": {
    "name": "ipython",
    "version": 3
   },
   "file_extension": ".py",
   "mimetype": "text/x-python",
   "name": "python",
   "nbconvert_exporter": "python",
   "pygments_lexer": "ipython3",
   "version": "3.13.2"
  }
 },
 "nbformat": 4,
 "nbformat_minor": 2
}
