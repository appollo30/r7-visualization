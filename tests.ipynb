{
 "cells": [
  {
   "cell_type": "code",
   "execution_count": 1,
   "metadata": {},
   "outputs": [],
   "source": [
    "import pandas as pd\n",
    "import plotly.express as px\n",
    "import glob\n",
    "from src.walking_recording import WalkingRecording"
   ]
  },
  {
   "cell_type": "code",
   "execution_count": 2,
   "metadata": {},
   "outputs": [
    {
     "data": {
      "application/vnd.microsoft.datawrangler.viewer.v0+json": {
       "columns": [
        {
         "name": "index",
         "rawType": "int64",
         "type": "integer"
        },
        {
         "name": "Nom",
         "rawType": "object",
         "type": "string"
        },
        {
         "name": "Fichier source",
         "rawType": "object",
         "type": "string"
        },
        {
         "name": "Longueur de l'enregistrement (s)",
         "rawType": "float64",
         "type": "float"
        },
        {
         "name": "Nombre de pas",
         "rawType": "int64",
         "type": "integer"
        },
        {
         "name": "Fréquence des pas par fft (Hz)",
         "rawType": "float64",
         "type": "float"
        },
        {
         "name": "Fréquence des pas par comptage (Hz)",
         "rawType": "float64",
         "type": "float"
        },
        {
         "name": "Amplitude de l'accélération (g)",
         "rawType": "float64",
         "type": "float"
        },
        {
         "name": "Ecart-type de la durée des pas (s)",
         "rawType": "float64",
         "type": "float"
        }
       ],
       "conversionMethod": "pd.DataFrame",
       "ref": "62ced337-e161-449e-aba2-804593eb5a19",
       "rows": [
        [
         "0",
         "Felix",
         "accelerometer7_data.csv",
         "9.99",
         "17",
         "1.9019019019019017",
         "1.884570082449941",
         "1.3333444773668783",
         "0.0781851435163144"
        ],
        [
         "1",
         "Felix",
         "accelerometer6_data.csv",
         "9.97",
         "16",
         "1.0030090270812435",
         "1.8679950186799499",
         "1.1930635476567963",
         "0.08348367391007532"
        ],
        [
         "2",
         "Felix",
         "accelerometer10_data.csv",
         "10.0",
         "14",
         "1.9000000000000001",
         "1.589242053789731",
         "1.1777555195383216",
         "0.23052337330740577"
        ],
        [
         "3",
         "Felix",
         "accelerometer1_data.csv",
         "9.99",
         "12",
         "1.0010010010010009",
         "1.4435695538057742",
         "1.2321030526191694",
         "0.2138266077498734"
        ],
        [
         "4",
         "Felix",
         "accelerometer4_data.csv",
         "10.0",
         "17",
         "1.9000000000000001",
         "1.9161676646706587",
         "1.2484687791993692",
         "0.08665785211585474"
        ]
       ],
       "shape": {
        "columns": 8,
        "rows": 5
       }
      },
      "text/html": [
       "<div>\n",
       "<style scoped>\n",
       "    .dataframe tbody tr th:only-of-type {\n",
       "        vertical-align: middle;\n",
       "    }\n",
       "\n",
       "    .dataframe tbody tr th {\n",
       "        vertical-align: top;\n",
       "    }\n",
       "\n",
       "    .dataframe thead th {\n",
       "        text-align: right;\n",
       "    }\n",
       "</style>\n",
       "<table border=\"1\" class=\"dataframe\">\n",
       "  <thead>\n",
       "    <tr style=\"text-align: right;\">\n",
       "      <th></th>\n",
       "      <th>Nom</th>\n",
       "      <th>Fichier source</th>\n",
       "      <th>Longueur de l'enregistrement (s)</th>\n",
       "      <th>Nombre de pas</th>\n",
       "      <th>Fréquence des pas par fft (Hz)</th>\n",
       "      <th>Fréquence des pas par comptage (Hz)</th>\n",
       "      <th>Amplitude de l'accélération (g)</th>\n",
       "      <th>Ecart-type de la durée des pas (s)</th>\n",
       "    </tr>\n",
       "  </thead>\n",
       "  <tbody>\n",
       "    <tr>\n",
       "      <th>0</th>\n",
       "      <td>Felix</td>\n",
       "      <td>accelerometer7_data.csv</td>\n",
       "      <td>9.99</td>\n",
       "      <td>17</td>\n",
       "      <td>1.901902</td>\n",
       "      <td>1.884570</td>\n",
       "      <td>1.333344</td>\n",
       "      <td>0.078185</td>\n",
       "    </tr>\n",
       "    <tr>\n",
       "      <th>1</th>\n",
       "      <td>Felix</td>\n",
       "      <td>accelerometer6_data.csv</td>\n",
       "      <td>9.97</td>\n",
       "      <td>16</td>\n",
       "      <td>1.003009</td>\n",
       "      <td>1.867995</td>\n",
       "      <td>1.193064</td>\n",
       "      <td>0.083484</td>\n",
       "    </tr>\n",
       "    <tr>\n",
       "      <th>2</th>\n",
       "      <td>Felix</td>\n",
       "      <td>accelerometer10_data.csv</td>\n",
       "      <td>10.00</td>\n",
       "      <td>14</td>\n",
       "      <td>1.900000</td>\n",
       "      <td>1.589242</td>\n",
       "      <td>1.177756</td>\n",
       "      <td>0.230523</td>\n",
       "    </tr>\n",
       "    <tr>\n",
       "      <th>3</th>\n",
       "      <td>Felix</td>\n",
       "      <td>accelerometer1_data.csv</td>\n",
       "      <td>9.99</td>\n",
       "      <td>12</td>\n",
       "      <td>1.001001</td>\n",
       "      <td>1.443570</td>\n",
       "      <td>1.232103</td>\n",
       "      <td>0.213827</td>\n",
       "    </tr>\n",
       "    <tr>\n",
       "      <th>4</th>\n",
       "      <td>Felix</td>\n",
       "      <td>accelerometer4_data.csv</td>\n",
       "      <td>10.00</td>\n",
       "      <td>17</td>\n",
       "      <td>1.900000</td>\n",
       "      <td>1.916168</td>\n",
       "      <td>1.248469</td>\n",
       "      <td>0.086658</td>\n",
       "    </tr>\n",
       "  </tbody>\n",
       "</table>\n",
       "</div>"
      ],
      "text/plain": [
       "     Nom            Fichier source  Longueur de l'enregistrement (s)  \\\n",
       "0  Felix   accelerometer7_data.csv                              9.99   \n",
       "1  Felix   accelerometer6_data.csv                              9.97   \n",
       "2  Felix  accelerometer10_data.csv                             10.00   \n",
       "3  Felix   accelerometer1_data.csv                              9.99   \n",
       "4  Felix   accelerometer4_data.csv                             10.00   \n",
       "\n",
       "   Nombre de pas  Fréquence des pas par fft (Hz)  \\\n",
       "0             17                        1.901902   \n",
       "1             16                        1.003009   \n",
       "2             14                        1.900000   \n",
       "3             12                        1.001001   \n",
       "4             17                        1.900000   \n",
       "\n",
       "   Fréquence des pas par comptage (Hz)  Amplitude de l'accélération (g)  \\\n",
       "0                             1.884570                         1.333344   \n",
       "1                             1.867995                         1.193064   \n",
       "2                             1.589242                         1.177756   \n",
       "3                             1.443570                         1.232103   \n",
       "4                             1.916168                         1.248469   \n",
       "\n",
       "   Ecart-type de la durée des pas (s)  \n",
       "0                            0.078185  \n",
       "1                            0.083484  \n",
       "2                            0.230523  \n",
       "3                            0.213827  \n",
       "4                            0.086658  "
      ]
     },
     "execution_count": 2,
     "metadata": {},
     "output_type": "execute_result"
    }
   ],
   "source": [
    "def get_metrics_df():\n",
    "    files = glob.glob(\"data/processed/*/*.csv\")\n",
    "    recordings = [WalkingRecording.from_csv(f) for f in files]\n",
    "    metrics = []\n",
    "    for recording in recordings:\n",
    "        metrics.append(\n",
    "            {\n",
    "                \"Nom\": recording.name,\n",
    "                \"Fichier source\": recording.file_name,\n",
    "                \"Longueur de l'enregistrement (s)\": recording.get_recording_length(),\n",
    "                \"Nombre de pas\": len(recording.get_steps()),\n",
    "                \"Fréquence des pas par fft (Hz)\": recording.get_frequency_from_fft(),\n",
    "                \"Fréquence des pas par comptage (Hz)\": recording.get_frequency_from_counting_steps(),\n",
    "                \"Amplitude de l'accélération (g)\": recording.get_acceleration_amplitude(),\n",
    "                \"Ecart-type de la durée des pas (s)\" : recording.get_step_duration_std(),\n",
    "            }\n",
    "        )\n",
    "    return pd.DataFrame(metrics)\n",
    "\n",
    "df = get_metrics_df()\n",
    "df.to_csv(\"data/metrics.csv\", index=False)\n",
    "df.head()"
   ]
  },
  {
   "cell_type": "code",
   "execution_count": 3,
   "metadata": {},
   "outputs": [],
   "source": [
    "def make_scatter(df, x, y):\n",
    "    fig = px.scatter(df, x=x, y=y, color=\"Nom\", hover_data={\"Fichier source\": True})\n",
    "    fig.update_traces(textposition='top center', marker=dict(size=15))\n",
    "    fig.update_layout(\n",
    "        title=f\"{x} vs {y}\",\n",
    "        xaxis_title=x,\n",
    "        yaxis_title=y,\n",
    "        hovermode=\"closest\",\n",
    "    )\n",
    "    return fig"
   ]
  },
  {
   "cell_type": "code",
   "execution_count": 4,
   "metadata": {},
   "outputs": [
    {
     "data": {
      "application/vnd.plotly.v1+json": {
       "config": {
        "plotlyServerURL": "https://plot.ly"
       },
       "data": [
        {
         "customdata": [
          [
           "accelerometer7_data.csv"
          ],
          [
           "accelerometer6_data.csv"
          ],
          [
           "accelerometer10_data.csv"
          ],
          [
           "accelerometer1_data.csv"
          ],
          [
           "accelerometer4_data.csv"
          ],
          [
           "accelerometer5_data.csv"
          ],
          [
           "accelerometer9_data.csv"
          ],
          [
           "accelerometer8_data.csv"
          ],
          [
           "accelerometer3_data.csv"
          ],
          [
           "accelerometer2_data.csv"
          ]
         ],
         "hovertemplate": "Nom=Felix<br>Fréquence des pas par comptage (Hz)=%{x}<br>Amplitude de l'accélération (g)=%{y}<br>Fichier source=%{customdata[0]}<extra></extra>",
         "legendgroup": "Felix",
         "marker": {
          "color": "#636efa",
          "size": 15,
          "symbol": "circle"
         },
         "mode": "markers",
         "name": "Felix",
         "orientation": "v",
         "showlegend": true,
         "textposition": "top center",
         "type": "scatter",
         "x": {
          "bdata": "w0dy9TIn/j8FJKW+TuP9P7pGZxOJbfk/xo1xY9wY9z9cnNZsn6j+Pz0B0fnqHvk/zC2rE8DP/D8mG/4R1Zf9P23VTYDpgPw/22xn2X/Y8j8=",
          "dtype": "f8"
         },
         "xaxis": "x",
         "y": {
          "bdata": "vnzJBGFV9T9WxXPNyRbzP/qb8SsW2PI/TtHEsLG28z850AtmuvnzPwCAP6jViPU/Br269lqB8z88HGzxg/DzPzpUw050xvI//B9Ahr3F8T8=",
          "dtype": "f8"
         },
         "yaxis": "y"
        },
        {
         "customdata": [
          [
           "accelerometer7_data.csv"
          ],
          [
           "accelerometer6_data.csv"
          ],
          [
           "accelerometer10_data.csv"
          ],
          [
           "accelerometer1_data.csv"
          ],
          [
           "accelerometer4_data.csv"
          ],
          [
           "accelerometer5_data.csv"
          ],
          [
           "accelerometer9_data.csv"
          ],
          [
           "accelerometer8_data.csv"
          ],
          [
           "accelerometer3_data.csv"
          ],
          [
           "accelerometer2_data.csv"
          ]
         ],
         "hovertemplate": "Nom=Antoine<br>Fréquence des pas par comptage (Hz)=%{x}<br>Amplitude de l'accélération (g)=%{y}<br>Fichier source=%{customdata[0]}<extra></extra>",
         "legendgroup": "Antoine",
         "marker": {
          "color": "#EF553B",
          "size": 15,
          "symbol": "circle"
         },
         "mode": "markers",
         "name": "Antoine",
         "orientation": "v",
         "showlegend": true,
         "textposition": "top center",
         "type": "scatter",
         "x": {
          "bdata": "0I67Rze8+j8H6kE6UQz7P+RBIG29vPk/TA3sHVMD+z8XYKF01YH7P9RyIlfNcPs/J3MQcOuz+T9bxbLxzdD6PwUmnZoHufs/VVVVVVUV+z8=",
          "dtype": "f8"
         },
         "xaxis": "x",
         "y": {
          "bdata": "iHmsL/Am8j/htZzdBUr0P4LoABiPVfE/43NUWXzv8z8w8IQ4tmnzP1QH3gxzFPQ/m50l9oYn8D9Wkb1wIkPzP2rE1j0FPvM/ULl9GeKP8T8=",
          "dtype": "f8"
         },
         "yaxis": "y"
        },
        {
         "customdata": [
          [
           "accelerometer7_data.csv"
          ],
          [
           "accelerometer6_data.csv"
          ],
          [
           "accelerometer10_data.csv"
          ],
          [
           "accelerometer1_data.csv"
          ],
          [
           "accelerometer4_data.csv"
          ],
          [
           "accelerometer5_data.csv"
          ],
          [
           "accelerometer9_data.csv"
          ],
          [
           "accelerometer8_data.csv"
          ],
          [
           "accelerometer3_data.csv"
          ],
          [
           "accelerometer2_data.csv"
          ]
         ],
         "hovertemplate": "Nom=Leo<br>Fréquence des pas par comptage (Hz)=%{x}<br>Amplitude de l'accélération (g)=%{y}<br>Fichier source=%{customdata[0]}<extra></extra>",
         "legendgroup": "Leo",
         "marker": {
          "color": "#00cc96",
          "size": 15,
          "symbol": "circle"
         },
         "mode": "markers",
         "name": "Leo",
         "orientation": "v",
         "showlegend": true,
         "textposition": "top center",
         "type": "scatter",
         "x": {
          "bdata": "vulNb3rT+z9ODewdUwP7P6l0ZM9AVPo/yfruUPc4/D+OWcXtnD77P8iqi/cUevs//BSXDME6+j+8u7u7u7v7P2KzoNpzMv0/i8iAddlq+z8=",
          "dtype": "f8"
         },
         "xaxis": "x",
         "y": {
          "bdata": "sA3SjKai9D+YXyXOrhXzP6TXRblRTPE/CCONktQo9D+9lkus9K70P1W3u27NtvA/+7cawKwc7T+6wuS28o3xP7JjyvWZkPM/UjvMKgvk9z8=",
          "dtype": "f8"
         },
         "yaxis": "y"
        },
        {
         "customdata": [
          [
           "accelerometer7_data.csv"
          ],
          [
           "accelerometer6_data.csv"
          ],
          [
           "accelerometer10_data.csv"
          ],
          [
           "accelerometer1_data.csv"
          ],
          [
           "accelerometer4_data.csv"
          ],
          [
           "accelerometer5_data.csv"
          ],
          [
           "accelerometer9_data.csv"
          ],
          [
           "accelerometer8_data.csv"
          ],
          [
           "accelerometer3_data.csv"
          ],
          [
           "accelerometer2_data.csv"
          ]
         ],
         "hovertemplate": "Nom=Matthieu<br>Fréquence des pas par comptage (Hz)=%{x}<br>Amplitude de l'accélération (g)=%{y}<br>Fichier source=%{customdata[0]}<extra></extra>",
         "legendgroup": "Matthieu",
         "marker": {
          "color": "#ab63fa",
          "size": 15,
          "symbol": "circle"
         },
         "mode": "markers",
         "name": "Matthieu",
         "orientation": "v",
         "showlegend": true,
         "textposition": "top center",
         "type": "scatter",
         "x": {
          "bdata": "ruRJl/BD+j+gVJh4P3L6P0GuSrLeOvk/pz2uAoIh+T+pdGTPQFT6P2T8ABdus/o/A4+ry28o+D8KhaEPMw36P4nG+tBYH/o/Wvpa+lr6+j8=",
          "dtype": "f8"
         },
         "xaxis": "x",
         "y": {
          "bdata": "bBVuP95m7D+VE43NpXzqP7dOnpndFuw/tqN5eIa75D+VTSpuov3oP905EVl9JPA/+TUaa3np5z+MqKPhJSfnP0/VuQW/4uY/flTnsVxC5z8=",
          "dtype": "f8"
         },
         "yaxis": "y"
        },
        {
         "customdata": [
          [
           "accelerometer7_data.csv"
          ],
          [
           "accelerometer6_data.csv"
          ],
          [
           "accelerometer10_data.csv"
          ],
          [
           "accelerometer1_data.csv"
          ],
          [
           "accelerometer4_data.csv"
          ],
          [
           "accelerometer5_data.csv"
          ],
          [
           "accelerometer9_data.csv"
          ],
          [
           "accelerometer8_data.csv"
          ],
          [
           "accelerometer3_data.csv"
          ],
          [
           "accelerometer2_data.csv"
          ]
         ],
         "hovertemplate": "Nom=Corentin<br>Fréquence des pas par comptage (Hz)=%{x}<br>Amplitude de l'accélération (g)=%{y}<br>Fichier source=%{customdata[0]}<extra></extra>",
         "legendgroup": "Corentin",
         "marker": {
          "color": "#FFA15A",
          "size": 15,
          "symbol": "circle"
         },
         "mode": "markers",
         "name": "Corentin",
         "orientation": "v",
         "showlegend": true,
         "textposition": "top center",
         "type": "scatter",
         "x": {
          "bdata": "J3MQcOuz+T8KAwGr40v5P0fVxbKgpfg/DcMwDMMw+j+u4PCFFAH7Pw3DMAzDMPo/KChx7Jcx+j8OSXjKkZX5PwAAAAAAAPo/4uHh4eHh+T8=",
          "dtype": "f8"
         },
         "xaxis": "x",
         "y": {
          "bdata": "oCMqAOXC6z/gtqDFEsTrP8imAy4D6uw/9RGiHX2w6T+vuKNBHpDwPzvRqULfqu0/Yo3f8OUf7D/t1gQoRnLtPxZ1lkesBek/P9IIKaWV6j8=",
          "dtype": "f8"
         },
         "yaxis": "y"
        },
        {
         "customdata": [
          [
           "accelerometer7_data.csv"
          ],
          [
           "accelerometer6_data.csv"
          ],
          [
           "accelerometer1_data.csv"
          ],
          [
           "accelerometer4_data.csv"
          ],
          [
           "accelerometer5_data.csv"
          ],
          [
           "accelerometer9_data.csv"
          ],
          [
           "accelerometer8_data.csv"
          ],
          [
           "accelerometer3_data.csv"
          ],
          [
           "accelerometer2_data.csv"
          ]
         ],
         "hovertemplate": "Nom=Serge<br>Fréquence des pas par comptage (Hz)=%{x}<br>Amplitude de l'accélération (g)=%{y}<br>Fichier source=%{customdata[0]}<extra></extra>",
         "legendgroup": "Serge",
         "marker": {
          "color": "#19d3f3",
          "size": 15,
          "symbol": "circle"
         },
         "mode": "markers",
         "name": "Serge",
         "orientation": "v",
         "showlegend": true,
         "textposition": "top center",
         "type": "scatter",
         "x": {
          "bdata": "pfQfxjKh+j8EmkKgKQT6P3Hn0OsbVfs/GauGVvJt+j/NjrtHN7z6P90ybhm3jPs/oFSYeD9y+j8H6kE6UQz7Pz2ETQGOdvo/",
          "dtype": "f8"
         },
         "xaxis": "x",
         "y": {
          "bdata": "BtOvAbq26j/l3DnZSQLuP1AB6sp9dug/BZRp46xD6z9MeNcHQTzqP3PcBiUE++4/kni/r3/k6T9sGpKXj4nrP8mXICgW7+w/",
          "dtype": "f8"
         },
         "yaxis": "y"
        }
       ],
       "layout": {
        "hovermode": "closest",
        "legend": {
         "title": {
          "text": "Nom"
         },
         "tracegroupgap": 0
        },
        "margin": {
         "t": 60
        },
        "template": {
         "data": {
          "bar": [
           {
            "error_x": {
             "color": "#2a3f5f"
            },
            "error_y": {
             "color": "#2a3f5f"
            },
            "marker": {
             "line": {
              "color": "#E5ECF6",
              "width": 0.5
             },
             "pattern": {
              "fillmode": "overlay",
              "size": 10,
              "solidity": 0.2
             }
            },
            "type": "bar"
           }
          ],
          "barpolar": [
           {
            "marker": {
             "line": {
              "color": "#E5ECF6",
              "width": 0.5
             },
             "pattern": {
              "fillmode": "overlay",
              "size": 10,
              "solidity": 0.2
             }
            },
            "type": "barpolar"
           }
          ],
          "carpet": [
           {
            "aaxis": {
             "endlinecolor": "#2a3f5f",
             "gridcolor": "white",
             "linecolor": "white",
             "minorgridcolor": "white",
             "startlinecolor": "#2a3f5f"
            },
            "baxis": {
             "endlinecolor": "#2a3f5f",
             "gridcolor": "white",
             "linecolor": "white",
             "minorgridcolor": "white",
             "startlinecolor": "#2a3f5f"
            },
            "type": "carpet"
           }
          ],
          "choropleth": [
           {
            "colorbar": {
             "outlinewidth": 0,
             "ticks": ""
            },
            "type": "choropleth"
           }
          ],
          "contour": [
           {
            "colorbar": {
             "outlinewidth": 0,
             "ticks": ""
            },
            "colorscale": [
             [
              0,
              "#0d0887"
             ],
             [
              0.1111111111111111,
              "#46039f"
             ],
             [
              0.2222222222222222,
              "#7201a8"
             ],
             [
              0.3333333333333333,
              "#9c179e"
             ],
             [
              0.4444444444444444,
              "#bd3786"
             ],
             [
              0.5555555555555556,
              "#d8576b"
             ],
             [
              0.6666666666666666,
              "#ed7953"
             ],
             [
              0.7777777777777778,
              "#fb9f3a"
             ],
             [
              0.8888888888888888,
              "#fdca26"
             ],
             [
              1,
              "#f0f921"
             ]
            ],
            "type": "contour"
           }
          ],
          "contourcarpet": [
           {
            "colorbar": {
             "outlinewidth": 0,
             "ticks": ""
            },
            "type": "contourcarpet"
           }
          ],
          "heatmap": [
           {
            "colorbar": {
             "outlinewidth": 0,
             "ticks": ""
            },
            "colorscale": [
             [
              0,
              "#0d0887"
             ],
             [
              0.1111111111111111,
              "#46039f"
             ],
             [
              0.2222222222222222,
              "#7201a8"
             ],
             [
              0.3333333333333333,
              "#9c179e"
             ],
             [
              0.4444444444444444,
              "#bd3786"
             ],
             [
              0.5555555555555556,
              "#d8576b"
             ],
             [
              0.6666666666666666,
              "#ed7953"
             ],
             [
              0.7777777777777778,
              "#fb9f3a"
             ],
             [
              0.8888888888888888,
              "#fdca26"
             ],
             [
              1,
              "#f0f921"
             ]
            ],
            "type": "heatmap"
           }
          ],
          "histogram": [
           {
            "marker": {
             "pattern": {
              "fillmode": "overlay",
              "size": 10,
              "solidity": 0.2
             }
            },
            "type": "histogram"
           }
          ],
          "histogram2d": [
           {
            "colorbar": {
             "outlinewidth": 0,
             "ticks": ""
            },
            "colorscale": [
             [
              0,
              "#0d0887"
             ],
             [
              0.1111111111111111,
              "#46039f"
             ],
             [
              0.2222222222222222,
              "#7201a8"
             ],
             [
              0.3333333333333333,
              "#9c179e"
             ],
             [
              0.4444444444444444,
              "#bd3786"
             ],
             [
              0.5555555555555556,
              "#d8576b"
             ],
             [
              0.6666666666666666,
              "#ed7953"
             ],
             [
              0.7777777777777778,
              "#fb9f3a"
             ],
             [
              0.8888888888888888,
              "#fdca26"
             ],
             [
              1,
              "#f0f921"
             ]
            ],
            "type": "histogram2d"
           }
          ],
          "histogram2dcontour": [
           {
            "colorbar": {
             "outlinewidth": 0,
             "ticks": ""
            },
            "colorscale": [
             [
              0,
              "#0d0887"
             ],
             [
              0.1111111111111111,
              "#46039f"
             ],
             [
              0.2222222222222222,
              "#7201a8"
             ],
             [
              0.3333333333333333,
              "#9c179e"
             ],
             [
              0.4444444444444444,
              "#bd3786"
             ],
             [
              0.5555555555555556,
              "#d8576b"
             ],
             [
              0.6666666666666666,
              "#ed7953"
             ],
             [
              0.7777777777777778,
              "#fb9f3a"
             ],
             [
              0.8888888888888888,
              "#fdca26"
             ],
             [
              1,
              "#f0f921"
             ]
            ],
            "type": "histogram2dcontour"
           }
          ],
          "mesh3d": [
           {
            "colorbar": {
             "outlinewidth": 0,
             "ticks": ""
            },
            "type": "mesh3d"
           }
          ],
          "parcoords": [
           {
            "line": {
             "colorbar": {
              "outlinewidth": 0,
              "ticks": ""
             }
            },
            "type": "parcoords"
           }
          ],
          "pie": [
           {
            "automargin": true,
            "type": "pie"
           }
          ],
          "scatter": [
           {
            "fillpattern": {
             "fillmode": "overlay",
             "size": 10,
             "solidity": 0.2
            },
            "type": "scatter"
           }
          ],
          "scatter3d": [
           {
            "line": {
             "colorbar": {
              "outlinewidth": 0,
              "ticks": ""
             }
            },
            "marker": {
             "colorbar": {
              "outlinewidth": 0,
              "ticks": ""
             }
            },
            "type": "scatter3d"
           }
          ],
          "scattercarpet": [
           {
            "marker": {
             "colorbar": {
              "outlinewidth": 0,
              "ticks": ""
             }
            },
            "type": "scattercarpet"
           }
          ],
          "scattergeo": [
           {
            "marker": {
             "colorbar": {
              "outlinewidth": 0,
              "ticks": ""
             }
            },
            "type": "scattergeo"
           }
          ],
          "scattergl": [
           {
            "marker": {
             "colorbar": {
              "outlinewidth": 0,
              "ticks": ""
             }
            },
            "type": "scattergl"
           }
          ],
          "scattermap": [
           {
            "marker": {
             "colorbar": {
              "outlinewidth": 0,
              "ticks": ""
             }
            },
            "type": "scattermap"
           }
          ],
          "scattermapbox": [
           {
            "marker": {
             "colorbar": {
              "outlinewidth": 0,
              "ticks": ""
             }
            },
            "type": "scattermapbox"
           }
          ],
          "scatterpolar": [
           {
            "marker": {
             "colorbar": {
              "outlinewidth": 0,
              "ticks": ""
             }
            },
            "type": "scatterpolar"
           }
          ],
          "scatterpolargl": [
           {
            "marker": {
             "colorbar": {
              "outlinewidth": 0,
              "ticks": ""
             }
            },
            "type": "scatterpolargl"
           }
          ],
          "scatterternary": [
           {
            "marker": {
             "colorbar": {
              "outlinewidth": 0,
              "ticks": ""
             }
            },
            "type": "scatterternary"
           }
          ],
          "surface": [
           {
            "colorbar": {
             "outlinewidth": 0,
             "ticks": ""
            },
            "colorscale": [
             [
              0,
              "#0d0887"
             ],
             [
              0.1111111111111111,
              "#46039f"
             ],
             [
              0.2222222222222222,
              "#7201a8"
             ],
             [
              0.3333333333333333,
              "#9c179e"
             ],
             [
              0.4444444444444444,
              "#bd3786"
             ],
             [
              0.5555555555555556,
              "#d8576b"
             ],
             [
              0.6666666666666666,
              "#ed7953"
             ],
             [
              0.7777777777777778,
              "#fb9f3a"
             ],
             [
              0.8888888888888888,
              "#fdca26"
             ],
             [
              1,
              "#f0f921"
             ]
            ],
            "type": "surface"
           }
          ],
          "table": [
           {
            "cells": {
             "fill": {
              "color": "#EBF0F8"
             },
             "line": {
              "color": "white"
             }
            },
            "header": {
             "fill": {
              "color": "#C8D4E3"
             },
             "line": {
              "color": "white"
             }
            },
            "type": "table"
           }
          ]
         },
         "layout": {
          "annotationdefaults": {
           "arrowcolor": "#2a3f5f",
           "arrowhead": 0,
           "arrowwidth": 1
          },
          "autotypenumbers": "strict",
          "coloraxis": {
           "colorbar": {
            "outlinewidth": 0,
            "ticks": ""
           }
          },
          "colorscale": {
           "diverging": [
            [
             0,
             "#8e0152"
            ],
            [
             0.1,
             "#c51b7d"
            ],
            [
             0.2,
             "#de77ae"
            ],
            [
             0.3,
             "#f1b6da"
            ],
            [
             0.4,
             "#fde0ef"
            ],
            [
             0.5,
             "#f7f7f7"
            ],
            [
             0.6,
             "#e6f5d0"
            ],
            [
             0.7,
             "#b8e186"
            ],
            [
             0.8,
             "#7fbc41"
            ],
            [
             0.9,
             "#4d9221"
            ],
            [
             1,
             "#276419"
            ]
           ],
           "sequential": [
            [
             0,
             "#0d0887"
            ],
            [
             0.1111111111111111,
             "#46039f"
            ],
            [
             0.2222222222222222,
             "#7201a8"
            ],
            [
             0.3333333333333333,
             "#9c179e"
            ],
            [
             0.4444444444444444,
             "#bd3786"
            ],
            [
             0.5555555555555556,
             "#d8576b"
            ],
            [
             0.6666666666666666,
             "#ed7953"
            ],
            [
             0.7777777777777778,
             "#fb9f3a"
            ],
            [
             0.8888888888888888,
             "#fdca26"
            ],
            [
             1,
             "#f0f921"
            ]
           ],
           "sequentialminus": [
            [
             0,
             "#0d0887"
            ],
            [
             0.1111111111111111,
             "#46039f"
            ],
            [
             0.2222222222222222,
             "#7201a8"
            ],
            [
             0.3333333333333333,
             "#9c179e"
            ],
            [
             0.4444444444444444,
             "#bd3786"
            ],
            [
             0.5555555555555556,
             "#d8576b"
            ],
            [
             0.6666666666666666,
             "#ed7953"
            ],
            [
             0.7777777777777778,
             "#fb9f3a"
            ],
            [
             0.8888888888888888,
             "#fdca26"
            ],
            [
             1,
             "#f0f921"
            ]
           ]
          },
          "colorway": [
           "#636efa",
           "#EF553B",
           "#00cc96",
           "#ab63fa",
           "#FFA15A",
           "#19d3f3",
           "#FF6692",
           "#B6E880",
           "#FF97FF",
           "#FECB52"
          ],
          "font": {
           "color": "#2a3f5f"
          },
          "geo": {
           "bgcolor": "white",
           "lakecolor": "white",
           "landcolor": "#E5ECF6",
           "showlakes": true,
           "showland": true,
           "subunitcolor": "white"
          },
          "hoverlabel": {
           "align": "left"
          },
          "hovermode": "closest",
          "mapbox": {
           "style": "light"
          },
          "paper_bgcolor": "white",
          "plot_bgcolor": "#E5ECF6",
          "polar": {
           "angularaxis": {
            "gridcolor": "white",
            "linecolor": "white",
            "ticks": ""
           },
           "bgcolor": "#E5ECF6",
           "radialaxis": {
            "gridcolor": "white",
            "linecolor": "white",
            "ticks": ""
           }
          },
          "scene": {
           "xaxis": {
            "backgroundcolor": "#E5ECF6",
            "gridcolor": "white",
            "gridwidth": 2,
            "linecolor": "white",
            "showbackground": true,
            "ticks": "",
            "zerolinecolor": "white"
           },
           "yaxis": {
            "backgroundcolor": "#E5ECF6",
            "gridcolor": "white",
            "gridwidth": 2,
            "linecolor": "white",
            "showbackground": true,
            "ticks": "",
            "zerolinecolor": "white"
           },
           "zaxis": {
            "backgroundcolor": "#E5ECF6",
            "gridcolor": "white",
            "gridwidth": 2,
            "linecolor": "white",
            "showbackground": true,
            "ticks": "",
            "zerolinecolor": "white"
           }
          },
          "shapedefaults": {
           "line": {
            "color": "#2a3f5f"
           }
          },
          "ternary": {
           "aaxis": {
            "gridcolor": "white",
            "linecolor": "white",
            "ticks": ""
           },
           "baxis": {
            "gridcolor": "white",
            "linecolor": "white",
            "ticks": ""
           },
           "bgcolor": "#E5ECF6",
           "caxis": {
            "gridcolor": "white",
            "linecolor": "white",
            "ticks": ""
           }
          },
          "title": {
           "x": 0.05
          },
          "xaxis": {
           "automargin": true,
           "gridcolor": "white",
           "linecolor": "white",
           "ticks": "",
           "title": {
            "standoff": 15
           },
           "zerolinecolor": "white",
           "zerolinewidth": 2
          },
          "yaxis": {
           "automargin": true,
           "gridcolor": "white",
           "linecolor": "white",
           "ticks": "",
           "title": {
            "standoff": 15
           },
           "zerolinecolor": "white",
           "zerolinewidth": 2
          }
         }
        },
        "title": {
         "text": "Fréquence des pas par comptage (Hz) vs Amplitude de l'accélération (g)"
        },
        "xaxis": {
         "anchor": "y",
         "domain": [
          0,
          1
         ],
         "title": {
          "text": "Fréquence des pas par comptage (Hz)"
         }
        },
        "yaxis": {
         "anchor": "x",
         "domain": [
          0,
          1
         ],
         "title": {
          "text": "Amplitude de l'accélération (g)"
         }
        }
       }
      }
     },
     "metadata": {},
     "output_type": "display_data"
    }
   ],
   "source": [
    "make_scatter(df, \"Fréquence des pas par comptage (Hz)\", \"Amplitude de l'accélération (g)\")"
   ]
  },
  {
   "cell_type": "code",
   "execution_count": 5,
   "metadata": {},
   "outputs": [
    {
     "data": {
      "application/vnd.plotly.v1+json": {
       "config": {
        "plotlyServerURL": "https://plot.ly"
       },
       "data": [
        {
         "customdata": [
          [
           "accelerometer7_data.csv"
          ],
          [
           "accelerometer6_data.csv"
          ],
          [
           "accelerometer10_data.csv"
          ],
          [
           "accelerometer1_data.csv"
          ],
          [
           "accelerometer4_data.csv"
          ],
          [
           "accelerometer5_data.csv"
          ],
          [
           "accelerometer9_data.csv"
          ],
          [
           "accelerometer8_data.csv"
          ],
          [
           "accelerometer3_data.csv"
          ],
          [
           "accelerometer2_data.csv"
          ]
         ],
         "hovertemplate": "Nom=Felix<br>Ecart-type de la durée des pas (s)=%{x}<br>Amplitude de l'accélération (g)=%{y}<br>Fichier source=%{customdata[0]}<extra></extra>",
         "legendgroup": "Felix",
         "marker": {
          "color": "#636efa",
          "size": 15,
          "symbol": "circle"
         },
         "mode": "markers",
         "name": "Felix",
         "orientation": "v",
         "showlegend": true,
         "textposition": "top center",
         "type": "scatter",
         "x": {
          "bdata": "5YVvCvEDtD9zljGhL1+1P/PRqDbKgc0/GHGml6teyz+veceANS+2P2rhgbgGw88/YZ5N31Lywz8hz55bYNOvP3SEmeDg4cc/zVt1PjQM0j8=",
          "dtype": "f8"
         },
         "xaxis": "x",
         "y": {
          "bdata": "vnzJBGFV9T9WxXPNyRbzP/qb8SsW2PI/TtHEsLG28z850AtmuvnzPwCAP6jViPU/Br269lqB8z88HGzxg/DzPzpUw050xvI//B9Ahr3F8T8=",
          "dtype": "f8"
         },
         "yaxis": "y"
        },
        {
         "customdata": [
          [
           "accelerometer7_data.csv"
          ],
          [
           "accelerometer6_data.csv"
          ],
          [
           "accelerometer10_data.csv"
          ],
          [
           "accelerometer1_data.csv"
          ],
          [
           "accelerometer4_data.csv"
          ],
          [
           "accelerometer5_data.csv"
          ],
          [
           "accelerometer9_data.csv"
          ],
          [
           "accelerometer8_data.csv"
          ],
          [
           "accelerometer3_data.csv"
          ],
          [
           "accelerometer2_data.csv"
          ]
         ],
         "hovertemplate": "Nom=Antoine<br>Ecart-type de la durée des pas (s)=%{x}<br>Amplitude de l'accélération (g)=%{y}<br>Fichier source=%{customdata[0]}<extra></extra>",
         "legendgroup": "Antoine",
         "marker": {
          "color": "#EF553B",
          "size": 15,
          "symbol": "circle"
         },
         "mode": "markers",
         "name": "Antoine",
         "orientation": "v",
         "showlegend": true,
         "textposition": "top center",
         "type": "scatter",
         "x": {
          "bdata": "b7tjIbpzsT/M1ukqRm2qP182Ja+zq6Y/HOGaYX4Fvj/pU9W02uukP0jwlK6cxqc/jl3vUr65rD/DFV9CU/SZP8nQDwrvyLA/tPza7F1wtD8=",
          "dtype": "f8"
         },
         "xaxis": "x",
         "y": {
          "bdata": "iHmsL/Am8j/htZzdBUr0P4LoABiPVfE/43NUWXzv8z8w8IQ4tmnzP1QH3gxzFPQ/m50l9oYn8D9Wkb1wIkPzP2rE1j0FPvM/ULl9GeKP8T8=",
          "dtype": "f8"
         },
         "yaxis": "y"
        },
        {
         "customdata": [
          [
           "accelerometer7_data.csv"
          ],
          [
           "accelerometer6_data.csv"
          ],
          [
           "accelerometer10_data.csv"
          ],
          [
           "accelerometer1_data.csv"
          ],
          [
           "accelerometer4_data.csv"
          ],
          [
           "accelerometer5_data.csv"
          ],
          [
           "accelerometer9_data.csv"
          ],
          [
           "accelerometer8_data.csv"
          ],
          [
           "accelerometer3_data.csv"
          ],
          [
           "accelerometer2_data.csv"
          ]
         ],
         "hovertemplate": "Nom=Leo<br>Ecart-type de la durée des pas (s)=%{x}<br>Amplitude de l'accélération (g)=%{y}<br>Fichier source=%{customdata[0]}<extra></extra>",
         "legendgroup": "Leo",
         "marker": {
          "color": "#00cc96",
          "size": 15,
          "symbol": "circle"
         },
         "mode": "markers",
         "name": "Leo",
         "orientation": "v",
         "showlegend": true,
         "textposition": "top center",
         "type": "scatter",
         "x": {
          "bdata": "VX7Xl80vuj/06gtx5SKZP4OwA6K3mp8/yy+8g2yCoD/ZR5a0JrOYP6UcBiwtSrg/5pCNTgBpsD8MLazrNhqwP+/HCAxJpbE/PhNTFlblsz8=",
          "dtype": "f8"
         },
         "xaxis": "x",
         "y": {
          "bdata": "sA3SjKai9D+YXyXOrhXzP6TXRblRTPE/CCONktQo9D+9lkus9K70P1W3u27NtvA/+7cawKwc7T+6wuS28o3xP7JjyvWZkPM/UjvMKgvk9z8=",
          "dtype": "f8"
         },
         "yaxis": "y"
        },
        {
         "customdata": [
          [
           "accelerometer7_data.csv"
          ],
          [
           "accelerometer6_data.csv"
          ],
          [
           "accelerometer10_data.csv"
          ],
          [
           "accelerometer1_data.csv"
          ],
          [
           "accelerometer4_data.csv"
          ],
          [
           "accelerometer5_data.csv"
          ],
          [
           "accelerometer9_data.csv"
          ],
          [
           "accelerometer8_data.csv"
          ],
          [
           "accelerometer3_data.csv"
          ],
          [
           "accelerometer2_data.csv"
          ]
         ],
         "hovertemplate": "Nom=Matthieu<br>Ecart-type de la durée des pas (s)=%{x}<br>Amplitude de l'accélération (g)=%{y}<br>Fichier source=%{customdata[0]}<extra></extra>",
         "legendgroup": "Matthieu",
         "marker": {
          "color": "#ab63fa",
          "size": 15,
          "symbol": "circle"
         },
         "mode": "markers",
         "name": "Matthieu",
         "orientation": "v",
         "showlegend": true,
         "textposition": "top center",
         "type": "scatter",
         "x": {
          "bdata": "0EzA3lOYtj8ToGcDroWwP18SNtW/NKY/F4YH+CIJpz+8JgJzitalP8lyV0sxkbk/8IvTzCtdwz+P0jU+wSuwPyvaXjyokKk/UsfCRFGorz8=",
          "dtype": "f8"
         },
         "xaxis": "x",
         "y": {
          "bdata": "bBVuP95m7D+VE43NpXzqP7dOnpndFuw/tqN5eIa75D+VTSpuov3oP905EVl9JPA/+TUaa3np5z+MqKPhJSfnP0/VuQW/4uY/flTnsVxC5z8=",
          "dtype": "f8"
         },
         "yaxis": "y"
        },
        {
         "customdata": [
          [
           "accelerometer7_data.csv"
          ],
          [
           "accelerometer6_data.csv"
          ],
          [
           "accelerometer10_data.csv"
          ],
          [
           "accelerometer1_data.csv"
          ],
          [
           "accelerometer4_data.csv"
          ],
          [
           "accelerometer5_data.csv"
          ],
          [
           "accelerometer9_data.csv"
          ],
          [
           "accelerometer8_data.csv"
          ],
          [
           "accelerometer3_data.csv"
          ],
          [
           "accelerometer2_data.csv"
          ]
         ],
         "hovertemplate": "Nom=Corentin<br>Ecart-type de la durée des pas (s)=%{x}<br>Amplitude de l'accélération (g)=%{y}<br>Fichier source=%{customdata[0]}<extra></extra>",
         "legendgroup": "Corentin",
         "marker": {
          "color": "#FFA15A",
          "size": 15,
          "symbol": "circle"
         },
         "mode": "markers",
         "name": "Corentin",
         "orientation": "v",
         "showlegend": true,
         "textposition": "top center",
         "type": "scatter",
         "x": {
          "bdata": "gN1y4GwHtT8TQw0fy8iyPx4zkEWnebI/oD072NXPtD/qN77xACm2P9OxZK/3r7A/I2e4kfZAoT9cfS3KsZiyP6DiSwOw6rI/fzl3dSzzsT8=",
          "dtype": "f8"
         },
         "xaxis": "x",
         "y": {
          "bdata": "oCMqAOXC6z/gtqDFEsTrP8imAy4D6uw/9RGiHX2w6T+vuKNBHpDwPzvRqULfqu0/Yo3f8OUf7D/t1gQoRnLtPxZ1lkesBek/P9IIKaWV6j8=",
          "dtype": "f8"
         },
         "yaxis": "y"
        },
        {
         "customdata": [
          [
           "accelerometer7_data.csv"
          ],
          [
           "accelerometer6_data.csv"
          ],
          [
           "accelerometer1_data.csv"
          ],
          [
           "accelerometer4_data.csv"
          ],
          [
           "accelerometer5_data.csv"
          ],
          [
           "accelerometer9_data.csv"
          ],
          [
           "accelerometer8_data.csv"
          ],
          [
           "accelerometer3_data.csv"
          ],
          [
           "accelerometer2_data.csv"
          ]
         ],
         "hovertemplate": "Nom=Serge<br>Ecart-type de la durée des pas (s)=%{x}<br>Amplitude de l'accélération (g)=%{y}<br>Fichier source=%{customdata[0]}<extra></extra>",
         "legendgroup": "Serge",
         "marker": {
          "color": "#19d3f3",
          "size": 15,
          "symbol": "circle"
         },
         "mode": "markers",
         "name": "Serge",
         "orientation": "v",
         "showlegend": true,
         "textposition": "top center",
         "type": "scatter",
         "x": {
          "bdata": "kIYl5qVasD+YYl97S6O6P7WftBzVTLg/5+AXZOqIvj/C/oxM3KC7PyrXHfFJK7c/+CUaXn0asT/WtVYbkBq6P32TdGS4Lro/",
          "dtype": "f8"
         },
         "xaxis": "x",
         "y": {
          "bdata": "BtOvAbq26j/l3DnZSQLuP1AB6sp9dug/BZRp46xD6z9MeNcHQTzqP3PcBiUE++4/kni/r3/k6T9sGpKXj4nrP8mXICgW7+w/",
          "dtype": "f8"
         },
         "yaxis": "y"
        }
       ],
       "layout": {
        "hovermode": "closest",
        "legend": {
         "title": {
          "text": "Nom"
         },
         "tracegroupgap": 0
        },
        "margin": {
         "t": 60
        },
        "template": {
         "data": {
          "bar": [
           {
            "error_x": {
             "color": "#2a3f5f"
            },
            "error_y": {
             "color": "#2a3f5f"
            },
            "marker": {
             "line": {
              "color": "#E5ECF6",
              "width": 0.5
             },
             "pattern": {
              "fillmode": "overlay",
              "size": 10,
              "solidity": 0.2
             }
            },
            "type": "bar"
           }
          ],
          "barpolar": [
           {
            "marker": {
             "line": {
              "color": "#E5ECF6",
              "width": 0.5
             },
             "pattern": {
              "fillmode": "overlay",
              "size": 10,
              "solidity": 0.2
             }
            },
            "type": "barpolar"
           }
          ],
          "carpet": [
           {
            "aaxis": {
             "endlinecolor": "#2a3f5f",
             "gridcolor": "white",
             "linecolor": "white",
             "minorgridcolor": "white",
             "startlinecolor": "#2a3f5f"
            },
            "baxis": {
             "endlinecolor": "#2a3f5f",
             "gridcolor": "white",
             "linecolor": "white",
             "minorgridcolor": "white",
             "startlinecolor": "#2a3f5f"
            },
            "type": "carpet"
           }
          ],
          "choropleth": [
           {
            "colorbar": {
             "outlinewidth": 0,
             "ticks": ""
            },
            "type": "choropleth"
           }
          ],
          "contour": [
           {
            "colorbar": {
             "outlinewidth": 0,
             "ticks": ""
            },
            "colorscale": [
             [
              0,
              "#0d0887"
             ],
             [
              0.1111111111111111,
              "#46039f"
             ],
             [
              0.2222222222222222,
              "#7201a8"
             ],
             [
              0.3333333333333333,
              "#9c179e"
             ],
             [
              0.4444444444444444,
              "#bd3786"
             ],
             [
              0.5555555555555556,
              "#d8576b"
             ],
             [
              0.6666666666666666,
              "#ed7953"
             ],
             [
              0.7777777777777778,
              "#fb9f3a"
             ],
             [
              0.8888888888888888,
              "#fdca26"
             ],
             [
              1,
              "#f0f921"
             ]
            ],
            "type": "contour"
           }
          ],
          "contourcarpet": [
           {
            "colorbar": {
             "outlinewidth": 0,
             "ticks": ""
            },
            "type": "contourcarpet"
           }
          ],
          "heatmap": [
           {
            "colorbar": {
             "outlinewidth": 0,
             "ticks": ""
            },
            "colorscale": [
             [
              0,
              "#0d0887"
             ],
             [
              0.1111111111111111,
              "#46039f"
             ],
             [
              0.2222222222222222,
              "#7201a8"
             ],
             [
              0.3333333333333333,
              "#9c179e"
             ],
             [
              0.4444444444444444,
              "#bd3786"
             ],
             [
              0.5555555555555556,
              "#d8576b"
             ],
             [
              0.6666666666666666,
              "#ed7953"
             ],
             [
              0.7777777777777778,
              "#fb9f3a"
             ],
             [
              0.8888888888888888,
              "#fdca26"
             ],
             [
              1,
              "#f0f921"
             ]
            ],
            "type": "heatmap"
           }
          ],
          "histogram": [
           {
            "marker": {
             "pattern": {
              "fillmode": "overlay",
              "size": 10,
              "solidity": 0.2
             }
            },
            "type": "histogram"
           }
          ],
          "histogram2d": [
           {
            "colorbar": {
             "outlinewidth": 0,
             "ticks": ""
            },
            "colorscale": [
             [
              0,
              "#0d0887"
             ],
             [
              0.1111111111111111,
              "#46039f"
             ],
             [
              0.2222222222222222,
              "#7201a8"
             ],
             [
              0.3333333333333333,
              "#9c179e"
             ],
             [
              0.4444444444444444,
              "#bd3786"
             ],
             [
              0.5555555555555556,
              "#d8576b"
             ],
             [
              0.6666666666666666,
              "#ed7953"
             ],
             [
              0.7777777777777778,
              "#fb9f3a"
             ],
             [
              0.8888888888888888,
              "#fdca26"
             ],
             [
              1,
              "#f0f921"
             ]
            ],
            "type": "histogram2d"
           }
          ],
          "histogram2dcontour": [
           {
            "colorbar": {
             "outlinewidth": 0,
             "ticks": ""
            },
            "colorscale": [
             [
              0,
              "#0d0887"
             ],
             [
              0.1111111111111111,
              "#46039f"
             ],
             [
              0.2222222222222222,
              "#7201a8"
             ],
             [
              0.3333333333333333,
              "#9c179e"
             ],
             [
              0.4444444444444444,
              "#bd3786"
             ],
             [
              0.5555555555555556,
              "#d8576b"
             ],
             [
              0.6666666666666666,
              "#ed7953"
             ],
             [
              0.7777777777777778,
              "#fb9f3a"
             ],
             [
              0.8888888888888888,
              "#fdca26"
             ],
             [
              1,
              "#f0f921"
             ]
            ],
            "type": "histogram2dcontour"
           }
          ],
          "mesh3d": [
           {
            "colorbar": {
             "outlinewidth": 0,
             "ticks": ""
            },
            "type": "mesh3d"
           }
          ],
          "parcoords": [
           {
            "line": {
             "colorbar": {
              "outlinewidth": 0,
              "ticks": ""
             }
            },
            "type": "parcoords"
           }
          ],
          "pie": [
           {
            "automargin": true,
            "type": "pie"
           }
          ],
          "scatter": [
           {
            "fillpattern": {
             "fillmode": "overlay",
             "size": 10,
             "solidity": 0.2
            },
            "type": "scatter"
           }
          ],
          "scatter3d": [
           {
            "line": {
             "colorbar": {
              "outlinewidth": 0,
              "ticks": ""
             }
            },
            "marker": {
             "colorbar": {
              "outlinewidth": 0,
              "ticks": ""
             }
            },
            "type": "scatter3d"
           }
          ],
          "scattercarpet": [
           {
            "marker": {
             "colorbar": {
              "outlinewidth": 0,
              "ticks": ""
             }
            },
            "type": "scattercarpet"
           }
          ],
          "scattergeo": [
           {
            "marker": {
             "colorbar": {
              "outlinewidth": 0,
              "ticks": ""
             }
            },
            "type": "scattergeo"
           }
          ],
          "scattergl": [
           {
            "marker": {
             "colorbar": {
              "outlinewidth": 0,
              "ticks": ""
             }
            },
            "type": "scattergl"
           }
          ],
          "scattermap": [
           {
            "marker": {
             "colorbar": {
              "outlinewidth": 0,
              "ticks": ""
             }
            },
            "type": "scattermap"
           }
          ],
          "scattermapbox": [
           {
            "marker": {
             "colorbar": {
              "outlinewidth": 0,
              "ticks": ""
             }
            },
            "type": "scattermapbox"
           }
          ],
          "scatterpolar": [
           {
            "marker": {
             "colorbar": {
              "outlinewidth": 0,
              "ticks": ""
             }
            },
            "type": "scatterpolar"
           }
          ],
          "scatterpolargl": [
           {
            "marker": {
             "colorbar": {
              "outlinewidth": 0,
              "ticks": ""
             }
            },
            "type": "scatterpolargl"
           }
          ],
          "scatterternary": [
           {
            "marker": {
             "colorbar": {
              "outlinewidth": 0,
              "ticks": ""
             }
            },
            "type": "scatterternary"
           }
          ],
          "surface": [
           {
            "colorbar": {
             "outlinewidth": 0,
             "ticks": ""
            },
            "colorscale": [
             [
              0,
              "#0d0887"
             ],
             [
              0.1111111111111111,
              "#46039f"
             ],
             [
              0.2222222222222222,
              "#7201a8"
             ],
             [
              0.3333333333333333,
              "#9c179e"
             ],
             [
              0.4444444444444444,
              "#bd3786"
             ],
             [
              0.5555555555555556,
              "#d8576b"
             ],
             [
              0.6666666666666666,
              "#ed7953"
             ],
             [
              0.7777777777777778,
              "#fb9f3a"
             ],
             [
              0.8888888888888888,
              "#fdca26"
             ],
             [
              1,
              "#f0f921"
             ]
            ],
            "type": "surface"
           }
          ],
          "table": [
           {
            "cells": {
             "fill": {
              "color": "#EBF0F8"
             },
             "line": {
              "color": "white"
             }
            },
            "header": {
             "fill": {
              "color": "#C8D4E3"
             },
             "line": {
              "color": "white"
             }
            },
            "type": "table"
           }
          ]
         },
         "layout": {
          "annotationdefaults": {
           "arrowcolor": "#2a3f5f",
           "arrowhead": 0,
           "arrowwidth": 1
          },
          "autotypenumbers": "strict",
          "coloraxis": {
           "colorbar": {
            "outlinewidth": 0,
            "ticks": ""
           }
          },
          "colorscale": {
           "diverging": [
            [
             0,
             "#8e0152"
            ],
            [
             0.1,
             "#c51b7d"
            ],
            [
             0.2,
             "#de77ae"
            ],
            [
             0.3,
             "#f1b6da"
            ],
            [
             0.4,
             "#fde0ef"
            ],
            [
             0.5,
             "#f7f7f7"
            ],
            [
             0.6,
             "#e6f5d0"
            ],
            [
             0.7,
             "#b8e186"
            ],
            [
             0.8,
             "#7fbc41"
            ],
            [
             0.9,
             "#4d9221"
            ],
            [
             1,
             "#276419"
            ]
           ],
           "sequential": [
            [
             0,
             "#0d0887"
            ],
            [
             0.1111111111111111,
             "#46039f"
            ],
            [
             0.2222222222222222,
             "#7201a8"
            ],
            [
             0.3333333333333333,
             "#9c179e"
            ],
            [
             0.4444444444444444,
             "#bd3786"
            ],
            [
             0.5555555555555556,
             "#d8576b"
            ],
            [
             0.6666666666666666,
             "#ed7953"
            ],
            [
             0.7777777777777778,
             "#fb9f3a"
            ],
            [
             0.8888888888888888,
             "#fdca26"
            ],
            [
             1,
             "#f0f921"
            ]
           ],
           "sequentialminus": [
            [
             0,
             "#0d0887"
            ],
            [
             0.1111111111111111,
             "#46039f"
            ],
            [
             0.2222222222222222,
             "#7201a8"
            ],
            [
             0.3333333333333333,
             "#9c179e"
            ],
            [
             0.4444444444444444,
             "#bd3786"
            ],
            [
             0.5555555555555556,
             "#d8576b"
            ],
            [
             0.6666666666666666,
             "#ed7953"
            ],
            [
             0.7777777777777778,
             "#fb9f3a"
            ],
            [
             0.8888888888888888,
             "#fdca26"
            ],
            [
             1,
             "#f0f921"
            ]
           ]
          },
          "colorway": [
           "#636efa",
           "#EF553B",
           "#00cc96",
           "#ab63fa",
           "#FFA15A",
           "#19d3f3",
           "#FF6692",
           "#B6E880",
           "#FF97FF",
           "#FECB52"
          ],
          "font": {
           "color": "#2a3f5f"
          },
          "geo": {
           "bgcolor": "white",
           "lakecolor": "white",
           "landcolor": "#E5ECF6",
           "showlakes": true,
           "showland": true,
           "subunitcolor": "white"
          },
          "hoverlabel": {
           "align": "left"
          },
          "hovermode": "closest",
          "mapbox": {
           "style": "light"
          },
          "paper_bgcolor": "white",
          "plot_bgcolor": "#E5ECF6",
          "polar": {
           "angularaxis": {
            "gridcolor": "white",
            "linecolor": "white",
            "ticks": ""
           },
           "bgcolor": "#E5ECF6",
           "radialaxis": {
            "gridcolor": "white",
            "linecolor": "white",
            "ticks": ""
           }
          },
          "scene": {
           "xaxis": {
            "backgroundcolor": "#E5ECF6",
            "gridcolor": "white",
            "gridwidth": 2,
            "linecolor": "white",
            "showbackground": true,
            "ticks": "",
            "zerolinecolor": "white"
           },
           "yaxis": {
            "backgroundcolor": "#E5ECF6",
            "gridcolor": "white",
            "gridwidth": 2,
            "linecolor": "white",
            "showbackground": true,
            "ticks": "",
            "zerolinecolor": "white"
           },
           "zaxis": {
            "backgroundcolor": "#E5ECF6",
            "gridcolor": "white",
            "gridwidth": 2,
            "linecolor": "white",
            "showbackground": true,
            "ticks": "",
            "zerolinecolor": "white"
           }
          },
          "shapedefaults": {
           "line": {
            "color": "#2a3f5f"
           }
          },
          "ternary": {
           "aaxis": {
            "gridcolor": "white",
            "linecolor": "white",
            "ticks": ""
           },
           "baxis": {
            "gridcolor": "white",
            "linecolor": "white",
            "ticks": ""
           },
           "bgcolor": "#E5ECF6",
           "caxis": {
            "gridcolor": "white",
            "linecolor": "white",
            "ticks": ""
           }
          },
          "title": {
           "x": 0.05
          },
          "xaxis": {
           "automargin": true,
           "gridcolor": "white",
           "linecolor": "white",
           "ticks": "",
           "title": {
            "standoff": 15
           },
           "zerolinecolor": "white",
           "zerolinewidth": 2
          },
          "yaxis": {
           "automargin": true,
           "gridcolor": "white",
           "linecolor": "white",
           "ticks": "",
           "title": {
            "standoff": 15
           },
           "zerolinecolor": "white",
           "zerolinewidth": 2
          }
         }
        },
        "title": {
         "text": "Ecart-type de la durée des pas (s) vs Amplitude de l'accélération (g)"
        },
        "xaxis": {
         "anchor": "y",
         "domain": [
          0,
          1
         ],
         "title": {
          "text": "Ecart-type de la durée des pas (s)"
         }
        },
        "yaxis": {
         "anchor": "x",
         "domain": [
          0,
          1
         ],
         "title": {
          "text": "Amplitude de l'accélération (g)"
         }
        }
       }
      }
     },
     "metadata": {},
     "output_type": "display_data"
    }
   ],
   "source": [
    "make_scatter(df, \"Ecart-type de la durée des pas (s)\", \"Amplitude de l'accélération (g)\")"
   ]
  }
 ],
 "metadata": {
  "kernelspec": {
   "display_name": "arduino-streamlit",
   "language": "python",
   "name": "python3"
  },
  "language_info": {
   "codemirror_mode": {
    "name": "ipython",
    "version": 3
   },
   "file_extension": ".py",
   "mimetype": "text/x-python",
   "name": "python",
   "nbconvert_exporter": "python",
   "pygments_lexer": "ipython3",
   "version": "3.10.16"
  }
 },
 "nbformat": 4,
 "nbformat_minor": 2
}
