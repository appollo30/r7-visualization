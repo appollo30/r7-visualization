{
 "cells": [
  {
   "cell_type": "code",
   "execution_count": 1,
   "metadata": {},
   "outputs": [],
   "source": [
    "import pandas as pd\n",
    "from src.plots import MovementData"
   ]
  },
  {
   "cell_type": "code",
   "execution_count": 2,
   "metadata": {},
   "outputs": [
    {
     "data": {
      "text/html": [
       "<div>\n",
       "<style scoped>\n",
       "    .dataframe tbody tr th:only-of-type {\n",
       "        vertical-align: middle;\n",
       "    }\n",
       "\n",
       "    .dataframe tbody tr th {\n",
       "        vertical-align: top;\n",
       "    }\n",
       "\n",
       "    .dataframe thead th {\n",
       "        text-align: right;\n",
       "    }\n",
       "</style>\n",
       "<table border=\"1\" class=\"dataframe\">\n",
       "  <thead>\n",
       "    <tr style=\"text-align: right;\">\n",
       "      <th></th>\n",
       "      <th>time (s)</th>\n",
       "      <th>X (g)</th>\n",
       "      <th>Y (g)</th>\n",
       "      <th>Z (g)</th>\n",
       "      <th>acceleration (g)</th>\n",
       "    </tr>\n",
       "  </thead>\n",
       "  <tbody>\n",
       "    <tr>\n",
       "      <th>0</th>\n",
       "      <td>0.000000</td>\n",
       "      <td>0.97</td>\n",
       "      <td>-0.25</td>\n",
       "      <td>0.08</td>\n",
       "      <td>1.004888</td>\n",
       "    </tr>\n",
       "    <tr>\n",
       "      <th>1</th>\n",
       "      <td>0.012987</td>\n",
       "      <td>0.97</td>\n",
       "      <td>-0.25</td>\n",
       "      <td>0.09</td>\n",
       "      <td>1.005734</td>\n",
       "    </tr>\n",
       "    <tr>\n",
       "      <th>2</th>\n",
       "      <td>0.025974</td>\n",
       "      <td>0.96</td>\n",
       "      <td>-0.24</td>\n",
       "      <td>0.09</td>\n",
       "      <td>0.993630</td>\n",
       "    </tr>\n",
       "    <tr>\n",
       "      <th>3</th>\n",
       "      <td>0.038961</td>\n",
       "      <td>0.96</td>\n",
       "      <td>-0.24</td>\n",
       "      <td>0.08</td>\n",
       "      <td>0.992774</td>\n",
       "    </tr>\n",
       "    <tr>\n",
       "      <th>4</th>\n",
       "      <td>0.051948</td>\n",
       "      <td>0.95</td>\n",
       "      <td>-0.21</td>\n",
       "      <td>0.09</td>\n",
       "      <td>0.977088</td>\n",
       "    </tr>\n",
       "  </tbody>\n",
       "</table>\n",
       "</div>"
      ],
      "text/plain": [
       "   time (s)  X (g)  Y (g)  Z (g)  acceleration (g)\n",
       "0  0.000000   0.97  -0.25   0.08          1.004888\n",
       "1  0.012987   0.97  -0.25   0.09          1.005734\n",
       "2  0.025974   0.96  -0.24   0.09          0.993630\n",
       "3  0.038961   0.96  -0.24   0.08          0.992774\n",
       "4  0.051948   0.95  -0.21   0.09          0.977088"
      ]
     },
     "execution_count": 2,
     "metadata": {},
     "output_type": "execute_result"
    }
   ],
   "source": [
    "leo1 = pd.read_csv(\"data/output/Leo/accelerometer2_data.csv\")\n",
    "leo2 = leo1.copy()\n",
    "\n",
    "leo2.head()"
   ]
  },
  {
   "cell_type": "code",
   "execution_count": 3,
   "metadata": {},
   "outputs": [
    {
     "name": "stdout",
     "output_type": "stream",
     "text": [
      "(900, 5)\n"
     ]
    },
    {
     "data": {
      "text/html": [
       "<div>\n",
       "<style scoped>\n",
       "    .dataframe tbody tr th:only-of-type {\n",
       "        vertical-align: middle;\n",
       "    }\n",
       "\n",
       "    .dataframe tbody tr th {\n",
       "        vertical-align: top;\n",
       "    }\n",
       "\n",
       "    .dataframe thead th {\n",
       "        text-align: right;\n",
       "    }\n",
       "</style>\n",
       "<table border=\"1\" class=\"dataframe\">\n",
       "  <thead>\n",
       "    <tr style=\"text-align: right;\">\n",
       "      <th></th>\n",
       "      <th>time (s)</th>\n",
       "      <th>X (g)</th>\n",
       "      <th>Y (g)</th>\n",
       "      <th>Z (g)</th>\n",
       "      <th>acceleration (g)</th>\n",
       "    </tr>\n",
       "    <tr>\n",
       "      <th>time (timedelta)</th>\n",
       "      <th></th>\n",
       "      <th></th>\n",
       "      <th></th>\n",
       "      <th></th>\n",
       "      <th></th>\n",
       "    </tr>\n",
       "  </thead>\n",
       "  <tbody>\n",
       "    <tr>\n",
       "      <th>0 days 00:00:00</th>\n",
       "      <td>0.00</td>\n",
       "      <td>0.970</td>\n",
       "      <td>-0.250</td>\n",
       "      <td>0.080</td>\n",
       "      <td>1.004888</td>\n",
       "    </tr>\n",
       "    <tr>\n",
       "      <th>0 days 00:00:00.010000</th>\n",
       "      <td>0.01</td>\n",
       "      <td>0.970</td>\n",
       "      <td>-0.250</td>\n",
       "      <td>0.090</td>\n",
       "      <td>1.005734</td>\n",
       "    </tr>\n",
       "    <tr>\n",
       "      <th>0 days 00:00:00.020000</th>\n",
       "      <td>0.02</td>\n",
       "      <td>0.960</td>\n",
       "      <td>-0.240</td>\n",
       "      <td>0.090</td>\n",
       "      <td>0.993630</td>\n",
       "    </tr>\n",
       "    <tr>\n",
       "      <th>0 days 00:00:00.030000</th>\n",
       "      <td>0.03</td>\n",
       "      <td>0.960</td>\n",
       "      <td>-0.240</td>\n",
       "      <td>0.080</td>\n",
       "      <td>0.992774</td>\n",
       "    </tr>\n",
       "    <tr>\n",
       "      <th>0 days 00:00:00.040000</th>\n",
       "      <td>0.04</td>\n",
       "      <td>0.955</td>\n",
       "      <td>-0.225</td>\n",
       "      <td>0.085</td>\n",
       "      <td>0.984931</td>\n",
       "    </tr>\n",
       "  </tbody>\n",
       "</table>\n",
       "</div>"
      ],
      "text/plain": [
       "                        time (s)  X (g)  Y (g)  Z (g)  acceleration (g)\n",
       "time (timedelta)                                                       \n",
       "0 days 00:00:00             0.00  0.970 -0.250  0.080          1.004888\n",
       "0 days 00:00:00.010000      0.01  0.970 -0.250  0.090          1.005734\n",
       "0 days 00:00:00.020000      0.02  0.960 -0.240  0.090          0.993630\n",
       "0 days 00:00:00.030000      0.03  0.960 -0.240  0.080          0.992774\n",
       "0 days 00:00:00.040000      0.04  0.955 -0.225  0.085          0.984931"
      ]
     },
     "execution_count": 3,
     "metadata": {},
     "output_type": "execute_result"
    }
   ],
   "source": [
    "leo2['time (timedelta)'] = pd.to_timedelta(leo2['time (s)'], unit='s')\n",
    "leo2 = leo2.set_index('time (timedelta)')\n",
    "leo2 = leo2.resample('10ms').mean()\n",
    "leo2 = leo2.interpolate(method='linear')\n",
    "leo2['time (s)'] = leo2.index.total_seconds()\n",
    "\n",
    "print(leo2.shape)\n",
    "leo2.head()"
   ]
  },
  {
   "cell_type": "code",
   "execution_count": 5,
   "metadata": {},
   "outputs": [
    {
     "data": {
      "application/vnd.plotly.v1+json": {
       "config": {
        "plotlyServerURL": "https://plot.ly"
       },
       "data": [
        {
         "box": {
          "visible": true
         },
         "line": {
          "color": "#636EFA"
         },
         "meanline": {
          "visible": true
         },
         "name": "Original",
         "type": "violin",
         "y": {
          "bdata": "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",
          "dtype": "f8"
         }
        },
        {
         "box": {
          "visible": true
         },
         "line": {
          "color": "#EF553B"
         },
         "meanline": {
          "visible": true
         },
         "name": "Interpolated",
         "type": "violin",
         "y": {
          "bdata": "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",
          "dtype": "f8"
         }
        }
       ],
       "layout": {
        "template": {
         "data": {
          "bar": [
           {
            "error_x": {
             "color": "#2a3f5f"
            },
            "error_y": {
             "color": "#2a3f5f"
            },
            "marker": {
             "line": {
              "color": "#E5ECF6",
              "width": 0.5
             },
             "pattern": {
              "fillmode": "overlay",
              "size": 10,
              "solidity": 0.2
             }
            },
            "type": "bar"
           }
          ],
          "barpolar": [
           {
            "marker": {
             "line": {
              "color": "#E5ECF6",
              "width": 0.5
             },
             "pattern": {
              "fillmode": "overlay",
              "size": 10,
              "solidity": 0.2
             }
            },
            "type": "barpolar"
           }
          ],
          "carpet": [
           {
            "aaxis": {
             "endlinecolor": "#2a3f5f",
             "gridcolor": "white",
             "linecolor": "white",
             "minorgridcolor": "white",
             "startlinecolor": "#2a3f5f"
            },
            "baxis": {
             "endlinecolor": "#2a3f5f",
             "gridcolor": "white",
             "linecolor": "white",
             "minorgridcolor": "white",
             "startlinecolor": "#2a3f5f"
            },
            "type": "carpet"
           }
          ],
          "choropleth": [
           {
            "colorbar": {
             "outlinewidth": 0,
             "ticks": ""
            },
            "type": "choropleth"
           }
          ],
          "contour": [
           {
            "colorbar": {
             "outlinewidth": 0,
             "ticks": ""
            },
            "colorscale": [
             [
              0,
              "#0d0887"
             ],
             [
              0.1111111111111111,
              "#46039f"
             ],
             [
              0.2222222222222222,
              "#7201a8"
             ],
             [
              0.3333333333333333,
              "#9c179e"
             ],
             [
              0.4444444444444444,
              "#bd3786"
             ],
             [
              0.5555555555555556,
              "#d8576b"
             ],
             [
              0.6666666666666666,
              "#ed7953"
             ],
             [
              0.7777777777777778,
              "#fb9f3a"
             ],
             [
              0.8888888888888888,
              "#fdca26"
             ],
             [
              1,
              "#f0f921"
             ]
            ],
            "type": "contour"
           }
          ],
          "contourcarpet": [
           {
            "colorbar": {
             "outlinewidth": 0,
             "ticks": ""
            },
            "type": "contourcarpet"
           }
          ],
          "heatmap": [
           {
            "colorbar": {
             "outlinewidth": 0,
             "ticks": ""
            },
            "colorscale": [
             [
              0,
              "#0d0887"
             ],
             [
              0.1111111111111111,
              "#46039f"
             ],
             [
              0.2222222222222222,
              "#7201a8"
             ],
             [
              0.3333333333333333,
              "#9c179e"
             ],
             [
              0.4444444444444444,
              "#bd3786"
             ],
             [
              0.5555555555555556,
              "#d8576b"
             ],
             [
              0.6666666666666666,
              "#ed7953"
             ],
             [
              0.7777777777777778,
              "#fb9f3a"
             ],
             [
              0.8888888888888888,
              "#fdca26"
             ],
             [
              1,
              "#f0f921"
             ]
            ],
            "type": "heatmap"
           }
          ],
          "histogram": [
           {
            "marker": {
             "pattern": {
              "fillmode": "overlay",
              "size": 10,
              "solidity": 0.2
             }
            },
            "type": "histogram"
           }
          ],
          "histogram2d": [
           {
            "colorbar": {
             "outlinewidth": 0,
             "ticks": ""
            },
            "colorscale": [
             [
              0,
              "#0d0887"
             ],
             [
              0.1111111111111111,
              "#46039f"
             ],
             [
              0.2222222222222222,
              "#7201a8"
             ],
             [
              0.3333333333333333,
              "#9c179e"
             ],
             [
              0.4444444444444444,
              "#bd3786"
             ],
             [
              0.5555555555555556,
              "#d8576b"
             ],
             [
              0.6666666666666666,
              "#ed7953"
             ],
             [
              0.7777777777777778,
              "#fb9f3a"
             ],
             [
              0.8888888888888888,
              "#fdca26"
             ],
             [
              1,
              "#f0f921"
             ]
            ],
            "type": "histogram2d"
           }
          ],
          "histogram2dcontour": [
           {
            "colorbar": {
             "outlinewidth": 0,
             "ticks": ""
            },
            "colorscale": [
             [
              0,
              "#0d0887"
             ],
             [
              0.1111111111111111,
              "#46039f"
             ],
             [
              0.2222222222222222,
              "#7201a8"
             ],
             [
              0.3333333333333333,
              "#9c179e"
             ],
             [
              0.4444444444444444,
              "#bd3786"
             ],
             [
              0.5555555555555556,
              "#d8576b"
             ],
             [
              0.6666666666666666,
              "#ed7953"
             ],
             [
              0.7777777777777778,
              "#fb9f3a"
             ],
             [
              0.8888888888888888,
              "#fdca26"
             ],
             [
              1,
              "#f0f921"
             ]
            ],
            "type": "histogram2dcontour"
           }
          ],
          "mesh3d": [
           {
            "colorbar": {
             "outlinewidth": 0,
             "ticks": ""
            },
            "type": "mesh3d"
           }
          ],
          "parcoords": [
           {
            "line": {
             "colorbar": {
              "outlinewidth": 0,
              "ticks": ""
             }
            },
            "type": "parcoords"
           }
          ],
          "pie": [
           {
            "automargin": true,
            "type": "pie"
           }
          ],
          "scatter": [
           {
            "fillpattern": {
             "fillmode": "overlay",
             "size": 10,
             "solidity": 0.2
            },
            "type": "scatter"
           }
          ],
          "scatter3d": [
           {
            "line": {
             "colorbar": {
              "outlinewidth": 0,
              "ticks": ""
             }
            },
            "marker": {
             "colorbar": {
              "outlinewidth": 0,
              "ticks": ""
             }
            },
            "type": "scatter3d"
           }
          ],
          "scattercarpet": [
           {
            "marker": {
             "colorbar": {
              "outlinewidth": 0,
              "ticks": ""
             }
            },
            "type": "scattercarpet"
           }
          ],
          "scattergeo": [
           {
            "marker": {
             "colorbar": {
              "outlinewidth": 0,
              "ticks": ""
             }
            },
            "type": "scattergeo"
           }
          ],
          "scattergl": [
           {
            "marker": {
             "colorbar": {
              "outlinewidth": 0,
              "ticks": ""
             }
            },
            "type": "scattergl"
           }
          ],
          "scattermap": [
           {
            "marker": {
             "colorbar": {
              "outlinewidth": 0,
              "ticks": ""
             }
            },
            "type": "scattermap"
           }
          ],
          "scattermapbox": [
           {
            "marker": {
             "colorbar": {
              "outlinewidth": 0,
              "ticks": ""
             }
            },
            "type": "scattermapbox"
           }
          ],
          "scatterpolar": [
           {
            "marker": {
             "colorbar": {
              "outlinewidth": 0,
              "ticks": ""
             }
            },
            "type": "scatterpolar"
           }
          ],
          "scatterpolargl": [
           {
            "marker": {
             "colorbar": {
              "outlinewidth": 0,
              "ticks": ""
             }
            },
            "type": "scatterpolargl"
           }
          ],
          "scatterternary": [
           {
            "marker": {
             "colorbar": {
              "outlinewidth": 0,
              "ticks": ""
             }
            },
            "type": "scatterternary"
           }
          ],
          "surface": [
           {
            "colorbar": {
             "outlinewidth": 0,
             "ticks": ""
            },
            "colorscale": [
             [
              0,
              "#0d0887"
             ],
             [
              0.1111111111111111,
              "#46039f"
             ],
             [
              0.2222222222222222,
              "#7201a8"
             ],
             [
              0.3333333333333333,
              "#9c179e"
             ],
             [
              0.4444444444444444,
              "#bd3786"
             ],
             [
              0.5555555555555556,
              "#d8576b"
             ],
             [
              0.6666666666666666,
              "#ed7953"
             ],
             [
              0.7777777777777778,
              "#fb9f3a"
             ],
             [
              0.8888888888888888,
              "#fdca26"
             ],
             [
              1,
              "#f0f921"
             ]
            ],
            "type": "surface"
           }
          ],
          "table": [
           {
            "cells": {
             "fill": {
              "color": "#EBF0F8"
             },
             "line": {
              "color": "white"
             }
            },
            "header": {
             "fill": {
              "color": "#C8D4E3"
             },
             "line": {
              "color": "white"
             }
            },
            "type": "table"
           }
          ]
         },
         "layout": {
          "annotationdefaults": {
           "arrowcolor": "#2a3f5f",
           "arrowhead": 0,
           "arrowwidth": 1
          },
          "autotypenumbers": "strict",
          "coloraxis": {
           "colorbar": {
            "outlinewidth": 0,
            "ticks": ""
           }
          },
          "colorscale": {
           "diverging": [
            [
             0,
             "#8e0152"
            ],
            [
             0.1,
             "#c51b7d"
            ],
            [
             0.2,
             "#de77ae"
            ],
            [
             0.3,
             "#f1b6da"
            ],
            [
             0.4,
             "#fde0ef"
            ],
            [
             0.5,
             "#f7f7f7"
            ],
            [
             0.6,
             "#e6f5d0"
            ],
            [
             0.7,
             "#b8e186"
            ],
            [
             0.8,
             "#7fbc41"
            ],
            [
             0.9,
             "#4d9221"
            ],
            [
             1,
             "#276419"
            ]
           ],
           "sequential": [
            [
             0,
             "#0d0887"
            ],
            [
             0.1111111111111111,
             "#46039f"
            ],
            [
             0.2222222222222222,
             "#7201a8"
            ],
            [
             0.3333333333333333,
             "#9c179e"
            ],
            [
             0.4444444444444444,
             "#bd3786"
            ],
            [
             0.5555555555555556,
             "#d8576b"
            ],
            [
             0.6666666666666666,
             "#ed7953"
            ],
            [
             0.7777777777777778,
             "#fb9f3a"
            ],
            [
             0.8888888888888888,
             "#fdca26"
            ],
            [
             1,
             "#f0f921"
            ]
           ],
           "sequentialminus": [
            [
             0,
             "#0d0887"
            ],
            [
             0.1111111111111111,
             "#46039f"
            ],
            [
             0.2222222222222222,
             "#7201a8"
            ],
            [
             0.3333333333333333,
             "#9c179e"
            ],
            [
             0.4444444444444444,
             "#bd3786"
            ],
            [
             0.5555555555555556,
             "#d8576b"
            ],
            [
             0.6666666666666666,
             "#ed7953"
            ],
            [
             0.7777777777777778,
             "#fb9f3a"
            ],
            [
             0.8888888888888888,
             "#fdca26"
            ],
            [
             1,
             "#f0f921"
            ]
           ]
          },
          "colorway": [
           "#636efa",
           "#EF553B",
           "#00cc96",
           "#ab63fa",
           "#FFA15A",
           "#19d3f3",
           "#FF6692",
           "#B6E880",
           "#FF97FF",
           "#FECB52"
          ],
          "font": {
           "color": "#2a3f5f"
          },
          "geo": {
           "bgcolor": "white",
           "lakecolor": "white",
           "landcolor": "#E5ECF6",
           "showlakes": true,
           "showland": true,
           "subunitcolor": "white"
          },
          "hoverlabel": {
           "align": "left"
          },
          "hovermode": "closest",
          "mapbox": {
           "style": "light"
          },
          "paper_bgcolor": "white",
          "plot_bgcolor": "#E5ECF6",
          "polar": {
           "angularaxis": {
            "gridcolor": "white",
            "linecolor": "white",
            "ticks": ""
           },
           "bgcolor": "#E5ECF6",
           "radialaxis": {
            "gridcolor": "white",
            "linecolor": "white",
            "ticks": ""
           }
          },
          "scene": {
           "xaxis": {
            "backgroundcolor": "#E5ECF6",
            "gridcolor": "white",
            "gridwidth": 2,
            "linecolor": "white",
            "showbackground": true,
            "ticks": "",
            "zerolinecolor": "white"
           },
           "yaxis": {
            "backgroundcolor": "#E5ECF6",
            "gridcolor": "white",
            "gridwidth": 2,
            "linecolor": "white",
            "showbackground": true,
            "ticks": "",
            "zerolinecolor": "white"
           },
           "zaxis": {
            "backgroundcolor": "#E5ECF6",
            "gridcolor": "white",
            "gridwidth": 2,
            "linecolor": "white",
            "showbackground": true,
            "ticks": "",
            "zerolinecolor": "white"
           }
          },
          "shapedefaults": {
           "line": {
            "color": "#2a3f5f"
           }
          },
          "ternary": {
           "aaxis": {
            "gridcolor": "white",
            "linecolor": "white",
            "ticks": ""
           },
           "baxis": {
            "gridcolor": "white",
            "linecolor": "white",
            "ticks": ""
           },
           "bgcolor": "#E5ECF6",
           "caxis": {
            "gridcolor": "white",
            "linecolor": "white",
            "ticks": ""
           }
          },
          "title": {
           "x": 0.05
          },
          "xaxis": {
           "automargin": true,
           "gridcolor": "white",
           "linecolor": "white",
           "ticks": "",
           "title": {
            "standoff": 15
           },
           "zerolinecolor": "white",
           "zerolinewidth": 2
          },
          "yaxis": {
           "automargin": true,
           "gridcolor": "white",
           "linecolor": "white",
           "ticks": "",
           "title": {
            "standoff": 15
           },
           "zerolinecolor": "white",
           "zerolinewidth": 2
          }
         }
        },
        "title": {
         "text": "Distribution de l'accélération"
        },
        "yaxis": {
         "title": {
          "text": "Acceleration (g)"
         }
        }
       }
      }
     },
     "metadata": {},
     "output_type": "display_data"
    }
   ],
   "source": [
    "md1 = MovementData([leo1,leo2], [\"Original\", \"Interpolated\"])\n",
    "plots = md1.make_all_plots()\n",
    "\n",
    "plots[\"Violin\"]"
   ]
  }
 ],
 "metadata": {
  "kernelspec": {
   "display_name": "arduino-streamlit",
   "language": "python",
   "name": "python3"
  },
  "language_info": {
   "codemirror_mode": {
    "name": "ipython",
    "version": 3
   },
   "file_extension": ".py",
   "mimetype": "text/x-python",
   "name": "python",
   "nbconvert_exporter": "python",
   "pygments_lexer": "ipython3",
   "version": "3.10.16"
  }
 },
 "nbformat": 4,
 "nbformat_minor": 2
}
