{
 "cells": [
  {
   "cell_type": "code",
   "execution_count": 1,
   "metadata": {},
   "outputs": [],
   "source": [
    "import pandas as pd\n",
    "import numpy as np\n",
    "import plotly.express as px\n",
    "import plotly.graph_objects as go\n",
    "import os\n",
    "import glob\n",
    "from src.walking_recording import WalkingRecording\n",
    "from typing import Dict"
   ]
  },
  {
   "cell_type": "code",
   "execution_count": 2,
   "metadata": {},
   "outputs": [],
   "source": [
    "def setup() ->  Dict:\n",
    "    \"\"\"\n",
    "    Fonction de setup de l'application\n",
    "    Permet de récupérer les données des membres du groupe\n",
    "\n",
    "    Returns:\n",
    "        Dict: Dictionnaire contenant les données des membres\n",
    "    \"\"\"\n",
    "    file_path = 'data/processed'\n",
    "    members_list = glob.glob(f\"{file_path}/*\")\n",
    "    members_dict = {}\n",
    "\n",
    "    for member in members_list:\n",
    "        member_name = os.path.basename(member)\n",
    "        members_dict[member_name] = {}\n",
    "        file_list = glob.glob(f\"{member}/*\")\n",
    "        for csv_file in file_list:\n",
    "            basename = os.path.basename(csv_file)\n",
    "            members_dict[member_name][basename] = WalkingRecording.from_csv(csv_file)\n",
    "\n",
    "    return members_dict\n"
   ]
  },
  {
   "cell_type": "code",
   "execution_count": 3,
   "metadata": {},
   "outputs": [
    {
     "data": {
      "text/plain": [
       "['Felix', 'Antoine', 'Leo', 'Matthieu', 'Corentin', 'Serge']"
      ]
     },
     "execution_count": 3,
     "metadata": {},
     "output_type": "execute_result"
    }
   ],
   "source": [
    "members = setup()\n",
    "list(members.keys())"
   ]
  },
  {
   "cell_type": "code",
   "execution_count": 4,
   "metadata": {},
   "outputs": [],
   "source": [
    "def members_metrics_df(members):\n",
    "    metrics = []\n",
    "    for name, member in members.items():\n",
    "        for file_name, recording in member.items():\n",
    "            metrics.append({\n",
    "                \"name\" : name,\n",
    "                \"recording\" : file_name,\n",
    "                \"steps\" : len(recording.get_steps()),\n",
    "                \"frequency_fft\" : recording.get_frequency_from_fft(),\n",
    "                \"frequency_steps\" : recording.get_frequency_from_counting_steps(),\n",
    "                \"acceleration_std\" : recording.get_std(\"acceleration (g)\")\n",
    "            })\n",
    "    return pd.DataFrame(metrics)\n",
    "        "
   ]
  },
  {
   "cell_type": "code",
   "execution_count": 5,
   "metadata": {},
   "outputs": [
    {
     "data": {
      "application/vnd.microsoft.datawrangler.viewer.v0+json": {
       "columns": [
        {
         "name": "index",
         "rawType": "int64",
         "type": "integer"
        },
        {
         "name": "name",
         "rawType": "object",
         "type": "string"
        },
        {
         "name": "recording",
         "rawType": "object",
         "type": "string"
        },
        {
         "name": "steps",
         "rawType": "int64",
         "type": "integer"
        },
        {
         "name": "frequency_fft",
         "rawType": "float64",
         "type": "float"
        },
        {
         "name": "frequency_steps",
         "rawType": "float64",
         "type": "float"
        },
        {
         "name": "acceleration_std",
         "rawType": "float64",
         "type": "float"
        }
       ],
       "conversionMethod": "pd.DataFrame",
       "ref": "6bf6d682-27c8-4a07-83f7-765f0df96aa7",
       "rows": [
        [
         "0",
         "Felix",
         "accelerometer7_data.csv",
         "17",
         "1.9019019019019017",
         "1.884570082449941",
         "0.2839893820716333"
        ],
        [
         "1",
         "Felix",
         "accelerometer6_data.csv",
         "16",
         "1.0030090270812435",
         "1.8679950186799499",
         "0.2480673115758696"
        ],
        [
         "2",
         "Felix",
         "accelerometer10_data.csv",
         "14",
         "1.9000000000000001",
         "1.589242053789731",
         "0.21903724305282277"
        ],
        [
         "3",
         "Felix",
         "accelerometer1_data.csv",
         "12",
         "1.0010010010010009",
         "1.4435695538057742",
         "0.24553390676506642"
        ],
        [
         "4",
         "Felix",
         "accelerometer4_data.csv",
         "17",
         "1.9000000000000001",
         "1.9161676646706587",
         "0.27357873800085464"
        ]
       ],
       "shape": {
        "columns": 6,
        "rows": 5
       }
      },
      "text/html": [
       "<div>\n",
       "<style scoped>\n",
       "    .dataframe tbody tr th:only-of-type {\n",
       "        vertical-align: middle;\n",
       "    }\n",
       "\n",
       "    .dataframe tbody tr th {\n",
       "        vertical-align: top;\n",
       "    }\n",
       "\n",
       "    .dataframe thead th {\n",
       "        text-align: right;\n",
       "    }\n",
       "</style>\n",
       "<table border=\"1\" class=\"dataframe\">\n",
       "  <thead>\n",
       "    <tr style=\"text-align: right;\">\n",
       "      <th></th>\n",
       "      <th>name</th>\n",
       "      <th>recording</th>\n",
       "      <th>steps</th>\n",
       "      <th>frequency_fft</th>\n",
       "      <th>frequency_steps</th>\n",
       "      <th>acceleration_std</th>\n",
       "    </tr>\n",
       "  </thead>\n",
       "  <tbody>\n",
       "    <tr>\n",
       "      <th>0</th>\n",
       "      <td>Felix</td>\n",
       "      <td>accelerometer7_data.csv</td>\n",
       "      <td>17</td>\n",
       "      <td>1.901902</td>\n",
       "      <td>1.884570</td>\n",
       "      <td>0.283989</td>\n",
       "    </tr>\n",
       "    <tr>\n",
       "      <th>1</th>\n",
       "      <td>Felix</td>\n",
       "      <td>accelerometer6_data.csv</td>\n",
       "      <td>16</td>\n",
       "      <td>1.003009</td>\n",
       "      <td>1.867995</td>\n",
       "      <td>0.248067</td>\n",
       "    </tr>\n",
       "    <tr>\n",
       "      <th>2</th>\n",
       "      <td>Felix</td>\n",
       "      <td>accelerometer10_data.csv</td>\n",
       "      <td>14</td>\n",
       "      <td>1.900000</td>\n",
       "      <td>1.589242</td>\n",
       "      <td>0.219037</td>\n",
       "    </tr>\n",
       "    <tr>\n",
       "      <th>3</th>\n",
       "      <td>Felix</td>\n",
       "      <td>accelerometer1_data.csv</td>\n",
       "      <td>12</td>\n",
       "      <td>1.001001</td>\n",
       "      <td>1.443570</td>\n",
       "      <td>0.245534</td>\n",
       "    </tr>\n",
       "    <tr>\n",
       "      <th>4</th>\n",
       "      <td>Felix</td>\n",
       "      <td>accelerometer4_data.csv</td>\n",
       "      <td>17</td>\n",
       "      <td>1.900000</td>\n",
       "      <td>1.916168</td>\n",
       "      <td>0.273579</td>\n",
       "    </tr>\n",
       "  </tbody>\n",
       "</table>\n",
       "</div>"
      ],
      "text/plain": [
       "    name                 recording  steps  frequency_fft  frequency_steps  \\\n",
       "0  Felix   accelerometer7_data.csv     17       1.901902         1.884570   \n",
       "1  Felix   accelerometer6_data.csv     16       1.003009         1.867995   \n",
       "2  Felix  accelerometer10_data.csv     14       1.900000         1.589242   \n",
       "3  Felix   accelerometer1_data.csv     12       1.001001         1.443570   \n",
       "4  Felix   accelerometer4_data.csv     17       1.900000         1.916168   \n",
       "\n",
       "   acceleration_std  \n",
       "0          0.283989  \n",
       "1          0.248067  \n",
       "2          0.219037  \n",
       "3          0.245534  \n",
       "4          0.273579  "
      ]
     },
     "execution_count": 5,
     "metadata": {},
     "output_type": "execute_result"
    }
   ],
   "source": [
    "df = members_metrics_df(members)\n",
    "df.head()"
   ]
  },
  {
   "cell_type": "code",
   "execution_count": 6,
   "metadata": {},
   "outputs": [
    {
     "data": {
      "application/vnd.plotly.v1+json": {
       "config": {
        "plotlyServerURL": "https://plot.ly"
       },
       "data": [
        {
         "customdata": [
          [
           "accelerometer7_data.csv"
          ],
          [
           "accelerometer6_data.csv"
          ],
          [
           "accelerometer10_data.csv"
          ],
          [
           "accelerometer1_data.csv"
          ],
          [
           "accelerometer4_data.csv"
          ],
          [
           "accelerometer5_data.csv"
          ],
          [
           "accelerometer9_data.csv"
          ],
          [
           "accelerometer8_data.csv"
          ],
          [
           "accelerometer3_data.csv"
          ],
          [
           "accelerometer2_data.csv"
          ]
         ],
         "hovertemplate": "name=Felix<br>frequency_steps=%{x}<br>acceleration_std=%{y}<br>recording=%{customdata[0]}<extra></extra>",
         "legendgroup": "Felix",
         "marker": {
          "color": "#636efa",
          "symbol": "circle"
         },
         "mode": "markers",
         "name": "Felix",
         "orientation": "v",
         "showlegend": true,
         "type": "scatter",
         "x": {
          "bdata": "w0dy9TIn/j8FJKW+TuP9P7pGZxOJbfk/xo1xY9wY9z9cnNZsn6j+Pz0B0fnqHvk/zC2rE8DP/D8mG/4R1Zf9P23VTYDpgPw/22xn2X/Y8j8=",
          "dtype": "f8"
         },
         "xaxis": "x",
         "y": {
          "bdata": "pSsazeEs0j94ZjZvq8DPP8tJwpFpCcw/urrOsadtzz9ODiZlUILRP5A8ySjjD9A/UTCkXefg0T+IqmMLZiLQPy4uRXscKco/RBnYuJFbyz8=",
          "dtype": "f8"
         },
         "yaxis": "y"
        },
        {
         "customdata": [
          [
           "accelerometer7_data.csv"
          ],
          [
           "accelerometer6_data.csv"
          ],
          [
           "accelerometer10_data.csv"
          ],
          [
           "accelerometer1_data.csv"
          ],
          [
           "accelerometer4_data.csv"
          ],
          [
           "accelerometer5_data.csv"
          ],
          [
           "accelerometer9_data.csv"
          ],
          [
           "accelerometer8_data.csv"
          ],
          [
           "accelerometer3_data.csv"
          ],
          [
           "accelerometer2_data.csv"
          ]
         ],
         "hovertemplate": "name=Antoine<br>frequency_steps=%{x}<br>acceleration_std=%{y}<br>recording=%{customdata[0]}<extra></extra>",
         "legendgroup": "Antoine",
         "marker": {
          "color": "#EF553B",
          "symbol": "circle"
         },
         "mode": "markers",
         "name": "Antoine",
         "orientation": "v",
         "showlegend": true,
         "type": "scatter",
         "x": {
          "bdata": "0I67Rze8+j8H6kE6UQz7P+RBIG29vPk/TA3sHVMD+z8XYKF01YH7P9RyIlfNcPs/J3MQcOuz+T9bxbLxzdD6PwUmnZoHufs/VVVVVVUV+z8=",
          "dtype": "f8"
         },
         "xaxis": "x",
         "y": {
          "bdata": "bBhg+5fhzT9BAC9Dn+rNP6EJi1tn3ck/4GeubCEN0D+2ZgZy/i7OP/3FeHvpNc4/c9E90QYVyj9N7CUrmEPLP8WeC3xFds0/YJwS/oAjzj8=",
          "dtype": "f8"
         },
         "yaxis": "y"
        },
        {
         "customdata": [
          [
           "accelerometer7_data.csv"
          ],
          [
           "accelerometer6_data.csv"
          ],
          [
           "accelerometer10_data.csv"
          ],
          [
           "accelerometer1_data.csv"
          ],
          [
           "accelerometer4_data.csv"
          ],
          [
           "accelerometer5_data.csv"
          ],
          [
           "accelerometer9_data.csv"
          ],
          [
           "accelerometer8_data.csv"
          ],
          [
           "accelerometer3_data.csv"
          ],
          [
           "accelerometer2_data.csv"
          ]
         ],
         "hovertemplate": "name=Leo<br>frequency_steps=%{x}<br>acceleration_std=%{y}<br>recording=%{customdata[0]}<extra></extra>",
         "legendgroup": "Leo",
         "marker": {
          "color": "#00cc96",
          "symbol": "circle"
         },
         "mode": "markers",
         "name": "Leo",
         "orientation": "v",
         "showlegend": true,
         "type": "scatter",
         "x": {
          "bdata": "vulNb3rT+z9ODewdUwP7P6l0ZM9AVPo/yfruUPc4/D+OWcXtnD77P8iqi/cUevs//BSXDME6+j+8u7u7u7v7P2KzoNpzMv0/i8iAddlq+z8=",
          "dtype": "f8"
         },
         "xaxis": "x",
         "y": {
          "bdata": "x4DZxp7x0D+tO8EryaTOP0JL9QQktMk/PKdPvQfG0T9/VgZfhS3PP7usPTx2dM8/0z+7vFDXxz/ZR7dvVLzPPwcKxsO7Yc0/ca076je40j8=",
          "dtype": "f8"
         },
         "yaxis": "y"
        },
        {
         "customdata": [
          [
           "accelerometer7_data.csv"
          ],
          [
           "accelerometer6_data.csv"
          ],
          [
           "accelerometer10_data.csv"
          ],
          [
           "accelerometer1_data.csv"
          ],
          [
           "accelerometer4_data.csv"
          ],
          [
           "accelerometer5_data.csv"
          ],
          [
           "accelerometer9_data.csv"
          ],
          [
           "accelerometer8_data.csv"
          ],
          [
           "accelerometer3_data.csv"
          ],
          [
           "accelerometer2_data.csv"
          ]
         ],
         "hovertemplate": "name=Matthieu<br>frequency_steps=%{x}<br>acceleration_std=%{y}<br>recording=%{customdata[0]}<extra></extra>",
         "legendgroup": "Matthieu",
         "marker": {
          "color": "#ab63fa",
          "symbol": "circle"
         },
         "mode": "markers",
         "name": "Matthieu",
         "orientation": "v",
         "showlegend": true,
         "type": "scatter",
         "x": {
          "bdata": "ruRJl/BD+j+gVJh4P3L6P0GuSrLeOvk/pz2uAoIh+T+pdGTPQFT6P2T8ABdus/o/A4+ry28o+D8KhaEPMw36P4nG+tBYH/o/Wvpa+lr6+j8=",
          "dtype": "f8"
         },
         "xaxis": "x",
         "y": {
          "bdata": "Hbtoo1RIxD93HN/GMTvFPxUT2jOUssU/omBn/1PIwT+voWflx0/FP1jMahDRU8U/s2j/yFODxD/yIsQ7/WvDP9uumx8yMMQ/AG5XePZxxT8=",
          "dtype": "f8"
         },
         "yaxis": "y"
        },
        {
         "customdata": [
          [
           "accelerometer7_data.csv"
          ],
          [
           "accelerometer6_data.csv"
          ],
          [
           "accelerometer10_data.csv"
          ],
          [
           "accelerometer1_data.csv"
          ],
          [
           "accelerometer4_data.csv"
          ],
          [
           "accelerometer5_data.csv"
          ],
          [
           "accelerometer9_data.csv"
          ],
          [
           "accelerometer8_data.csv"
          ],
          [
           "accelerometer3_data.csv"
          ],
          [
           "accelerometer2_data.csv"
          ]
         ],
         "hovertemplate": "name=Corentin<br>frequency_steps=%{x}<br>acceleration_std=%{y}<br>recording=%{customdata[0]}<extra></extra>",
         "legendgroup": "Corentin",
         "marker": {
          "color": "#FFA15A",
          "symbol": "circle"
         },
         "mode": "markers",
         "name": "Corentin",
         "orientation": "v",
         "showlegend": true,
         "type": "scatter",
         "x": {
          "bdata": "J3MQcOuz+T8KAwGr40v5P0fVxbKgpfg/DcMwDMMw+j+u4PCFFAH7Pw3DMAzDMPo/KChx7Jcx+j8OSXjKkZX5PwAAAAAAAPo/4uHh4eHh+T8=",
          "dtype": "f8"
         },
         "xaxis": "x",
         "y": {
          "bdata": "ZBT0pPnFyD+bFvcCqxXKP0MFCAID5sY/gyffIbtVyD98JcpUdv3KP7+imn3zzso/gDv0mBNfxj8ErgXbt87JPyd5fLbeWcc/9uukPtcwyD8=",
          "dtype": "f8"
         },
         "yaxis": "y"
        },
        {
         "customdata": [
          [
           "accelerometer7_data.csv"
          ],
          [
           "accelerometer6_data.csv"
          ],
          [
           "accelerometer1_data.csv"
          ],
          [
           "accelerometer4_data.csv"
          ],
          [
           "accelerometer5_data.csv"
          ],
          [
           "accelerometer9_data.csv"
          ],
          [
           "accelerometer8_data.csv"
          ],
          [
           "accelerometer3_data.csv"
          ],
          [
           "accelerometer2_data.csv"
          ]
         ],
         "hovertemplate": "name=Serge<br>frequency_steps=%{x}<br>acceleration_std=%{y}<br>recording=%{customdata[0]}<extra></extra>",
         "legendgroup": "Serge",
         "marker": {
          "color": "#19d3f3",
          "symbol": "circle"
         },
         "mode": "markers",
         "name": "Serge",
         "orientation": "v",
         "showlegend": true,
         "type": "scatter",
         "x": {
          "bdata": "pfQfxjKh+j8EmkKgKQT6P3Hn0OsbVfs/GauGVvJt+j/NjrtHN7z6P90ybhm3jPs/oFSYeD9y+j8H6kE6UQz7Pz2ETQGOdvo/",
          "dtype": "f8"
         },
         "xaxis": "x",
         "y": {
          "bdata": "hDB8f2P/wT9WrB1WztPDPz+IfvtdhsM/fs4KQ2zlwz/SpbxDtTXDP+F7kxwQe8c/LUjuNsSlwj8ciV/FJavDP7K9B3fn0sI/",
          "dtype": "f8"
         },
         "yaxis": "y"
        }
       ],
       "layout": {
        "legend": {
         "title": {
          "text": "name"
         },
         "tracegroupgap": 0
        },
        "margin": {
         "t": 60
        },
        "template": {
         "data": {
          "bar": [
           {
            "error_x": {
             "color": "#2a3f5f"
            },
            "error_y": {
             "color": "#2a3f5f"
            },
            "marker": {
             "line": {
              "color": "#E5ECF6",
              "width": 0.5
             },
             "pattern": {
              "fillmode": "overlay",
              "size": 10,
              "solidity": 0.2
             }
            },
            "type": "bar"
           }
          ],
          "barpolar": [
           {
            "marker": {
             "line": {
              "color": "#E5ECF6",
              "width": 0.5
             },
             "pattern": {
              "fillmode": "overlay",
              "size": 10,
              "solidity": 0.2
             }
            },
            "type": "barpolar"
           }
          ],
          "carpet": [
           {
            "aaxis": {
             "endlinecolor": "#2a3f5f",
             "gridcolor": "white",
             "linecolor": "white",
             "minorgridcolor": "white",
             "startlinecolor": "#2a3f5f"
            },
            "baxis": {
             "endlinecolor": "#2a3f5f",
             "gridcolor": "white",
             "linecolor": "white",
             "minorgridcolor": "white",
             "startlinecolor": "#2a3f5f"
            },
            "type": "carpet"
           }
          ],
          "choropleth": [
           {
            "colorbar": {
             "outlinewidth": 0,
             "ticks": ""
            },
            "type": "choropleth"
           }
          ],
          "contour": [
           {
            "colorbar": {
             "outlinewidth": 0,
             "ticks": ""
            },
            "colorscale": [
             [
              0,
              "#0d0887"
             ],
             [
              0.1111111111111111,
              "#46039f"
             ],
             [
              0.2222222222222222,
              "#7201a8"
             ],
             [
              0.3333333333333333,
              "#9c179e"
             ],
             [
              0.4444444444444444,
              "#bd3786"
             ],
             [
              0.5555555555555556,
              "#d8576b"
             ],
             [
              0.6666666666666666,
              "#ed7953"
             ],
             [
              0.7777777777777778,
              "#fb9f3a"
             ],
             [
              0.8888888888888888,
              "#fdca26"
             ],
             [
              1,
              "#f0f921"
             ]
            ],
            "type": "contour"
           }
          ],
          "contourcarpet": [
           {
            "colorbar": {
             "outlinewidth": 0,
             "ticks": ""
            },
            "type": "contourcarpet"
           }
          ],
          "heatmap": [
           {
            "colorbar": {
             "outlinewidth": 0,
             "ticks": ""
            },
            "colorscale": [
             [
              0,
              "#0d0887"
             ],
             [
              0.1111111111111111,
              "#46039f"
             ],
             [
              0.2222222222222222,
              "#7201a8"
             ],
             [
              0.3333333333333333,
              "#9c179e"
             ],
             [
              0.4444444444444444,
              "#bd3786"
             ],
             [
              0.5555555555555556,
              "#d8576b"
             ],
             [
              0.6666666666666666,
              "#ed7953"
             ],
             [
              0.7777777777777778,
              "#fb9f3a"
             ],
             [
              0.8888888888888888,
              "#fdca26"
             ],
             [
              1,
              "#f0f921"
             ]
            ],
            "type": "heatmap"
           }
          ],
          "histogram": [
           {
            "marker": {
             "pattern": {
              "fillmode": "overlay",
              "size": 10,
              "solidity": 0.2
             }
            },
            "type": "histogram"
           }
          ],
          "histogram2d": [
           {
            "colorbar": {
             "outlinewidth": 0,
             "ticks": ""
            },
            "colorscale": [
             [
              0,
              "#0d0887"
             ],
             [
              0.1111111111111111,
              "#46039f"
             ],
             [
              0.2222222222222222,
              "#7201a8"
             ],
             [
              0.3333333333333333,
              "#9c179e"
             ],
             [
              0.4444444444444444,
              "#bd3786"
             ],
             [
              0.5555555555555556,
              "#d8576b"
             ],
             [
              0.6666666666666666,
              "#ed7953"
             ],
             [
              0.7777777777777778,
              "#fb9f3a"
             ],
             [
              0.8888888888888888,
              "#fdca26"
             ],
             [
              1,
              "#f0f921"
             ]
            ],
            "type": "histogram2d"
           }
          ],
          "histogram2dcontour": [
           {
            "colorbar": {
             "outlinewidth": 0,
             "ticks": ""
            },
            "colorscale": [
             [
              0,
              "#0d0887"
             ],
             [
              0.1111111111111111,
              "#46039f"
             ],
             [
              0.2222222222222222,
              "#7201a8"
             ],
             [
              0.3333333333333333,
              "#9c179e"
             ],
             [
              0.4444444444444444,
              "#bd3786"
             ],
             [
              0.5555555555555556,
              "#d8576b"
             ],
             [
              0.6666666666666666,
              "#ed7953"
             ],
             [
              0.7777777777777778,
              "#fb9f3a"
             ],
             [
              0.8888888888888888,
              "#fdca26"
             ],
             [
              1,
              "#f0f921"
             ]
            ],
            "type": "histogram2dcontour"
           }
          ],
          "mesh3d": [
           {
            "colorbar": {
             "outlinewidth": 0,
             "ticks": ""
            },
            "type": "mesh3d"
           }
          ],
          "parcoords": [
           {
            "line": {
             "colorbar": {
              "outlinewidth": 0,
              "ticks": ""
             }
            },
            "type": "parcoords"
           }
          ],
          "pie": [
           {
            "automargin": true,
            "type": "pie"
           }
          ],
          "scatter": [
           {
            "fillpattern": {
             "fillmode": "overlay",
             "size": 10,
             "solidity": 0.2
            },
            "type": "scatter"
           }
          ],
          "scatter3d": [
           {
            "line": {
             "colorbar": {
              "outlinewidth": 0,
              "ticks": ""
             }
            },
            "marker": {
             "colorbar": {
              "outlinewidth": 0,
              "ticks": ""
             }
            },
            "type": "scatter3d"
           }
          ],
          "scattercarpet": [
           {
            "marker": {
             "colorbar": {
              "outlinewidth": 0,
              "ticks": ""
             }
            },
            "type": "scattercarpet"
           }
          ],
          "scattergeo": [
           {
            "marker": {
             "colorbar": {
              "outlinewidth": 0,
              "ticks": ""
             }
            },
            "type": "scattergeo"
           }
          ],
          "scattergl": [
           {
            "marker": {
             "colorbar": {
              "outlinewidth": 0,
              "ticks": ""
             }
            },
            "type": "scattergl"
           }
          ],
          "scattermap": [
           {
            "marker": {
             "colorbar": {
              "outlinewidth": 0,
              "ticks": ""
             }
            },
            "type": "scattermap"
           }
          ],
          "scattermapbox": [
           {
            "marker": {
             "colorbar": {
              "outlinewidth": 0,
              "ticks": ""
             }
            },
            "type": "scattermapbox"
           }
          ],
          "scatterpolar": [
           {
            "marker": {
             "colorbar": {
              "outlinewidth": 0,
              "ticks": ""
             }
            },
            "type": "scatterpolar"
           }
          ],
          "scatterpolargl": [
           {
            "marker": {
             "colorbar": {
              "outlinewidth": 0,
              "ticks": ""
             }
            },
            "type": "scatterpolargl"
           }
          ],
          "scatterternary": [
           {
            "marker": {
             "colorbar": {
              "outlinewidth": 0,
              "ticks": ""
             }
            },
            "type": "scatterternary"
           }
          ],
          "surface": [
           {
            "colorbar": {
             "outlinewidth": 0,
             "ticks": ""
            },
            "colorscale": [
             [
              0,
              "#0d0887"
             ],
             [
              0.1111111111111111,
              "#46039f"
             ],
             [
              0.2222222222222222,
              "#7201a8"
             ],
             [
              0.3333333333333333,
              "#9c179e"
             ],
             [
              0.4444444444444444,
              "#bd3786"
             ],
             [
              0.5555555555555556,
              "#d8576b"
             ],
             [
              0.6666666666666666,
              "#ed7953"
             ],
             [
              0.7777777777777778,
              "#fb9f3a"
             ],
             [
              0.8888888888888888,
              "#fdca26"
             ],
             [
              1,
              "#f0f921"
             ]
            ],
            "type": "surface"
           }
          ],
          "table": [
           {
            "cells": {
             "fill": {
              "color": "#EBF0F8"
             },
             "line": {
              "color": "white"
             }
            },
            "header": {
             "fill": {
              "color": "#C8D4E3"
             },
             "line": {
              "color": "white"
             }
            },
            "type": "table"
           }
          ]
         },
         "layout": {
          "annotationdefaults": {
           "arrowcolor": "#2a3f5f",
           "arrowhead": 0,
           "arrowwidth": 1
          },
          "autotypenumbers": "strict",
          "coloraxis": {
           "colorbar": {
            "outlinewidth": 0,
            "ticks": ""
           }
          },
          "colorscale": {
           "diverging": [
            [
             0,
             "#8e0152"
            ],
            [
             0.1,
             "#c51b7d"
            ],
            [
             0.2,
             "#de77ae"
            ],
            [
             0.3,
             "#f1b6da"
            ],
            [
             0.4,
             "#fde0ef"
            ],
            [
             0.5,
             "#f7f7f7"
            ],
            [
             0.6,
             "#e6f5d0"
            ],
            [
             0.7,
             "#b8e186"
            ],
            [
             0.8,
             "#7fbc41"
            ],
            [
             0.9,
             "#4d9221"
            ],
            [
             1,
             "#276419"
            ]
           ],
           "sequential": [
            [
             0,
             "#0d0887"
            ],
            [
             0.1111111111111111,
             "#46039f"
            ],
            [
             0.2222222222222222,
             "#7201a8"
            ],
            [
             0.3333333333333333,
             "#9c179e"
            ],
            [
             0.4444444444444444,
             "#bd3786"
            ],
            [
             0.5555555555555556,
             "#d8576b"
            ],
            [
             0.6666666666666666,
             "#ed7953"
            ],
            [
             0.7777777777777778,
             "#fb9f3a"
            ],
            [
             0.8888888888888888,
             "#fdca26"
            ],
            [
             1,
             "#f0f921"
            ]
           ],
           "sequentialminus": [
            [
             0,
             "#0d0887"
            ],
            [
             0.1111111111111111,
             "#46039f"
            ],
            [
             0.2222222222222222,
             "#7201a8"
            ],
            [
             0.3333333333333333,
             "#9c179e"
            ],
            [
             0.4444444444444444,
             "#bd3786"
            ],
            [
             0.5555555555555556,
             "#d8576b"
            ],
            [
             0.6666666666666666,
             "#ed7953"
            ],
            [
             0.7777777777777778,
             "#fb9f3a"
            ],
            [
             0.8888888888888888,
             "#fdca26"
            ],
            [
             1,
             "#f0f921"
            ]
           ]
          },
          "colorway": [
           "#636efa",
           "#EF553B",
           "#00cc96",
           "#ab63fa",
           "#FFA15A",
           "#19d3f3",
           "#FF6692",
           "#B6E880",
           "#FF97FF",
           "#FECB52"
          ],
          "font": {
           "color": "#2a3f5f"
          },
          "geo": {
           "bgcolor": "white",
           "lakecolor": "white",
           "landcolor": "#E5ECF6",
           "showlakes": true,
           "showland": true,
           "subunitcolor": "white"
          },
          "hoverlabel": {
           "align": "left"
          },
          "hovermode": "closest",
          "mapbox": {
           "style": "light"
          },
          "paper_bgcolor": "white",
          "plot_bgcolor": "#E5ECF6",
          "polar": {
           "angularaxis": {
            "gridcolor": "white",
            "linecolor": "white",
            "ticks": ""
           },
           "bgcolor": "#E5ECF6",
           "radialaxis": {
            "gridcolor": "white",
            "linecolor": "white",
            "ticks": ""
           }
          },
          "scene": {
           "xaxis": {
            "backgroundcolor": "#E5ECF6",
            "gridcolor": "white",
            "gridwidth": 2,
            "linecolor": "white",
            "showbackground": true,
            "ticks": "",
            "zerolinecolor": "white"
           },
           "yaxis": {
            "backgroundcolor": "#E5ECF6",
            "gridcolor": "white",
            "gridwidth": 2,
            "linecolor": "white",
            "showbackground": true,
            "ticks": "",
            "zerolinecolor": "white"
           },
           "zaxis": {
            "backgroundcolor": "#E5ECF6",
            "gridcolor": "white",
            "gridwidth": 2,
            "linecolor": "white",
            "showbackground": true,
            "ticks": "",
            "zerolinecolor": "white"
           }
          },
          "shapedefaults": {
           "line": {
            "color": "#2a3f5f"
           }
          },
          "ternary": {
           "aaxis": {
            "gridcolor": "white",
            "linecolor": "white",
            "ticks": ""
           },
           "baxis": {
            "gridcolor": "white",
            "linecolor": "white",
            "ticks": ""
           },
           "bgcolor": "#E5ECF6",
           "caxis": {
            "gridcolor": "white",
            "linecolor": "white",
            "ticks": ""
           }
          },
          "title": {
           "x": 0.05
          },
          "xaxis": {
           "automargin": true,
           "gridcolor": "white",
           "linecolor": "white",
           "ticks": "",
           "title": {
            "standoff": 15
           },
           "zerolinecolor": "white",
           "zerolinewidth": 2
          },
          "yaxis": {
           "automargin": true,
           "gridcolor": "white",
           "linecolor": "white",
           "ticks": "",
           "title": {
            "standoff": 15
           },
           "zerolinecolor": "white",
           "zerolinewidth": 2
          }
         }
        },
        "xaxis": {
         "anchor": "y",
         "domain": [
          0,
          1
         ],
         "title": {
          "text": "frequency_steps"
         }
        },
        "yaxis": {
         "anchor": "x",
         "domain": [
          0,
          1
         ],
         "title": {
          "text": "acceleration_std"
         }
        }
       }
      }
     },
     "metadata": {},
     "output_type": "display_data"
    }
   ],
   "source": [
    "fig = px.scatter(df, x=\"frequency_steps\", y=\"acceleration_std\", color=\"name\", hover_data=[\"recording\"])\n",
    "fig.show()"
   ]
  },
  {
   "cell_type": "code",
   "execution_count": 7,
   "metadata": {},
   "outputs": [],
   "source": [
    "df.to_csv(\"./data/metrics.csv\")"
   ]
  }
 ],
 "metadata": {
  "kernelspec": {
   "display_name": "arduino-streamlit",
   "language": "python",
   "name": "python3"
  },
  "language_info": {
   "codemirror_mode": {
    "name": "ipython",
    "version": 3
   },
   "file_extension": ".py",
   "mimetype": "text/x-python",
   "name": "python",
   "nbconvert_exporter": "python",
   "pygments_lexer": "ipython3",
   "version": "3.10.16"
  }
 },
 "nbformat": 4,
 "nbformat_minor": 2
}
